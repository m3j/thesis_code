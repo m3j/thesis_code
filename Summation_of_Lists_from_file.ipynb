{
 "cells": [
  {
   "cell_type": "markdown",
   "id": "15769b40",
   "metadata": {},
   "source": [
    "### Basic functions\n",
    "this notebook is used for basic calculations\n",
    "\n",
    "    - Adding read counts when counted in terminal\n",
    "    - dividing reads to get only the value of forward read. "
   ]
  },
  {
   "cell_type": "code",
   "execution_count": 2,
   "id": "ffc4fc22",
   "metadata": {},
   "outputs": [],
   "source": [
    "import pandas as pd \n",
    "import numpy as np"
   ]
  },
  {
   "cell_type": "markdown",
   "id": "e4ee5349",
   "metadata": {},
   "source": [
    "#### adding readcounts from a list"
   ]
  },
  {
   "cell_type": "code",
   "execution_count": 3,
   "id": "bdca588a",
   "metadata": {},
   "outputs": [],
   "source": [
    "def summing_numbers_in_file(filepath):\n",
    "    f = open(filepath, \"r\")\n",
    "    file = f.read()\n",
    "    \n",
    "    fileList = file.split(\"\\n\")\n",
    "   \n",
    "    # removing items that is not numeric \n",
    "    for l in fileList:\n",
    "        if l.isnumeric()==False:\n",
    "            fileList.remove(l)\n",
    "            \n",
    "    fileIntList = list(map(int, fileList)) \n",
    "    \n",
    "    return sum(fileIntList)"
   ]
  },
  {
   "cell_type": "code",
   "execution_count": 4,
   "id": "fff9a26c",
   "metadata": {},
   "outputs": [],
   "source": [
    "def summing_numbers_with_more_seperators(filepath, seperator):\n",
    "\n",
    "    f = open(filepath, \"r\")\n",
    "    file = f.read()\n",
    "    \n",
    "    fileList = file.split(\"\\n\")\n",
    "    \n",
    "    fileList_split = [i.split(seperator, 1)[1] for i in fileList]\n",
    "\n",
    "    # removing items the is not numeric \n",
    "    for l in fileList_split:\n",
    "        if l.isnumeric()==False:\n",
    "            fileList_split.remove(l)\n",
    "            \n",
    "    fileIntList = list(map(int, fileList_split)) \n",
    "    \n",
    "    return sum(fileIntList)"
   ]
  },
  {
   "cell_type": "code",
   "execution_count": 5,
   "id": "6cfbdfa9",
   "metadata": {},
   "outputs": [],
   "source": [
    "singles_count = summing_numbers_in_file(\"count_singles.list\")"
   ]
  },
  {
   "cell_type": "code",
   "execution_count": 6,
   "id": "d3e2ed72",
   "metadata": {},
   "outputs": [],
   "source": [
    "r1_count = summing_numbers_in_file(\"count_r1.list\")"
   ]
  },
  {
   "cell_type": "code",
   "execution_count": 7,
   "id": "3bebd905",
   "metadata": {},
   "outputs": [
    {
     "data": {
      "text/plain": [
       "5850393084"
      ]
     },
     "execution_count": 7,
     "metadata": {},
     "output_type": "execute_result"
    }
   ],
   "source": [
    "r1_count"
   ]
  },
  {
   "cell_type": "code",
   "execution_count": 8,
   "id": "cae542ae",
   "metadata": {},
   "outputs": [],
   "source": [
    "total_count = r1_count * 2 + singles_count"
   ]
  },
  {
   "cell_type": "code",
   "execution_count": 9,
   "id": "fcd24563",
   "metadata": {},
   "outputs": [],
   "source": [
    "reads_count = total_count/4"
   ]
  },
  {
   "cell_type": "code",
   "execution_count": 10,
   "id": "96d333f4",
   "metadata": {},
   "outputs": [
    {
     "data": {
      "text/plain": [
       "2957817888.0"
      ]
     },
     "execution_count": 10,
     "metadata": {},
     "output_type": "execute_result"
    }
   ],
   "source": [
    "reads_count"
   ]
  },
  {
   "cell_type": "code",
   "execution_count": 11,
   "id": "7dd26475",
   "metadata": {},
   "outputs": [],
   "source": [
    "contigs_count = summing_numbers_with_more_seperators(\"count_contigs.list\", \":\")"
   ]
  },
  {
   "cell_type": "code",
   "execution_count": 12,
   "id": "77210c54",
   "metadata": {},
   "outputs": [
    {
     "name": "stdout",
     "output_type": "stream",
     "text": [
      "31217582\n"
     ]
    }
   ],
   "source": [
    "# contigs_count only contains headers so no furhter calculations needed \n",
    "print(contigs_count)"
   ]
  },
  {
   "cell_type": "code",
   "execution_count": 13,
   "id": "ca768715",
   "metadata": {},
   "outputs": [],
   "source": [
    "raw_reads_R1 = summing_numbers_in_file(\"count_rawreads_R1.list\")"
   ]
  },
  {
   "cell_type": "code",
   "execution_count": 14,
   "id": "30118a6b",
   "metadata": {},
   "outputs": [
    {
     "data": {
      "text/plain": [
       "3042581492.0"
      ]
     },
     "execution_count": 14,
     "metadata": {},
     "output_type": "execute_result"
    }
   ],
   "source": [
    "(raw_reads_R1 * 2) /4"
   ]
  },
  {
   "cell_type": "markdown",
   "id": "be25279c",
   "metadata": {},
   "source": [
    "### Dividing the reads in two"
   ]
  },
  {
   "cell_type": "code",
   "execution_count": 36,
   "id": "40dbcc9a",
   "metadata": {},
   "outputs": [],
   "source": [
    "NZ_reads = pd.read_csv('3regionData/Sample_Rawreads_NZ.tsv', sep = '\\t')"
   ]
  },
  {
   "cell_type": "code",
   "execution_count": 37,
   "id": "8843d706",
   "metadata": {},
   "outputs": [],
   "source": [
    "NZ_reads['#Rawreads'] = NZ_reads['#Rawreads'].astype(int)"
   ]
  },
  {
   "cell_type": "code",
   "execution_count": 38,
   "id": "3dc9b8e8",
   "metadata": {},
   "outputs": [
    {
     "data": {
      "text/plain": [
       "0      265275932\n",
       "1      261070644\n",
       "2      259086484\n",
       "3      246402572\n",
       "4      244068892\n",
       "         ...    \n",
       "316    102916696\n",
       "317     99312498\n",
       "318     98078308\n",
       "319     96545846\n",
       "320     42722198\n",
       "Name: #Rawreads, Length: 321, dtype: int64"
      ]
     },
     "execution_count": 38,
     "metadata": {},
     "output_type": "execute_result"
    }
   ],
   "source": [
    "NZ_reads['#Rawreads']"
   ]
  },
  {
   "cell_type": "code",
   "execution_count": 39,
   "id": "345c906e",
   "metadata": {},
   "outputs": [],
   "source": [
    "NZ_reads['#Rawreads'] = NZ_reads['#Rawreads']/2"
   ]
  },
  {
   "cell_type": "code",
   "execution_count": 40,
   "id": "b682b74a",
   "metadata": {},
   "outputs": [],
   "source": [
    "NZ_reads['#Rawreads'] = NZ_reads['#Rawreads'].astype(int)"
   ]
  },
  {
   "cell_type": "code",
   "execution_count": 41,
   "id": "19b595ac",
   "metadata": {},
   "outputs": [
    {
     "data": {
      "text/html": [
       "<div>\n",
       "<style scoped>\n",
       "    .dataframe tbody tr th:only-of-type {\n",
       "        vertical-align: middle;\n",
       "    }\n",
       "\n",
       "    .dataframe tbody tr th {\n",
       "        vertical-align: top;\n",
       "    }\n",
       "\n",
       "    .dataframe thead th {\n",
       "        text-align: right;\n",
       "    }\n",
       "</style>\n",
       "<table border=\"1\" class=\"dataframe\">\n",
       "  <thead>\n",
       "    <tr style=\"text-align: right;\">\n",
       "      <th></th>\n",
       "      <th>Sample</th>\n",
       "      <th>#Rawreads</th>\n",
       "    </tr>\n",
       "  </thead>\n",
       "  <tbody>\n",
       "    <tr>\n",
       "      <th>0</th>\n",
       "      <td>F1606-058</td>\n",
       "      <td>132637966</td>\n",
       "    </tr>\n",
       "    <tr>\n",
       "      <th>1</th>\n",
       "      <td>F1604-045</td>\n",
       "      <td>130535322</td>\n",
       "    </tr>\n",
       "    <tr>\n",
       "      <th>2</th>\n",
       "      <td>F1604-007</td>\n",
       "      <td>129543242</td>\n",
       "    </tr>\n",
       "    <tr>\n",
       "      <th>3</th>\n",
       "      <td>F1605-009</td>\n",
       "      <td>123201286</td>\n",
       "    </tr>\n",
       "    <tr>\n",
       "      <th>4</th>\n",
       "      <td>F1604-022</td>\n",
       "      <td>122034446</td>\n",
       "    </tr>\n",
       "    <tr>\n",
       "      <th>...</th>\n",
       "      <td>...</td>\n",
       "      <td>...</td>\n",
       "    </tr>\n",
       "    <tr>\n",
       "      <th>316</th>\n",
       "      <td>F1513-219</td>\n",
       "      <td>51458348</td>\n",
       "    </tr>\n",
       "    <tr>\n",
       "      <th>317</th>\n",
       "      <td>F1602_059</td>\n",
       "      <td>49656249</td>\n",
       "    </tr>\n",
       "    <tr>\n",
       "      <th>318</th>\n",
       "      <td>F1604_039</td>\n",
       "      <td>49039154</td>\n",
       "    </tr>\n",
       "    <tr>\n",
       "      <th>319</th>\n",
       "      <td>F1608_001_3</td>\n",
       "      <td>48272923</td>\n",
       "    </tr>\n",
       "    <tr>\n",
       "      <th>320</th>\n",
       "      <td>F1513-078</td>\n",
       "      <td>21361099</td>\n",
       "    </tr>\n",
       "  </tbody>\n",
       "</table>\n",
       "<p>321 rows × 2 columns</p>\n",
       "</div>"
      ],
      "text/plain": [
       "          Sample  #Rawreads\n",
       "0      F1606-058  132637966\n",
       "1      F1604-045  130535322\n",
       "2      F1604-007  129543242\n",
       "3      F1605-009  123201286\n",
       "4      F1604-022  122034446\n",
       "..           ...        ...\n",
       "316    F1513-219   51458348\n",
       "317    F1602_059   49656249\n",
       "318    F1604_039   49039154\n",
       "319  F1608_001_3   48272923\n",
       "320    F1513-078   21361099\n",
       "\n",
       "[321 rows x 2 columns]"
      ]
     },
     "execution_count": 41,
     "metadata": {},
     "output_type": "execute_result"
    }
   ],
   "source": [
    "NZ_reads"
   ]
  },
  {
   "cell_type": "code",
   "execution_count": 26,
   "id": "35c98252",
   "metadata": {},
   "outputs": [],
   "source": [
    "NZ_reads.to_csv('NZ_samples_1read_ID.csv', index=False)"
   ]
  },
  {
   "cell_type": "code",
   "execution_count": null,
   "id": "a8effb8d",
   "metadata": {},
   "outputs": [],
   "source": []
  }
 ],
 "metadata": {
  "kernelspec": {
   "display_name": "Python 3 (ipykernel)",
   "language": "python",
   "name": "python3"
  },
  "language_info": {
   "codemirror_mode": {
    "name": "ipython",
    "version": 3
   },
   "file_extension": ".py",
   "mimetype": "text/x-python",
   "name": "python",
   "nbconvert_exporter": "python",
   "pygments_lexer": "ipython3",
   "version": "3.7.4"
  }
 },
 "nbformat": 4,
 "nbformat_minor": 5
}

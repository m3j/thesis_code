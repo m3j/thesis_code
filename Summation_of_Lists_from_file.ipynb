{
 "cells": [
  {
   "cell_type": "code",
   "execution_count": 2,
   "id": "ffc4fc22",
   "metadata": {},
   "outputs": [],
   "source": [
    "import pandas as pd \n",
    "import numpy as np"
   ]
  },
  {
   "cell_type": "markdown",
   "id": "e4ee5349",
   "metadata": {},
   "source": [
    "#### counting the numeric values in a list "
   ]
  },
  {
   "cell_type": "code",
   "execution_count": 3,
   "id": "bdca588a",
   "metadata": {},
   "outputs": [],
   "source": [
    "def summing_numbers_in_file(filepath):\n",
    "    f = open(filepath, \"r\")\n",
    "    file = f.read()\n",
    "    \n",
    "    fileList = file.split(\"\\n\")\n",
    "   \n",
    "    # removing items the is not numeric \n",
    "    for l in fileList:\n",
    "        if l.isnumeric()==False:\n",
    "            fileList.remove(l)\n",
    "            \n",
    "    fileIntList = list(map(int, fileList)) \n",
    "    \n",
    "    return sum(fileIntList)"
   ]
  },
  {
   "cell_type": "code",
   "execution_count": 4,
   "id": "fff9a26c",
   "metadata": {},
   "outputs": [],
   "source": [
    "def summing_numbers_with_more_seperators(filepath, seperator):\n",
    "\n",
    "    f = open(filepath, \"r\")\n",
    "    file = f.read()\n",
    "    \n",
    "    fileList = file.split(\"\\n\")\n",
    "    \n",
    "    fileList_split = [i.split(seperator, 1)[1] for i in fileList]\n",
    "\n",
    "    # removing items the is not numeric \n",
    "    for l in fileList_split:\n",
    "        if l.isnumeric()==False:\n",
    "            fileList_split.remove(l)\n",
    "            \n",
    "    fileIntList = list(map(int, fileList_split)) \n",
    "    \n",
    "    return sum(fileIntList)"
   ]
  },
  {
   "cell_type": "code",
   "execution_count": 5,
   "id": "6cfbdfa9",
   "metadata": {},
   "outputs": [],
   "source": [
    "singles_count = summing_numbers_in_file(\"count_singles.list\")"
   ]
  },
  {
   "cell_type": "code",
   "execution_count": 6,
   "id": "d3e2ed72",
   "metadata": {},
   "outputs": [],
   "source": [
    "r1_count = summing_numbers_in_file(\"count_r1.list\")"
   ]
  },
  {
   "cell_type": "code",
   "execution_count": 7,
   "id": "3bebd905",
   "metadata": {},
   "outputs": [
    {
     "data": {
      "text/plain": [
       "5850393084"
      ]
     },
     "execution_count": 7,
     "metadata": {},
     "output_type": "execute_result"
    }
   ],
   "source": [
    "r1_count"
   ]
  },
  {
   "cell_type": "code",
   "execution_count": 8,
   "id": "cae542ae",
   "metadata": {},
   "outputs": [],
   "source": [
    "total_count = r1_count * 2 + singles_count"
   ]
  },
  {
   "cell_type": "code",
   "execution_count": 9,
   "id": "fcd24563",
   "metadata": {},
   "outputs": [],
   "source": [
    "reads_count = total_count/4"
   ]
  },
  {
   "cell_type": "code",
   "execution_count": 10,
   "id": "96d333f4",
   "metadata": {},
   "outputs": [
    {
     "data": {
      "text/plain": [
       "2957817888.0"
      ]
     },
     "execution_count": 10,
     "metadata": {},
     "output_type": "execute_result"
    }
   ],
   "source": [
    "reads_count"
   ]
  },
  {
   "cell_type": "code",
   "execution_count": 11,
   "id": "7dd26475",
   "metadata": {},
   "outputs": [],
   "source": [
    "contigs_count = summing_numbers_with_more_seperators(\"count_contigs.list\", \":\")"
   ]
  },
  {
   "cell_type": "code",
   "execution_count": 12,
   "id": "77210c54",
   "metadata": {},
   "outputs": [
    {
     "name": "stdout",
     "output_type": "stream",
     "text": [
      "31217582\n"
     ]
    }
   ],
   "source": [
    "# contigs_count only contains headers so no furhter calculations needed \n",
    "print(contigs_count)"
   ]
  },
  {
   "cell_type": "code",
   "execution_count": 13,
   "id": "ca768715",
   "metadata": {},
   "outputs": [],
   "source": [
    "raw_reads_R1 = summing_numbers_in_file(\"count_rawreads_R1.list\")"
   ]
  },
  {
   "cell_type": "code",
   "execution_count": 14,
   "id": "30118a6b",
   "metadata": {},
   "outputs": [
    {
     "data": {
      "text/plain": [
       "3042581492.0"
      ]
     },
     "execution_count": 14,
     "metadata": {},
     "output_type": "execute_result"
    }
   ],
   "source": [
    "(raw_reads_R1 * 2) /4"
   ]
  },
  {
   "cell_type": "code",
   "execution_count": null,
   "id": "f86d9e5c",
   "metadata": {},
   "outputs": [],
   "source": []
  }
 ],
 "metadata": {
  "kernelspec": {
   "display_name": "Python 3 (ipykernel)",
   "language": "python",
   "name": "python3"
  },
  "language_info": {
   "codemirror_mode": {
    "name": "ipython",
    "version": 3
   },
   "file_extension": ".py",
   "mimetype": "text/x-python",
   "name": "python",
   "nbconvert_exporter": "python",
   "pygments_lexer": "ipython3",
   "version": "3.7.4"
  }
 },
 "nbformat": 4,
 "nbformat_minor": 5
}

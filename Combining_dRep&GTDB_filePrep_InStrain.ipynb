{
 "cells": [
  {
   "cell_type": "code",
   "execution_count": 3,
   "id": "cb4b9464",
   "metadata": {},
   "outputs": [],
   "source": [
    "import pandas as pd\n",
    "import numpy as np"
   ]
  },
  {
   "cell_type": "markdown",
   "id": "62b4acd8",
   "metadata": {},
   "source": [
    "#### Reading dataframes created in [SpeciesBinPlotWithQuality](SpeciesBinPlotWithQuality.ipynb.ipynb#section_id2) notebook"
   ]
  },
  {
   "cell_type": "markdown",
   "id": "5fe6637d",
   "metadata": {},
   "source": [
    "<a id='section_id2'></a>"
   ]
  },
  {
   "cell_type": "code",
   "execution_count": 4,
   "id": "7fdcee47",
   "metadata": {},
   "outputs": [],
   "source": [
    "df_lactobacillus_HQ = pd.read_csv('data56_related_files/HighQLactobacillus')\n",
    "df_alistipes_HQ = pd.read_csv('data56_related_files/HighQAlistipes')\n",
    "df_lactobacillacea_HQ = pd.read_csv('data56_related_files/HighQLactobacillaceae')\n",
    "df_NCBI_lactobacillus_HQ = pd.read_csv('data56_related_files/HighQ_NCBI_Lactobacillus')\n",
    "df_dereplicated_bins = pd.read_csv('data56_related_files/derepelicatedBins_dRep.tsv')"
   ]
  },
  {
   "cell_type": "markdown",
   "id": "3c430e58",
   "metadata": {},
   "source": [
    "#### Renaming column to same key name and removing extension"
   ]
  },
  {
   "cell_type": "code",
   "execution_count": 5,
   "id": "4a1da305",
   "metadata": {},
   "outputs": [],
   "source": [
    "df_dereplicated_bins = df_dereplicated_bins.rename({'derepelicatedBins_dRep': 'Bin_Id'}, axis=1)"
   ]
  },
  {
   "cell_type": "code",
   "execution_count": 6,
   "id": "adc82516",
   "metadata": {},
   "outputs": [],
   "source": [
    "df_dereplicated_bins['Bin_Id'] = df_dereplicated_bins['Bin_Id'].map(lambda x: x.rstrip('.fna'))"
   ]
  },
  {
   "cell_type": "code",
   "execution_count": 7,
   "id": "229f1b15",
   "metadata": {
    "scrolled": true
   },
   "outputs": [
    {
     "data": {
      "text/html": [
       "<div>\n",
       "<style scoped>\n",
       "    .dataframe tbody tr th:only-of-type {\n",
       "        vertical-align: middle;\n",
       "    }\n",
       "\n",
       "    .dataframe tbody tr th {\n",
       "        vertical-align: top;\n",
       "    }\n",
       "\n",
       "    .dataframe thead th {\n",
       "        text-align: right;\n",
       "    }\n",
       "</style>\n",
       "<table border=\"1\" class=\"dataframe\">\n",
       "  <thead>\n",
       "    <tr style=\"text-align: right;\">\n",
       "      <th></th>\n",
       "      <th>Bin_Id</th>\n",
       "    </tr>\n",
       "  </thead>\n",
       "  <tbody>\n",
       "    <tr>\n",
       "      <th>0</th>\n",
       "      <td>S10C1039</td>\n",
       "    </tr>\n",
       "    <tr>\n",
       "      <th>1</th>\n",
       "      <td>S10C1295</td>\n",
       "    </tr>\n",
       "    <tr>\n",
       "      <th>2</th>\n",
       "      <td>S10C1297</td>\n",
       "    </tr>\n",
       "    <tr>\n",
       "      <th>3</th>\n",
       "      <td>S10C15900</td>\n",
       "    </tr>\n",
       "    <tr>\n",
       "      <th>4</th>\n",
       "      <td>S10C2556</td>\n",
       "    </tr>\n",
       "    <tr>\n",
       "      <th>...</th>\n",
       "      <td>...</td>\n",
       "    </tr>\n",
       "    <tr>\n",
       "      <th>728</th>\n",
       "      <td>S9C61</td>\n",
       "    </tr>\n",
       "    <tr>\n",
       "      <th>729</th>\n",
       "      <td>S9C8881</td>\n",
       "    </tr>\n",
       "    <tr>\n",
       "      <th>730</th>\n",
       "      <td>S9C92</td>\n",
       "    </tr>\n",
       "    <tr>\n",
       "      <th>731</th>\n",
       "      <td>S9C962</td>\n",
       "    </tr>\n",
       "    <tr>\n",
       "      <th>732</th>\n",
       "      <td>S9C99</td>\n",
       "    </tr>\n",
       "  </tbody>\n",
       "</table>\n",
       "<p>733 rows × 1 columns</p>\n",
       "</div>"
      ],
      "text/plain": [
       "        Bin_Id\n",
       "0     S10C1039\n",
       "1     S10C1295\n",
       "2     S10C1297\n",
       "3    S10C15900\n",
       "4     S10C2556\n",
       "..         ...\n",
       "728      S9C61\n",
       "729    S9C8881\n",
       "730      S9C92\n",
       "731     S9C962\n",
       "732      S9C99\n",
       "\n",
       "[733 rows x 1 columns]"
      ]
     },
     "execution_count": 7,
     "metadata": {},
     "output_type": "execute_result"
    }
   ],
   "source": [
    "df_dereplicated_bins"
   ]
  },
  {
   "cell_type": "code",
   "execution_count": null,
   "id": "1188d419",
   "metadata": {},
   "outputs": [],
   "source": []
  },
  {
   "cell_type": "markdown",
   "id": "682defa2",
   "metadata": {},
   "source": [
    "#### Joining dereplicated bins with high quality bins using 'inner' keeping those who are in both datasets. "
   ]
  },
  {
   "cell_type": "code",
   "execution_count": 8,
   "id": "38bab24a",
   "metadata": {},
   "outputs": [],
   "source": [
    "derep_Lactobacillus = pd.merge(df_lactobacillus_HQ, df_dereplicated_bins, how=\"inner\", on='Bin_Id')"
   ]
  },
  {
   "cell_type": "code",
   "execution_count": 9,
   "id": "ccbea237",
   "metadata": {},
   "outputs": [
    {
     "data": {
      "text/plain": [
       "0    s__Lactobacillus gallinarum\n",
       "1     s__Lactobacillus crispatus\n",
       "2     s__Lactobacillus johnsonii\n",
       "3                            s__\n",
       "Name: Species, dtype: object"
      ]
     },
     "execution_count": 9,
     "metadata": {},
     "output_type": "execute_result"
    }
   ],
   "source": [
    "derep_Lactobacillus['Species']"
   ]
  },
  {
   "cell_type": "code",
   "execution_count": 10,
   "id": "2e947bfd",
   "metadata": {},
   "outputs": [],
   "source": [
    "derep_Alistipes = pd.merge(df_alistipes_HQ, df_dereplicated_bins, how=\"inner\", on='Bin_Id')"
   ]
  },
  {
   "cell_type": "code",
   "execution_count": 11,
   "id": "ef4a7d72",
   "metadata": {
    "scrolled": true
   },
   "outputs": [
    {
     "data": {
      "text/plain": [
       "0     s__Alistipes sp000434235\n",
       "1     s__Alistipes sp900544265\n",
       "2      s__Alistipes finegoldii\n",
       "3     s__Alistipes sp002161445\n",
       "4        s__Alistipes communis\n",
       "5     s__Alistipes sp900021155\n",
       "6     s__Alistipes sp900542505\n",
       "7                          s__\n",
       "8     s__Alistipes onderdonkii\n",
       "9                          s__\n",
       "10         s__Alistipes dispar\n",
       "11    s__Alistipes sp900544265\n",
       "12                         s__\n",
       "13                         s__\n",
       "14    s__Alistipes sp900546065\n",
       "15                         s__\n",
       "16    s__Alistipes sp900546065\n",
       "17    s__Alistipes sp900290115\n",
       "18    s__Alistipes sp900544265\n",
       "19    s__Alistipes sp002161445\n",
       "20    s__Alistipes sp900546065\n",
       "Name: Species, dtype: object"
      ]
     },
     "execution_count": 11,
     "metadata": {},
     "output_type": "execute_result"
    }
   ],
   "source": [
    "derep_Alistipes['Species']"
   ]
  },
  {
   "cell_type": "code",
   "execution_count": 12,
   "id": "5d79a9e9",
   "metadata": {},
   "outputs": [],
   "source": [
    "derep_Lactobacillaceae = pd.merge(df_lactobacillacea_HQ, df_dereplicated_bins, how=\"inner\", on='Bin_Id')"
   ]
  },
  {
   "cell_type": "code",
   "execution_count": 13,
   "id": "39eea383",
   "metadata": {},
   "outputs": [
    {
     "data": {
      "text/plain": [
       "29"
      ]
     },
     "execution_count": 13,
     "metadata": {},
     "output_type": "execute_result"
    }
   ],
   "source": [
    "len(derep_Lactobacillaceae)"
   ]
  },
  {
   "cell_type": "code",
   "execution_count": 14,
   "id": "b83fe307",
   "metadata": {},
   "outputs": [
    {
     "data": {
      "text/plain": [
       "14"
      ]
     },
     "execution_count": 14,
     "metadata": {},
     "output_type": "execute_result"
    }
   ],
   "source": [
    "derep_Lactobacillaceae['Species'].nunique()"
   ]
  },
  {
   "cell_type": "code",
   "execution_count": 15,
   "id": "1be6f2e0",
   "metadata": {
    "scrolled": true
   },
   "outputs": [
    {
     "data": {
      "text/plain": [
       "0        s__Limosilactobacillus ingluviei\n",
       "1             s__Ligilactobacillus agilis\n",
       "2                                     s__\n",
       "3                                     s__\n",
       "4     s__Limosilactobacillus coleohominis\n",
       "5        s__Limosilactobacillus vaginalis\n",
       "6           s__Ligilactobacillus aviarius\n",
       "7        s__Limosilactobacillus ingluviei\n",
       "8                                     s__\n",
       "9                                     s__\n",
       "10       s__Limosilactobacillus ingluviei\n",
       "11       s__Limosilactobacillus reuteri_E\n",
       "12            s__Ligilactobacillus agilis\n",
       "13        s__Ligilactobacillus salivarius\n",
       "14          s__Ligilactobacillus aviarius\n",
       "15            s__Lactobacillus gallinarum\n",
       "16                                    s__\n",
       "17            s__Ligilactobacillus agilis\n",
       "18             s__Lactobacillus crispatus\n",
       "19        s__Ligilactobacillus salivarius\n",
       "20                                    s__\n",
       "21            s__Limosilactobacillus oris\n",
       "22       s__Limosilactobacillus ingluviei\n",
       "23                   s__Weissella confusa\n",
       "24             s__Lactobacillus johnsonii\n",
       "25                                    s__\n",
       "26            s__Limosilactobacillus oris\n",
       "27     s__Companilactobacillus farciminis\n",
       "28                                    s__\n",
       "Name: Species, dtype: object"
      ]
     },
     "execution_count": 15,
     "metadata": {},
     "output_type": "execute_result"
    }
   ],
   "source": [
    "derep_Lactobacillaceae['Species']  "
   ]
  },
  {
   "cell_type": "markdown",
   "id": "fbc7241c",
   "metadata": {},
   "source": [
    "#### Saving the bin ids for the high quality bins which was not removed by drep in the Lactobacillacea dataframe. \n",
    "These will be used as reference genomes in inStrain"
   ]
  },
  {
   "cell_type": "code",
   "execution_count": 16,
   "id": "651df1bb",
   "metadata": {},
   "outputs": [],
   "source": [
    "derep_Lactobacillaceae['Bin_Id'].to_csv('data56_related_files/derep_lactobacillaceae_bins.csv', index = False)"
   ]
  },
  {
   "cell_type": "markdown",
   "id": "84e0e4e3",
   "metadata": {},
   "source": [
    "#### Generating header names for ref bins \n",
    "This is done to resemble the downloaded reference genomes including species so they are easily manipulated later"
   ]
  },
  {
   "cell_type": "code",
   "execution_count": 17,
   "id": "cbcf72d1",
   "metadata": {},
   "outputs": [],
   "source": [
    "df_headers = derep_Lactobacillaceae[['Genus', 'Species', 'Bin_Id']]"
   ]
  },
  {
   "cell_type": "code",
   "execution_count": 18,
   "id": "3d6bafc9",
   "metadata": {},
   "outputs": [
    {
     "name": "stderr",
     "output_type": "stream",
     "text": [
      "/usr/local/lib/python3.7/site-packages/ipykernel_launcher.py:1: SettingWithCopyWarning: \n",
      "A value is trying to be set on a copy of a slice from a DataFrame.\n",
      "Try using .loc[row_indexer,col_indexer] = value instead\n",
      "\n",
      "See the caveats in the documentation: https://pandas.pydata.org/pandas-docs/stable/user_guide/indexing.html#returning-a-view-versus-a-copy\n",
      "  \"\"\"Entry point for launching an IPython kernel.\n"
     ]
    }
   ],
   "source": [
    "df_headers['header'] = ''\n",
    "for index, row in df_headers.iterrows():\n",
    "    if (row['Species'] == 's__'):\n",
    "        row[\"header\"] = row[\"Genus\"] + row[\"Species\"] + row[\"Bin_Id\"]\n",
    "    else:\n",
    "        row[\"header\"] = row[\"Species\"] + row[\"Bin_Id\"]"
   ]
  },
  {
   "cell_type": "code",
   "execution_count": 19,
   "id": "e316d56f",
   "metadata": {},
   "outputs": [
    {
     "data": {
      "text/html": [
       "<div>\n",
       "<style scoped>\n",
       "    .dataframe tbody tr th:only-of-type {\n",
       "        vertical-align: middle;\n",
       "    }\n",
       "\n",
       "    .dataframe tbody tr th {\n",
       "        vertical-align: top;\n",
       "    }\n",
       "\n",
       "    .dataframe thead th {\n",
       "        text-align: right;\n",
       "    }\n",
       "</style>\n",
       "<table border=\"1\" class=\"dataframe\">\n",
       "  <thead>\n",
       "    <tr style=\"text-align: right;\">\n",
       "      <th></th>\n",
       "      <th>Genus</th>\n",
       "      <th>Species</th>\n",
       "      <th>Bin_Id</th>\n",
       "      <th>header</th>\n",
       "    </tr>\n",
       "  </thead>\n",
       "  <tbody>\n",
       "    <tr>\n",
       "      <th>0</th>\n",
       "      <td>g__Limosilactobacillus</td>\n",
       "      <td>s__Limosilactobacillus ingluviei</td>\n",
       "      <td>S10C1039</td>\n",
       "      <td>s__Limosilactobacillus ingluvieiS10C1039</td>\n",
       "    </tr>\n",
       "    <tr>\n",
       "      <th>1</th>\n",
       "      <td>g__Ligilactobacillus</td>\n",
       "      <td>s__Ligilactobacillus agilis</td>\n",
       "      <td>S10C1297</td>\n",
       "      <td>s__Ligilactobacillus agilisS10C1297</td>\n",
       "    </tr>\n",
       "    <tr>\n",
       "      <th>2</th>\n",
       "      <td>g__Ligilactobacillus</td>\n",
       "      <td>s__</td>\n",
       "      <td>S10C3913</td>\n",
       "      <td>g__Ligilactobacilluss__S10C3913</td>\n",
       "    </tr>\n",
       "    <tr>\n",
       "      <th>3</th>\n",
       "      <td>g__Ligilactobacillus</td>\n",
       "      <td>s__</td>\n",
       "      <td>S10C455</td>\n",
       "      <td>g__Ligilactobacilluss__S10C455</td>\n",
       "    </tr>\n",
       "    <tr>\n",
       "      <th>4</th>\n",
       "      <td>g__Limosilactobacillus</td>\n",
       "      <td>s__Limosilactobacillus coleohominis</td>\n",
       "      <td>S12C1500</td>\n",
       "      <td>s__Limosilactobacillus coleohominisS12C1500</td>\n",
       "    </tr>\n",
       "  </tbody>\n",
       "</table>\n",
       "</div>"
      ],
      "text/plain": [
       "                    Genus                              Species    Bin_Id  \\\n",
       "0  g__Limosilactobacillus     s__Limosilactobacillus ingluviei  S10C1039   \n",
       "1    g__Ligilactobacillus          s__Ligilactobacillus agilis  S10C1297   \n",
       "2    g__Ligilactobacillus                                  s__  S10C3913   \n",
       "3    g__Ligilactobacillus                                  s__   S10C455   \n",
       "4  g__Limosilactobacillus  s__Limosilactobacillus coleohominis  S12C1500   \n",
       "\n",
       "                                        header  \n",
       "0     s__Limosilactobacillus ingluvieiS10C1039  \n",
       "1          s__Ligilactobacillus agilisS10C1297  \n",
       "2              g__Ligilactobacilluss__S10C3913  \n",
       "3               g__Ligilactobacilluss__S10C455  \n",
       "4  s__Limosilactobacillus coleohominisS12C1500  "
      ]
     },
     "execution_count": 19,
     "metadata": {},
     "output_type": "execute_result"
    }
   ],
   "source": [
    "df_headers.head(5)"
   ]
  },
  {
   "cell_type": "code",
   "execution_count": 20,
   "id": "3c64c36e",
   "metadata": {},
   "outputs": [
    {
     "name": "stderr",
     "output_type": "stream",
     "text": [
      "/usr/local/lib/python3.7/site-packages/ipykernel_launcher.py:1: SettingWithCopyWarning: \n",
      "A value is trying to be set on a copy of a slice from a DataFrame.\n",
      "Try using .loc[row_indexer,col_indexer] = value instead\n",
      "\n",
      "See the caveats in the documentation: https://pandas.pydata.org/pandas-docs/stable/user_guide/indexing.html#returning-a-view-versus-a-copy\n",
      "  \"\"\"Entry point for launching an IPython kernel.\n",
      "/usr/local/lib/python3.7/site-packages/ipykernel_launcher.py:2: SettingWithCopyWarning: \n",
      "A value is trying to be set on a copy of a slice from a DataFrame.\n",
      "Try using .loc[row_indexer,col_indexer] = value instead\n",
      "\n",
      "See the caveats in the documentation: https://pandas.pydata.org/pandas-docs/stable/user_guide/indexing.html#returning-a-view-versus-a-copy\n",
      "  \n",
      "/usr/local/lib/python3.7/site-packages/ipykernel_launcher.py:3: SettingWithCopyWarning: \n",
      "A value is trying to be set on a copy of a slice from a DataFrame.\n",
      "Try using .loc[row_indexer,col_indexer] = value instead\n",
      "\n",
      "See the caveats in the documentation: https://pandas.pydata.org/pandas-docs/stable/user_guide/indexing.html#returning-a-view-versus-a-copy\n",
      "  This is separate from the ipykernel package so we can avoid doing imports until\n"
     ]
    }
   ],
   "source": [
    "df_headers['header'] = df_headers['header'].str.replace(r'g__', '')\n",
    "df_headers['header'] = df_headers['header'].str.replace(r'S', '_S')\n",
    "df_headers['header'] = df_headers['header'].str.replace(r's__', ' ')"
   ]
  },
  {
   "cell_type": "code",
   "execution_count": 21,
   "id": "f8297056",
   "metadata": {},
   "outputs": [
    {
     "data": {
      "text/html": [
       "<div>\n",
       "<style scoped>\n",
       "    .dataframe tbody tr th:only-of-type {\n",
       "        vertical-align: middle;\n",
       "    }\n",
       "\n",
       "    .dataframe tbody tr th {\n",
       "        vertical-align: top;\n",
       "    }\n",
       "\n",
       "    .dataframe thead th {\n",
       "        text-align: right;\n",
       "    }\n",
       "</style>\n",
       "<table border=\"1\" class=\"dataframe\">\n",
       "  <thead>\n",
       "    <tr style=\"text-align: right;\">\n",
       "      <th></th>\n",
       "      <th>Genus</th>\n",
       "      <th>Species</th>\n",
       "      <th>Bin_Id</th>\n",
       "      <th>header</th>\n",
       "    </tr>\n",
       "  </thead>\n",
       "  <tbody>\n",
       "    <tr>\n",
       "      <th>0</th>\n",
       "      <td>g__Limosilactobacillus</td>\n",
       "      <td>s__Limosilactobacillus ingluviei</td>\n",
       "      <td>S10C1039</td>\n",
       "      <td>Limosilactobacillus ingluviei_S10C1039</td>\n",
       "    </tr>\n",
       "    <tr>\n",
       "      <th>1</th>\n",
       "      <td>g__Ligilactobacillus</td>\n",
       "      <td>s__Ligilactobacillus agilis</td>\n",
       "      <td>S10C1297</td>\n",
       "      <td>Ligilactobacillus agilis_S10C1297</td>\n",
       "    </tr>\n",
       "    <tr>\n",
       "      <th>2</th>\n",
       "      <td>g__Ligilactobacillus</td>\n",
       "      <td>s__</td>\n",
       "      <td>S10C3913</td>\n",
       "      <td>Ligilactobacillus _S10C3913</td>\n",
       "    </tr>\n",
       "    <tr>\n",
       "      <th>3</th>\n",
       "      <td>g__Ligilactobacillus</td>\n",
       "      <td>s__</td>\n",
       "      <td>S10C455</td>\n",
       "      <td>Ligilactobacillus _S10C455</td>\n",
       "    </tr>\n",
       "    <tr>\n",
       "      <th>4</th>\n",
       "      <td>g__Limosilactobacillus</td>\n",
       "      <td>s__Limosilactobacillus coleohominis</td>\n",
       "      <td>S12C1500</td>\n",
       "      <td>Limosilactobacillus coleohominis_S12C1500</td>\n",
       "    </tr>\n",
       "  </tbody>\n",
       "</table>\n",
       "</div>"
      ],
      "text/plain": [
       "                    Genus                              Species    Bin_Id  \\\n",
       "0  g__Limosilactobacillus     s__Limosilactobacillus ingluviei  S10C1039   \n",
       "1    g__Ligilactobacillus          s__Ligilactobacillus agilis  S10C1297   \n",
       "2    g__Ligilactobacillus                                  s__  S10C3913   \n",
       "3    g__Ligilactobacillus                                  s__   S10C455   \n",
       "4  g__Limosilactobacillus  s__Limosilactobacillus coleohominis  S12C1500   \n",
       "\n",
       "                                       header  \n",
       "0      Limosilactobacillus ingluviei_S10C1039  \n",
       "1           Ligilactobacillus agilis_S10C1297  \n",
       "2                 Ligilactobacillus _S10C3913  \n",
       "3                  Ligilactobacillus _S10C455  \n",
       "4   Limosilactobacillus coleohominis_S12C1500  "
      ]
     },
     "execution_count": 21,
     "metadata": {},
     "output_type": "execute_result"
    }
   ],
   "source": [
    "df_headers.head(5)"
   ]
  },
  {
   "cell_type": "code",
   "execution_count": 22,
   "id": "da6a5201",
   "metadata": {},
   "outputs": [
    {
     "name": "stderr",
     "output_type": "stream",
     "text": [
      "/usr/local/lib/python3.7/site-packages/ipykernel_launcher.py:1: SettingWithCopyWarning: \n",
      "A value is trying to be set on a copy of a slice from a DataFrame.\n",
      "Try using .loc[row_indexer,col_indexer] = value instead\n",
      "\n",
      "See the caveats in the documentation: https://pandas.pydata.org/pandas-docs/stable/user_guide/indexing.html#returning-a-view-versus-a-copy\n",
      "  \"\"\"Entry point for launching an IPython kernel.\n"
     ]
    }
   ],
   "source": [
    "df_headers['header'] =df_headers['header'] + ','\n"
   ]
  },
  {
   "cell_type": "code",
   "execution_count": 23,
   "id": "9338cc79",
   "metadata": {},
   "outputs": [
    {
     "data": {
      "text/html": [
       "<div>\n",
       "<style scoped>\n",
       "    .dataframe tbody tr th:only-of-type {\n",
       "        vertical-align: middle;\n",
       "    }\n",
       "\n",
       "    .dataframe tbody tr th {\n",
       "        vertical-align: top;\n",
       "    }\n",
       "\n",
       "    .dataframe thead th {\n",
       "        text-align: right;\n",
       "    }\n",
       "</style>\n",
       "<table border=\"1\" class=\"dataframe\">\n",
       "  <thead>\n",
       "    <tr style=\"text-align: right;\">\n",
       "      <th></th>\n",
       "      <th>Genus</th>\n",
       "      <th>Species</th>\n",
       "      <th>Bin_Id</th>\n",
       "      <th>header</th>\n",
       "    </tr>\n",
       "  </thead>\n",
       "  <tbody>\n",
       "    <tr>\n",
       "      <th>0</th>\n",
       "      <td>g__Limosilactobacillus</td>\n",
       "      <td>s__Limosilactobacillus ingluviei</td>\n",
       "      <td>S10C1039</td>\n",
       "      <td>Limosilactobacillus ingluviei_S10C1039,</td>\n",
       "    </tr>\n",
       "    <tr>\n",
       "      <th>1</th>\n",
       "      <td>g__Ligilactobacillus</td>\n",
       "      <td>s__Ligilactobacillus agilis</td>\n",
       "      <td>S10C1297</td>\n",
       "      <td>Ligilactobacillus agilis_S10C1297,</td>\n",
       "    </tr>\n",
       "    <tr>\n",
       "      <th>2</th>\n",
       "      <td>g__Ligilactobacillus</td>\n",
       "      <td>s__</td>\n",
       "      <td>S10C3913</td>\n",
       "      <td>Ligilactobacillus _S10C3913,</td>\n",
       "    </tr>\n",
       "    <tr>\n",
       "      <th>3</th>\n",
       "      <td>g__Ligilactobacillus</td>\n",
       "      <td>s__</td>\n",
       "      <td>S10C455</td>\n",
       "      <td>Ligilactobacillus _S10C455,</td>\n",
       "    </tr>\n",
       "    <tr>\n",
       "      <th>4</th>\n",
       "      <td>g__Limosilactobacillus</td>\n",
       "      <td>s__Limosilactobacillus coleohominis</td>\n",
       "      <td>S12C1500</td>\n",
       "      <td>Limosilactobacillus coleohominis_S12C1500,</td>\n",
       "    </tr>\n",
       "    <tr>\n",
       "      <th>5</th>\n",
       "      <td>g__Limosilactobacillus</td>\n",
       "      <td>s__Limosilactobacillus vaginalis</td>\n",
       "      <td>S12C188</td>\n",
       "      <td>Limosilactobacillus vaginalis_S12C188,</td>\n",
       "    </tr>\n",
       "    <tr>\n",
       "      <th>6</th>\n",
       "      <td>g__Ligilactobacillus</td>\n",
       "      <td>s__Ligilactobacillus aviarius</td>\n",
       "      <td>S13C2782</td>\n",
       "      <td>Ligilactobacillus aviarius_S13C2782,</td>\n",
       "    </tr>\n",
       "    <tr>\n",
       "      <th>7</th>\n",
       "      <td>g__Limosilactobacillus</td>\n",
       "      <td>s__Limosilactobacillus ingluviei</td>\n",
       "      <td>S14C1039</td>\n",
       "      <td>Limosilactobacillus ingluviei_S14C1039,</td>\n",
       "    </tr>\n",
       "    <tr>\n",
       "      <th>8</th>\n",
       "      <td>g__Limosilactobacillus</td>\n",
       "      <td>s__</td>\n",
       "      <td>S14C330</td>\n",
       "      <td>Limosilactobacillus _S14C330,</td>\n",
       "    </tr>\n",
       "    <tr>\n",
       "      <th>9</th>\n",
       "      <td>g__Limosilactobacillus</td>\n",
       "      <td>s__</td>\n",
       "      <td>S14C589</td>\n",
       "      <td>Limosilactobacillus _S14C589,</td>\n",
       "    </tr>\n",
       "    <tr>\n",
       "      <th>10</th>\n",
       "      <td>g__Limosilactobacillus</td>\n",
       "      <td>s__Limosilactobacillus ingluviei</td>\n",
       "      <td>S15C1039</td>\n",
       "      <td>Limosilactobacillus ingluviei_S15C1039,</td>\n",
       "    </tr>\n",
       "    <tr>\n",
       "      <th>11</th>\n",
       "      <td>g__Limosilactobacillus</td>\n",
       "      <td>s__Limosilactobacillus reuteri_E</td>\n",
       "      <td>S16C442</td>\n",
       "      <td>Limosilactobacillus reuteri_E_S16C442,</td>\n",
       "    </tr>\n",
       "    <tr>\n",
       "      <th>12</th>\n",
       "      <td>g__Ligilactobacillus</td>\n",
       "      <td>s__Ligilactobacillus agilis</td>\n",
       "      <td>S16C670</td>\n",
       "      <td>Ligilactobacillus agilis_S16C670,</td>\n",
       "    </tr>\n",
       "    <tr>\n",
       "      <th>13</th>\n",
       "      <td>g__Ligilactobacillus</td>\n",
       "      <td>s__Ligilactobacillus salivarius</td>\n",
       "      <td>S18C2441</td>\n",
       "      <td>Ligilactobacillus salivarius_S18C2441,</td>\n",
       "    </tr>\n",
       "    <tr>\n",
       "      <th>14</th>\n",
       "      <td>g__Ligilactobacillus</td>\n",
       "      <td>s__Ligilactobacillus aviarius</td>\n",
       "      <td>S20C3157</td>\n",
       "      <td>Ligilactobacillus aviarius_S20C3157,</td>\n",
       "    </tr>\n",
       "    <tr>\n",
       "      <th>15</th>\n",
       "      <td>g__Lactobacillus</td>\n",
       "      <td>s__Lactobacillus gallinarum</td>\n",
       "      <td>S24C362</td>\n",
       "      <td>Lactobacillus gallinarum_S24C362,</td>\n",
       "    </tr>\n",
       "    <tr>\n",
       "      <th>16</th>\n",
       "      <td>g__Ligilactobacillus</td>\n",
       "      <td>s__</td>\n",
       "      <td>S28C2674</td>\n",
       "      <td>Ligilactobacillus _S28C2674,</td>\n",
       "    </tr>\n",
       "    <tr>\n",
       "      <th>17</th>\n",
       "      <td>g__Ligilactobacillus</td>\n",
       "      <td>s__Ligilactobacillus agilis</td>\n",
       "      <td>S2C1297</td>\n",
       "      <td>Ligilactobacillus agilis_S2C1297,</td>\n",
       "    </tr>\n",
       "    <tr>\n",
       "      <th>18</th>\n",
       "      <td>g__Lactobacillus</td>\n",
       "      <td>s__Lactobacillus crispatus</td>\n",
       "      <td>S2C205</td>\n",
       "      <td>Lactobacillus crispatus_S2C205,</td>\n",
       "    </tr>\n",
       "    <tr>\n",
       "      <th>19</th>\n",
       "      <td>g__Ligilactobacillus</td>\n",
       "      <td>s__Ligilactobacillus salivarius</td>\n",
       "      <td>S2C3320</td>\n",
       "      <td>Ligilactobacillus salivarius_S2C3320,</td>\n",
       "    </tr>\n",
       "    <tr>\n",
       "      <th>20</th>\n",
       "      <td>g__Ligilactobacillus</td>\n",
       "      <td>s__</td>\n",
       "      <td>S33C4056</td>\n",
       "      <td>Ligilactobacillus _S33C4056,</td>\n",
       "    </tr>\n",
       "    <tr>\n",
       "      <th>21</th>\n",
       "      <td>g__Limosilactobacillus</td>\n",
       "      <td>s__Limosilactobacillus oris</td>\n",
       "      <td>S36C1134</td>\n",
       "      <td>Limosilactobacillus oris_S36C1134,</td>\n",
       "    </tr>\n",
       "    <tr>\n",
       "      <th>22</th>\n",
       "      <td>g__Limosilactobacillus</td>\n",
       "      <td>s__Limosilactobacillus ingluviei</td>\n",
       "      <td>S42C891</td>\n",
       "      <td>Limosilactobacillus ingluviei_S42C891,</td>\n",
       "    </tr>\n",
       "    <tr>\n",
       "      <th>23</th>\n",
       "      <td>g__Weissella</td>\n",
       "      <td>s__Weissella confusa</td>\n",
       "      <td>S49C1120</td>\n",
       "      <td>Weissella confusa_S49C1120,</td>\n",
       "    </tr>\n",
       "    <tr>\n",
       "      <th>24</th>\n",
       "      <td>g__Lactobacillus</td>\n",
       "      <td>s__Lactobacillus johnsonii</td>\n",
       "      <td>S4C569</td>\n",
       "      <td>Lactobacillus johnsonii_S4C569,</td>\n",
       "    </tr>\n",
       "    <tr>\n",
       "      <th>25</th>\n",
       "      <td>g__Lactobacillus</td>\n",
       "      <td>s__</td>\n",
       "      <td>S52C595</td>\n",
       "      <td>Lactobacillus _S52C595,</td>\n",
       "    </tr>\n",
       "    <tr>\n",
       "      <th>26</th>\n",
       "      <td>g__Limosilactobacillus</td>\n",
       "      <td>s__Limosilactobacillus oris</td>\n",
       "      <td>S5C1113</td>\n",
       "      <td>Limosilactobacillus oris_S5C1113,</td>\n",
       "    </tr>\n",
       "    <tr>\n",
       "      <th>27</th>\n",
       "      <td>g__Companilactobacillus</td>\n",
       "      <td>s__Companilactobacillus farciminis</td>\n",
       "      <td>S8C2455</td>\n",
       "      <td>Companilactobacillus farciminis_S8C2455,</td>\n",
       "    </tr>\n",
       "    <tr>\n",
       "      <th>28</th>\n",
       "      <td>g__Ligilactobacillus</td>\n",
       "      <td>s__</td>\n",
       "      <td>S9C3913</td>\n",
       "      <td>Ligilactobacillus _S9C3913,</td>\n",
       "    </tr>\n",
       "  </tbody>\n",
       "</table>\n",
       "</div>"
      ],
      "text/plain": [
       "                      Genus                              Species    Bin_Id  \\\n",
       "0    g__Limosilactobacillus     s__Limosilactobacillus ingluviei  S10C1039   \n",
       "1      g__Ligilactobacillus          s__Ligilactobacillus agilis  S10C1297   \n",
       "2      g__Ligilactobacillus                                  s__  S10C3913   \n",
       "3      g__Ligilactobacillus                                  s__   S10C455   \n",
       "4    g__Limosilactobacillus  s__Limosilactobacillus coleohominis  S12C1500   \n",
       "5    g__Limosilactobacillus     s__Limosilactobacillus vaginalis   S12C188   \n",
       "6      g__Ligilactobacillus        s__Ligilactobacillus aviarius  S13C2782   \n",
       "7    g__Limosilactobacillus     s__Limosilactobacillus ingluviei  S14C1039   \n",
       "8    g__Limosilactobacillus                                  s__   S14C330   \n",
       "9    g__Limosilactobacillus                                  s__   S14C589   \n",
       "10   g__Limosilactobacillus     s__Limosilactobacillus ingluviei  S15C1039   \n",
       "11   g__Limosilactobacillus     s__Limosilactobacillus reuteri_E   S16C442   \n",
       "12     g__Ligilactobacillus          s__Ligilactobacillus agilis   S16C670   \n",
       "13     g__Ligilactobacillus      s__Ligilactobacillus salivarius  S18C2441   \n",
       "14     g__Ligilactobacillus        s__Ligilactobacillus aviarius  S20C3157   \n",
       "15         g__Lactobacillus          s__Lactobacillus gallinarum   S24C362   \n",
       "16     g__Ligilactobacillus                                  s__  S28C2674   \n",
       "17     g__Ligilactobacillus          s__Ligilactobacillus agilis   S2C1297   \n",
       "18         g__Lactobacillus           s__Lactobacillus crispatus    S2C205   \n",
       "19     g__Ligilactobacillus      s__Ligilactobacillus salivarius   S2C3320   \n",
       "20     g__Ligilactobacillus                                  s__  S33C4056   \n",
       "21   g__Limosilactobacillus          s__Limosilactobacillus oris  S36C1134   \n",
       "22   g__Limosilactobacillus     s__Limosilactobacillus ingluviei   S42C891   \n",
       "23             g__Weissella                 s__Weissella confusa  S49C1120   \n",
       "24         g__Lactobacillus           s__Lactobacillus johnsonii    S4C569   \n",
       "25         g__Lactobacillus                                  s__   S52C595   \n",
       "26   g__Limosilactobacillus          s__Limosilactobacillus oris   S5C1113   \n",
       "27  g__Companilactobacillus   s__Companilactobacillus farciminis   S8C2455   \n",
       "28     g__Ligilactobacillus                                  s__   S9C3913   \n",
       "\n",
       "                                         header  \n",
       "0       Limosilactobacillus ingluviei_S10C1039,  \n",
       "1            Ligilactobacillus agilis_S10C1297,  \n",
       "2                  Ligilactobacillus _S10C3913,  \n",
       "3                   Ligilactobacillus _S10C455,  \n",
       "4    Limosilactobacillus coleohominis_S12C1500,  \n",
       "5        Limosilactobacillus vaginalis_S12C188,  \n",
       "6          Ligilactobacillus aviarius_S13C2782,  \n",
       "7       Limosilactobacillus ingluviei_S14C1039,  \n",
       "8                 Limosilactobacillus _S14C330,  \n",
       "9                 Limosilactobacillus _S14C589,  \n",
       "10      Limosilactobacillus ingluviei_S15C1039,  \n",
       "11       Limosilactobacillus reuteri_E_S16C442,  \n",
       "12            Ligilactobacillus agilis_S16C670,  \n",
       "13       Ligilactobacillus salivarius_S18C2441,  \n",
       "14         Ligilactobacillus aviarius_S20C3157,  \n",
       "15            Lactobacillus gallinarum_S24C362,  \n",
       "16                 Ligilactobacillus _S28C2674,  \n",
       "17            Ligilactobacillus agilis_S2C1297,  \n",
       "18              Lactobacillus crispatus_S2C205,  \n",
       "19        Ligilactobacillus salivarius_S2C3320,  \n",
       "20                 Ligilactobacillus _S33C4056,  \n",
       "21           Limosilactobacillus oris_S36C1134,  \n",
       "22       Limosilactobacillus ingluviei_S42C891,  \n",
       "23                  Weissella confusa_S49C1120,  \n",
       "24              Lactobacillus johnsonii_S4C569,  \n",
       "25                      Lactobacillus _S52C595,  \n",
       "26            Limosilactobacillus oris_S5C1113,  \n",
       "27     Companilactobacillus farciminis_S8C2455,  \n",
       "28                  Ligilactobacillus _S9C3913,  "
      ]
     },
     "execution_count": 23,
     "metadata": {},
     "output_type": "execute_result"
    }
   ],
   "source": [
    "df_headers"
   ]
  },
  {
   "cell_type": "code",
   "execution_count": 24,
   "id": "8eaee30e",
   "metadata": {},
   "outputs": [],
   "source": [
    "df_headers['header'].to_csv('data56_related_files/ref_bins_header.csv', index = False, header = False)"
   ]
  },
  {
   "cell_type": "code",
   "execution_count": 30,
   "id": "28457005",
   "metadata": {},
   "outputs": [
    {
     "data": {
      "text/plain": [
       "0     S10C1039\n",
       "1     S10C1297\n",
       "2     S10C3913\n",
       "3      S10C455\n",
       "4     S12C1500\n",
       "5      S12C188\n",
       "6     S13C2782\n",
       "7     S14C1039\n",
       "8      S14C330\n",
       "9      S14C589\n",
       "10    S15C1039\n",
       "11     S16C442\n",
       "12     S16C670\n",
       "13    S18C2441\n",
       "14    S20C3157\n",
       "15     S24C362\n",
       "16    S28C2674\n",
       "17     S2C1297\n",
       "18      S2C205\n",
       "19     S2C3320\n",
       "20    S33C4056\n",
       "21    S36C1134\n",
       "22     S42C891\n",
       "23    S49C1120\n",
       "24      S4C569\n",
       "25     S52C595\n",
       "26     S5C1113\n",
       "27     S8C2455\n",
       "28     S9C3913\n",
       "Name: Bin_Id, dtype: object"
      ]
     },
     "execution_count": 30,
     "metadata": {},
     "output_type": "execute_result"
    }
   ],
   "source": [
    "df_headers['Bin_Id']"
   ]
  },
  {
   "cell_type": "markdown",
   "id": "9b1a35a8",
   "metadata": {},
   "source": [
    "#### Testing on the NCBI defined Lactobacillus  \n",
    "One less uniqie species and one bin less than the Lactobacillaceae family. "
   ]
  },
  {
   "cell_type": "code",
   "execution_count": 95,
   "id": "67336341",
   "metadata": {},
   "outputs": [],
   "source": [
    "derep_NCBI_Lactobacillus = pd.merge(df_NCBI_lactobacillus_HQ, df_dereplicated_bins, how=\"inner\", on='Bin_Id')"
   ]
  },
  {
   "cell_type": "code",
   "execution_count": 99,
   "id": "786b521f",
   "metadata": {},
   "outputs": [
    {
     "data": {
      "text/plain": [
       "28"
      ]
     },
     "execution_count": 99,
     "metadata": {},
     "output_type": "execute_result"
    }
   ],
   "source": [
    "len(derep_NCBI_Lactobacillus)"
   ]
  },
  {
   "cell_type": "code",
   "execution_count": null,
   "id": "226c3f2d",
   "metadata": {},
   "outputs": [],
   "source": []
  },
  {
   "cell_type": "code",
   "execution_count": 102,
   "id": "aff06d1b",
   "metadata": {},
   "outputs": [
    {
     "data": {
      "text/plain": [
       "13"
      ]
     },
     "execution_count": 102,
     "metadata": {},
     "output_type": "execute_result"
    }
   ],
   "source": [
    "derep_NCBI_Lactobacillus['Species'].nunique()"
   ]
  },
  {
   "cell_type": "markdown",
   "id": "5f0fd276",
   "metadata": {},
   "source": [
    "#### Extracting HQ Lactobacillaceae bins for use in InStrain - not used."
   ]
  },
  {
   "cell_type": "code",
   "execution_count": 105,
   "id": "a5f974b3",
   "metadata": {},
   "outputs": [],
   "source": [
    "df_lactobacillacea_HQ['Bin_Id'].to_csv('data56_related_files/Lactobacillaceae_HQ_binIDs', index = False)"
   ]
  }
 ],
 "metadata": {
  "kernelspec": {
   "display_name": "Python 3 (ipykernel)",
   "language": "python",
   "name": "python3"
  },
  "language_info": {
   "codemirror_mode": {
    "name": "ipython",
    "version": 3
   },
   "file_extension": ".py",
   "mimetype": "text/x-python",
   "name": "python",
   "nbconvert_exporter": "python",
   "pygments_lexer": "ipython3",
   "version": "3.7.4"
  }
 },
 "nbformat": 4,
 "nbformat_minor": 5
}

{
 "cells": [
  {
   "cell_type": "code",
   "execution_count": 43,
   "id": "cb4b9464",
   "metadata": {},
   "outputs": [],
   "source": [
    "import pandas as pd\n",
    "import numpy as np"
   ]
  },
  {
   "cell_type": "markdown",
   "id": "62b4acd8",
   "metadata": {},
   "source": [
    "#### Reading dataframes created in [SpeciesBinPlotWithQuality](SpeciesBinPlotWithQuality.ipynb.ipynb#section_id2) notebook"
   ]
  },
  {
   "cell_type": "markdown",
   "id": "5fe6637d",
   "metadata": {},
   "source": [
    "<a id='section_id2'></a>"
   ]
  },
  {
   "cell_type": "code",
   "execution_count": 64,
   "id": "7fdcee47",
   "metadata": {},
   "outputs": [],
   "source": [
    "df_lactobacillus_HQ = pd.read_csv('data56_related_files/HighQLactobacillus')\n",
    "df_alistipes_HQ = pd.read_csv('data56_related_files/HighQAlistipes')\n",
    "df_lactobacillacea_HQ = pd.read_csv('data56_related_files/HighQLactobacillaceae')\n",
    "df_NCBI_lactobacillus_HQ = pd.read_csv('data56_related_files/HighQ_NCBI_Lactobacillus')\n",
    "df_dereplicated_bins = pd.read_csv('data56_related_files/derepelicatedBins_dRep.tsv')"
   ]
  },
  {
   "cell_type": "markdown",
   "id": "3c430e58",
   "metadata": {},
   "source": [
    "#### Renaming column to same key name and removing extension"
   ]
  },
  {
   "cell_type": "code",
   "execution_count": 67,
   "id": "4a1da305",
   "metadata": {},
   "outputs": [],
   "source": [
    "df_dereplicated_bins = df_dereplicated_bins.rename({'derepelicatedBins_dRep': 'Bin_Id'}, axis=1)"
   ]
  },
  {
   "cell_type": "code",
   "execution_count": 68,
   "id": "adc82516",
   "metadata": {},
   "outputs": [],
   "source": [
    "df_dereplicated_bins['Bin_Id'] = df_dereplicated_bins['Bin_Id'].map(lambda x: x.rstrip('.fna'))"
   ]
  },
  {
   "cell_type": "code",
   "execution_count": 69,
   "id": "229f1b15",
   "metadata": {},
   "outputs": [
    {
     "data": {
      "text/html": [
       "<div>\n",
       "<style scoped>\n",
       "    .dataframe tbody tr th:only-of-type {\n",
       "        vertical-align: middle;\n",
       "    }\n",
       "\n",
       "    .dataframe tbody tr th {\n",
       "        vertical-align: top;\n",
       "    }\n",
       "\n",
       "    .dataframe thead th {\n",
       "        text-align: right;\n",
       "    }\n",
       "</style>\n",
       "<table border=\"1\" class=\"dataframe\">\n",
       "  <thead>\n",
       "    <tr style=\"text-align: right;\">\n",
       "      <th></th>\n",
       "      <th>Bin_Id</th>\n",
       "    </tr>\n",
       "  </thead>\n",
       "  <tbody>\n",
       "    <tr>\n",
       "      <th>0</th>\n",
       "      <td>S10C1039</td>\n",
       "    </tr>\n",
       "    <tr>\n",
       "      <th>1</th>\n",
       "      <td>S10C1295</td>\n",
       "    </tr>\n",
       "    <tr>\n",
       "      <th>2</th>\n",
       "      <td>S10C1297</td>\n",
       "    </tr>\n",
       "    <tr>\n",
       "      <th>3</th>\n",
       "      <td>S10C15900</td>\n",
       "    </tr>\n",
       "    <tr>\n",
       "      <th>4</th>\n",
       "      <td>S10C2556</td>\n",
       "    </tr>\n",
       "    <tr>\n",
       "      <th>...</th>\n",
       "      <td>...</td>\n",
       "    </tr>\n",
       "    <tr>\n",
       "      <th>728</th>\n",
       "      <td>S9C61</td>\n",
       "    </tr>\n",
       "    <tr>\n",
       "      <th>729</th>\n",
       "      <td>S9C8881</td>\n",
       "    </tr>\n",
       "    <tr>\n",
       "      <th>730</th>\n",
       "      <td>S9C92</td>\n",
       "    </tr>\n",
       "    <tr>\n",
       "      <th>731</th>\n",
       "      <td>S9C962</td>\n",
       "    </tr>\n",
       "    <tr>\n",
       "      <th>732</th>\n",
       "      <td>S9C99</td>\n",
       "    </tr>\n",
       "  </tbody>\n",
       "</table>\n",
       "<p>733 rows × 1 columns</p>\n",
       "</div>"
      ],
      "text/plain": [
       "        Bin_Id\n",
       "0     S10C1039\n",
       "1     S10C1295\n",
       "2     S10C1297\n",
       "3    S10C15900\n",
       "4     S10C2556\n",
       "..         ...\n",
       "728      S9C61\n",
       "729    S9C8881\n",
       "730      S9C92\n",
       "731     S9C962\n",
       "732      S9C99\n",
       "\n",
       "[733 rows x 1 columns]"
      ]
     },
     "execution_count": 69,
     "metadata": {},
     "output_type": "execute_result"
    }
   ],
   "source": [
    "df_dereplicated_bins"
   ]
  },
  {
   "cell_type": "markdown",
   "id": "682defa2",
   "metadata": {},
   "source": [
    "#### Joining dereplicated bins with high quality bins using 'inner' keeping those who are in both datasets. "
   ]
  },
  {
   "cell_type": "code",
   "execution_count": 48,
   "id": "38bab24a",
   "metadata": {},
   "outputs": [],
   "source": [
    "derep_Lactobacillus = pd.merge(df_lactobacillus_HQ, df_dereplicated_bins, how=\"inner\", on='Bin_Id')"
   ]
  },
  {
   "cell_type": "code",
   "execution_count": 62,
   "id": "ccbea237",
   "metadata": {},
   "outputs": [
    {
     "data": {
      "text/plain": [
       "0    s__Lactobacillus gallinarum\n",
       "1     s__Lactobacillus crispatus\n",
       "2     s__Lactobacillus johnsonii\n",
       "3                            s__\n",
       "Name: Species, dtype: object"
      ]
     },
     "execution_count": 62,
     "metadata": {},
     "output_type": "execute_result"
    }
   ],
   "source": [
    "derep_Lactobacillus['Species']"
   ]
  },
  {
   "cell_type": "code",
   "execution_count": 50,
   "id": "2e947bfd",
   "metadata": {},
   "outputs": [],
   "source": [
    "derep_Alistipes = pd.merge(df_alistipes_HQ, df_dereplicated_bins, how=\"inner\", on='Bin_Id')"
   ]
  },
  {
   "cell_type": "code",
   "execution_count": 65,
   "id": "ef4a7d72",
   "metadata": {
    "scrolled": true
   },
   "outputs": [
    {
     "data": {
      "text/plain": [
       "0     s__Alistipes sp000434235\n",
       "1     s__Alistipes sp900544265\n",
       "2      s__Alistipes finegoldii\n",
       "3     s__Alistipes sp002161445\n",
       "4        s__Alistipes communis\n",
       "5     s__Alistipes sp900021155\n",
       "6     s__Alistipes sp900542505\n",
       "7                          s__\n",
       "8     s__Alistipes onderdonkii\n",
       "9                          s__\n",
       "10         s__Alistipes dispar\n",
       "11    s__Alistipes sp900544265\n",
       "12                         s__\n",
       "13                         s__\n",
       "14    s__Alistipes sp900546065\n",
       "15                         s__\n",
       "16    s__Alistipes sp900546065\n",
       "17    s__Alistipes sp900290115\n",
       "18    s__Alistipes sp900544265\n",
       "19    s__Alistipes sp002161445\n",
       "20    s__Alistipes sp900546065\n",
       "Name: Species, dtype: object"
      ]
     },
     "execution_count": 65,
     "metadata": {},
     "output_type": "execute_result"
    }
   ],
   "source": [
    "derep_Alistipes['Species']"
   ]
  },
  {
   "cell_type": "code",
   "execution_count": 100,
   "id": "5d79a9e9",
   "metadata": {},
   "outputs": [],
   "source": [
    "derep_Lactobacillaceae = pd.merge(df_lactobacillacea_HQ, df_dereplicated_bins, how=\"inner\", on='Bin_Id')"
   ]
  },
  {
   "cell_type": "code",
   "execution_count": 101,
   "id": "39eea383",
   "metadata": {},
   "outputs": [
    {
     "data": {
      "text/plain": [
       "29"
      ]
     },
     "execution_count": 101,
     "metadata": {},
     "output_type": "execute_result"
    }
   ],
   "source": [
    "len(derep_Lactobacillaceae)"
   ]
  },
  {
   "cell_type": "code",
   "execution_count": 81,
   "id": "b83fe307",
   "metadata": {},
   "outputs": [
    {
     "data": {
      "text/plain": [
       "14"
      ]
     },
     "execution_count": 81,
     "metadata": {},
     "output_type": "execute_result"
    }
   ],
   "source": [
    "derep_Lactobacillaceae['Species'].nunique()"
   ]
  },
  {
   "cell_type": "code",
   "execution_count": 124,
   "id": "1be6f2e0",
   "metadata": {
    "scrolled": true
   },
   "outputs": [
    {
     "data": {
      "text/plain": [
       "0        s__Limosilactobacillus ingluviei\n",
       "1             s__Ligilactobacillus agilis\n",
       "2                                     s__\n",
       "3                                     s__\n",
       "4     s__Limosilactobacillus coleohominis\n",
       "5        s__Limosilactobacillus vaginalis\n",
       "6           s__Ligilactobacillus aviarius\n",
       "7        s__Limosilactobacillus ingluviei\n",
       "8                                     s__\n",
       "9                                     s__\n",
       "10       s__Limosilactobacillus ingluviei\n",
       "11       s__Limosilactobacillus reuteri_E\n",
       "12            s__Ligilactobacillus agilis\n",
       "13        s__Ligilactobacillus salivarius\n",
       "14          s__Ligilactobacillus aviarius\n",
       "15            s__Lactobacillus gallinarum\n",
       "16                                    s__\n",
       "17            s__Ligilactobacillus agilis\n",
       "18             s__Lactobacillus crispatus\n",
       "19        s__Ligilactobacillus salivarius\n",
       "20                                    s__\n",
       "21            s__Limosilactobacillus oris\n",
       "22       s__Limosilactobacillus ingluviei\n",
       "23                   s__Weissella confusa\n",
       "24             s__Lactobacillus johnsonii\n",
       "25                                    s__\n",
       "26            s__Limosilactobacillus oris\n",
       "27     s__Companilactobacillus farciminis\n",
       "28                                    s__\n",
       "Name: Species, dtype: object"
      ]
     },
     "execution_count": 124,
     "metadata": {},
     "output_type": "execute_result"
    }
   ],
   "source": [
    "derep_Lactobacillaceae['Species']  "
   ]
  },
  {
   "cell_type": "markdown",
   "id": "fbc7241c",
   "metadata": {},
   "source": [
    "#### Saving the bin ids for the high quality bins which was not removed by drep in the Lactobacillacea dataframe. \n",
    "These will be used as reference genomes in inStrain"
   ]
  },
  {
   "cell_type": "code",
   "execution_count": 111,
   "id": "651df1bb",
   "metadata": {},
   "outputs": [],
   "source": [
    "derep_Lactobacillaceae['Bin_Id'].to_csv('data56_related_files/derep_lactobacillaceae_bins.csv', index = False)"
   ]
  },
  {
   "cell_type": "markdown",
   "id": "84e0e4e3",
   "metadata": {},
   "source": [
    "#### Generating header names for ref bins \n",
    "This is done to resemble the downloaded reference genomes including species so they are easily manipulated later"
   ]
  },
  {
   "cell_type": "code",
   "execution_count": 219,
   "id": "cbcf72d1",
   "metadata": {},
   "outputs": [],
   "source": [
    "df_headers = derep_Lactobacillaceae[['Genus', 'Species', 'Bin_Id']]"
   ]
  },
  {
   "cell_type": "code",
   "execution_count": 220,
   "id": "3d6bafc9",
   "metadata": {},
   "outputs": [
    {
     "name": "stderr",
     "output_type": "stream",
     "text": [
      "/usr/local/lib/python3.7/site-packages/ipykernel_launcher.py:1: SettingWithCopyWarning: \n",
      "A value is trying to be set on a copy of a slice from a DataFrame.\n",
      "Try using .loc[row_indexer,col_indexer] = value instead\n",
      "\n",
      "See the caveats in the documentation: https://pandas.pydata.org/pandas-docs/stable/user_guide/indexing.html#returning-a-view-versus-a-copy\n",
      "  \"\"\"Entry point for launching an IPython kernel.\n"
     ]
    }
   ],
   "source": [
    "df_headers['header'] = ''\n",
    "for index, row in df_headers.iterrows():\n",
    "    if (row['Species'] == 's__'):\n",
    "        row[\"header\"] = row[\"Genus\"] + row[\"Species\"] + row[\"Bin_Id\"]\n",
    "    else:\n",
    "        row[\"header\"] = row[\"Species\"] + row[\"Bin_Id\"]"
   ]
  },
  {
   "cell_type": "code",
   "execution_count": 221,
   "id": "e316d56f",
   "metadata": {},
   "outputs": [
    {
     "data": {
      "text/html": [
       "<div>\n",
       "<style scoped>\n",
       "    .dataframe tbody tr th:only-of-type {\n",
       "        vertical-align: middle;\n",
       "    }\n",
       "\n",
       "    .dataframe tbody tr th {\n",
       "        vertical-align: top;\n",
       "    }\n",
       "\n",
       "    .dataframe thead th {\n",
       "        text-align: right;\n",
       "    }\n",
       "</style>\n",
       "<table border=\"1\" class=\"dataframe\">\n",
       "  <thead>\n",
       "    <tr style=\"text-align: right;\">\n",
       "      <th></th>\n",
       "      <th>Genus</th>\n",
       "      <th>Species</th>\n",
       "      <th>Bin_Id</th>\n",
       "      <th>header</th>\n",
       "    </tr>\n",
       "  </thead>\n",
       "  <tbody>\n",
       "    <tr>\n",
       "      <th>0</th>\n",
       "      <td>g__Limosilactobacillus</td>\n",
       "      <td>s__Limosilactobacillus ingluviei</td>\n",
       "      <td>S10C1039</td>\n",
       "      <td>s__Limosilactobacillus ingluvieiS10C1039</td>\n",
       "    </tr>\n",
       "    <tr>\n",
       "      <th>1</th>\n",
       "      <td>g__Ligilactobacillus</td>\n",
       "      <td>s__Ligilactobacillus agilis</td>\n",
       "      <td>S10C1297</td>\n",
       "      <td>s__Ligilactobacillus agilisS10C1297</td>\n",
       "    </tr>\n",
       "    <tr>\n",
       "      <th>2</th>\n",
       "      <td>g__Ligilactobacillus</td>\n",
       "      <td>s__</td>\n",
       "      <td>S10C3913</td>\n",
       "      <td>g__Ligilactobacilluss__S10C3913</td>\n",
       "    </tr>\n",
       "    <tr>\n",
       "      <th>3</th>\n",
       "      <td>g__Ligilactobacillus</td>\n",
       "      <td>s__</td>\n",
       "      <td>S10C455</td>\n",
       "      <td>g__Ligilactobacilluss__S10C455</td>\n",
       "    </tr>\n",
       "    <tr>\n",
       "      <th>4</th>\n",
       "      <td>g__Limosilactobacillus</td>\n",
       "      <td>s__Limosilactobacillus coleohominis</td>\n",
       "      <td>S12C1500</td>\n",
       "      <td>s__Limosilactobacillus coleohominisS12C1500</td>\n",
       "    </tr>\n",
       "  </tbody>\n",
       "</table>\n",
       "</div>"
      ],
      "text/plain": [
       "                    Genus                              Species    Bin_Id  \\\n",
       "0  g__Limosilactobacillus     s__Limosilactobacillus ingluviei  S10C1039   \n",
       "1    g__Ligilactobacillus          s__Ligilactobacillus agilis  S10C1297   \n",
       "2    g__Ligilactobacillus                                  s__  S10C3913   \n",
       "3    g__Ligilactobacillus                                  s__   S10C455   \n",
       "4  g__Limosilactobacillus  s__Limosilactobacillus coleohominis  S12C1500   \n",
       "\n",
       "                                        header  \n",
       "0     s__Limosilactobacillus ingluvieiS10C1039  \n",
       "1          s__Ligilactobacillus agilisS10C1297  \n",
       "2              g__Ligilactobacilluss__S10C3913  \n",
       "3               g__Ligilactobacilluss__S10C455  \n",
       "4  s__Limosilactobacillus coleohominisS12C1500  "
      ]
     },
     "execution_count": 221,
     "metadata": {},
     "output_type": "execute_result"
    }
   ],
   "source": [
    "df_headers.head(5)"
   ]
  },
  {
   "cell_type": "code",
   "execution_count": 222,
   "id": "3c64c36e",
   "metadata": {},
   "outputs": [
    {
     "name": "stderr",
     "output_type": "stream",
     "text": [
      "/usr/local/lib/python3.7/site-packages/ipykernel_launcher.py:1: SettingWithCopyWarning: \n",
      "A value is trying to be set on a copy of a slice from a DataFrame.\n",
      "Try using .loc[row_indexer,col_indexer] = value instead\n",
      "\n",
      "See the caveats in the documentation: https://pandas.pydata.org/pandas-docs/stable/user_guide/indexing.html#returning-a-view-versus-a-copy\n",
      "  \"\"\"Entry point for launching an IPython kernel.\n",
      "/usr/local/lib/python3.7/site-packages/ipykernel_launcher.py:2: SettingWithCopyWarning: \n",
      "A value is trying to be set on a copy of a slice from a DataFrame.\n",
      "Try using .loc[row_indexer,col_indexer] = value instead\n",
      "\n",
      "See the caveats in the documentation: https://pandas.pydata.org/pandas-docs/stable/user_guide/indexing.html#returning-a-view-versus-a-copy\n",
      "  \n",
      "/usr/local/lib/python3.7/site-packages/ipykernel_launcher.py:3: SettingWithCopyWarning: \n",
      "A value is trying to be set on a copy of a slice from a DataFrame.\n",
      "Try using .loc[row_indexer,col_indexer] = value instead\n",
      "\n",
      "See the caveats in the documentation: https://pandas.pydata.org/pandas-docs/stable/user_guide/indexing.html#returning-a-view-versus-a-copy\n",
      "  This is separate from the ipykernel package so we can avoid doing imports until\n"
     ]
    }
   ],
   "source": [
    "df_headers['header'] = df_headers['header'].str.replace(r'g__', '')\n",
    "df_headers['header'] = df_headers['header'].str.replace(r'S', '_S')\n",
    "df_headers['header'] = df_headers['header'].str.replace(r's__', ' ')"
   ]
  },
  {
   "cell_type": "code",
   "execution_count": 223,
   "id": "f8297056",
   "metadata": {},
   "outputs": [
    {
     "data": {
      "text/html": [
       "<div>\n",
       "<style scoped>\n",
       "    .dataframe tbody tr th:only-of-type {\n",
       "        vertical-align: middle;\n",
       "    }\n",
       "\n",
       "    .dataframe tbody tr th {\n",
       "        vertical-align: top;\n",
       "    }\n",
       "\n",
       "    .dataframe thead th {\n",
       "        text-align: right;\n",
       "    }\n",
       "</style>\n",
       "<table border=\"1\" class=\"dataframe\">\n",
       "  <thead>\n",
       "    <tr style=\"text-align: right;\">\n",
       "      <th></th>\n",
       "      <th>Genus</th>\n",
       "      <th>Species</th>\n",
       "      <th>Bin_Id</th>\n",
       "      <th>header</th>\n",
       "    </tr>\n",
       "  </thead>\n",
       "  <tbody>\n",
       "    <tr>\n",
       "      <th>0</th>\n",
       "      <td>g__Limosilactobacillus</td>\n",
       "      <td>s__Limosilactobacillus ingluviei</td>\n",
       "      <td>S10C1039</td>\n",
       "      <td>Limosilactobacillus ingluviei_S10C1039</td>\n",
       "    </tr>\n",
       "    <tr>\n",
       "      <th>1</th>\n",
       "      <td>g__Ligilactobacillus</td>\n",
       "      <td>s__Ligilactobacillus agilis</td>\n",
       "      <td>S10C1297</td>\n",
       "      <td>Ligilactobacillus agilis_S10C1297</td>\n",
       "    </tr>\n",
       "    <tr>\n",
       "      <th>2</th>\n",
       "      <td>g__Ligilactobacillus</td>\n",
       "      <td>s__</td>\n",
       "      <td>S10C3913</td>\n",
       "      <td>Ligilactobacillus _S10C3913</td>\n",
       "    </tr>\n",
       "    <tr>\n",
       "      <th>3</th>\n",
       "      <td>g__Ligilactobacillus</td>\n",
       "      <td>s__</td>\n",
       "      <td>S10C455</td>\n",
       "      <td>Ligilactobacillus _S10C455</td>\n",
       "    </tr>\n",
       "    <tr>\n",
       "      <th>4</th>\n",
       "      <td>g__Limosilactobacillus</td>\n",
       "      <td>s__Limosilactobacillus coleohominis</td>\n",
       "      <td>S12C1500</td>\n",
       "      <td>Limosilactobacillus coleohominis_S12C1500</td>\n",
       "    </tr>\n",
       "  </tbody>\n",
       "</table>\n",
       "</div>"
      ],
      "text/plain": [
       "                    Genus                              Species    Bin_Id  \\\n",
       "0  g__Limosilactobacillus     s__Limosilactobacillus ingluviei  S10C1039   \n",
       "1    g__Ligilactobacillus          s__Ligilactobacillus agilis  S10C1297   \n",
       "2    g__Ligilactobacillus                                  s__  S10C3913   \n",
       "3    g__Ligilactobacillus                                  s__   S10C455   \n",
       "4  g__Limosilactobacillus  s__Limosilactobacillus coleohominis  S12C1500   \n",
       "\n",
       "                                       header  \n",
       "0      Limosilactobacillus ingluviei_S10C1039  \n",
       "1           Ligilactobacillus agilis_S10C1297  \n",
       "2                 Ligilactobacillus _S10C3913  \n",
       "3                  Ligilactobacillus _S10C455  \n",
       "4   Limosilactobacillus coleohominis_S12C1500  "
      ]
     },
     "execution_count": 223,
     "metadata": {},
     "output_type": "execute_result"
    }
   ],
   "source": [
    "df_headers.head(5)"
   ]
  },
  {
   "cell_type": "code",
   "execution_count": 224,
   "id": "da6a5201",
   "metadata": {},
   "outputs": [
    {
     "name": "stderr",
     "output_type": "stream",
     "text": [
      "/usr/local/lib/python3.7/site-packages/ipykernel_launcher.py:1: SettingWithCopyWarning: \n",
      "A value is trying to be set on a copy of a slice from a DataFrame.\n",
      "Try using .loc[row_indexer,col_indexer] = value instead\n",
      "\n",
      "See the caveats in the documentation: https://pandas.pydata.org/pandas-docs/stable/user_guide/indexing.html#returning-a-view-versus-a-copy\n",
      "  \"\"\"Entry point for launching an IPython kernel.\n"
     ]
    }
   ],
   "source": [
    "df_headers['header'] =df_headers['header'] + ','\n"
   ]
  },
  {
   "cell_type": "code",
   "execution_count": 225,
   "id": "9338cc79",
   "metadata": {},
   "outputs": [
    {
     "data": {
      "text/html": [
       "<div>\n",
       "<style scoped>\n",
       "    .dataframe tbody tr th:only-of-type {\n",
       "        vertical-align: middle;\n",
       "    }\n",
       "\n",
       "    .dataframe tbody tr th {\n",
       "        vertical-align: top;\n",
       "    }\n",
       "\n",
       "    .dataframe thead th {\n",
       "        text-align: right;\n",
       "    }\n",
       "</style>\n",
       "<table border=\"1\" class=\"dataframe\">\n",
       "  <thead>\n",
       "    <tr style=\"text-align: right;\">\n",
       "      <th></th>\n",
       "      <th>Genus</th>\n",
       "      <th>Species</th>\n",
       "      <th>Bin_Id</th>\n",
       "      <th>header</th>\n",
       "    </tr>\n",
       "  </thead>\n",
       "  <tbody>\n",
       "    <tr>\n",
       "      <th>0</th>\n",
       "      <td>g__Limosilactobacillus</td>\n",
       "      <td>s__Limosilactobacillus ingluviei</td>\n",
       "      <td>S10C1039</td>\n",
       "      <td>Limosilactobacillus ingluviei_S10C1039,</td>\n",
       "    </tr>\n",
       "    <tr>\n",
       "      <th>1</th>\n",
       "      <td>g__Ligilactobacillus</td>\n",
       "      <td>s__Ligilactobacillus agilis</td>\n",
       "      <td>S10C1297</td>\n",
       "      <td>Ligilactobacillus agilis_S10C1297,</td>\n",
       "    </tr>\n",
       "    <tr>\n",
       "      <th>2</th>\n",
       "      <td>g__Ligilactobacillus</td>\n",
       "      <td>s__</td>\n",
       "      <td>S10C3913</td>\n",
       "      <td>Ligilactobacillus _S10C3913,</td>\n",
       "    </tr>\n",
       "    <tr>\n",
       "      <th>3</th>\n",
       "      <td>g__Ligilactobacillus</td>\n",
       "      <td>s__</td>\n",
       "      <td>S10C455</td>\n",
       "      <td>Ligilactobacillus _S10C455,</td>\n",
       "    </tr>\n",
       "  </tbody>\n",
       "</table>\n",
       "</div>"
      ],
      "text/plain": [
       "                    Genus                           Species    Bin_Id  \\\n",
       "0  g__Limosilactobacillus  s__Limosilactobacillus ingluviei  S10C1039   \n",
       "1    g__Ligilactobacillus       s__Ligilactobacillus agilis  S10C1297   \n",
       "2    g__Ligilactobacillus                               s__  S10C3913   \n",
       "3    g__Ligilactobacillus                               s__   S10C455   \n",
       "\n",
       "                                     header  \n",
       "0   Limosilactobacillus ingluviei_S10C1039,  \n",
       "1        Ligilactobacillus agilis_S10C1297,  \n",
       "2              Ligilactobacillus _S10C3913,  \n",
       "3               Ligilactobacillus _S10C455,  "
      ]
     },
     "execution_count": 225,
     "metadata": {},
     "output_type": "execute_result"
    }
   ],
   "source": [
    "df_headers.head(4)"
   ]
  },
  {
   "cell_type": "code",
   "execution_count": 226,
   "id": "8eaee30e",
   "metadata": {},
   "outputs": [],
   "source": [
    "df_headers['header'].to_csv('data56_related_files/ref_bins_header.csv', index = False, header = False)"
   ]
  },
  {
   "cell_type": "code",
   "execution_count": null,
   "id": "28457005",
   "metadata": {},
   "outputs": [],
   "source": []
  },
  {
   "cell_type": "markdown",
   "id": "9b1a35a8",
   "metadata": {},
   "source": [
    "#### Testing on the NCBI defined Lactobacillus  \n",
    "One less uniqie species and one bin less than the Lactobacillaceae family. "
   ]
  },
  {
   "cell_type": "code",
   "execution_count": 95,
   "id": "67336341",
   "metadata": {},
   "outputs": [],
   "source": [
    "derep_NCBI_Lactobacillus = pd.merge(df_NCBI_lactobacillus_HQ, df_dereplicated_bins, how=\"inner\", on='Bin_Id')"
   ]
  },
  {
   "cell_type": "code",
   "execution_count": 99,
   "id": "786b521f",
   "metadata": {},
   "outputs": [
    {
     "data": {
      "text/plain": [
       "28"
      ]
     },
     "execution_count": 99,
     "metadata": {},
     "output_type": "execute_result"
    }
   ],
   "source": [
    "len(derep_NCBI_Lactobacillus)"
   ]
  },
  {
   "cell_type": "code",
   "execution_count": 102,
   "id": "aff06d1b",
   "metadata": {},
   "outputs": [
    {
     "data": {
      "text/plain": [
       "13"
      ]
     },
     "execution_count": 102,
     "metadata": {},
     "output_type": "execute_result"
    }
   ],
   "source": [
    "derep_NCBI_Lactobacillus['Species'].nunique()"
   ]
  },
  {
   "cell_type": "markdown",
   "id": "5f0fd276",
   "metadata": {},
   "source": [
    "#### Extracting HQ Lactobacillaceae bins for use in InStrain - not used."
   ]
  },
  {
   "cell_type": "code",
   "execution_count": 105,
   "id": "a5f974b3",
   "metadata": {},
   "outputs": [],
   "source": [
    "df_lactobacillacea_HQ['Bin_Id'].to_csv('data56_related_files/Lactobacillaceae_HQ_binIDs', index = False)"
   ]
  },
  {
   "cell_type": "markdown",
   "id": "32e9765c",
   "metadata": {},
   "source": []
  }
 ],
 "metadata": {
  "kernelspec": {
   "display_name": "Python 3 (ipykernel)",
   "language": "python",
   "name": "python3"
  },
  "language_info": {
   "codemirror_mode": {
    "name": "ipython",
    "version": 3
   },
   "file_extension": ".py",
   "mimetype": "text/x-python",
   "name": "python",
   "nbconvert_exporter": "python",
   "pygments_lexer": "ipython3",
   "version": "3.7.4"
  }
 },
 "nbformat": 4,
 "nbformat_minor": 5
}

{
 "cells": [
  {
   "cell_type": "markdown",
   "id": "15769b40",
   "metadata": {},
   "source": [
    "### Basic functions\n",
    "this notebook is used for basic calculations\n",
    "\n",
    "    - Adding read counts when counted in terminal\n",
    "    - Making sure the reads are present as both forward and reverse reads when used for trimming the failed reads based on fastQC per base sequence content."
   ]
  },
  {
   "cell_type": "code",
   "execution_count": 2,
   "id": "ffc4fc22",
   "metadata": {},
   "outputs": [],
   "source": [
    "import pandas as pd \n",
    "import numpy as np"
   ]
  },
  {
   "cell_type": "markdown",
   "id": "e4ee5349",
   "metadata": {},
   "source": [
    "#### adding readcounts from a list"
   ]
  },
  {
   "cell_type": "code",
   "execution_count": 3,
   "id": "bdca588a",
   "metadata": {},
   "outputs": [],
   "source": [
    "def summing_numbers_in_file(filepath):\n",
    "    f = open(filepath, \"r\")\n",
    "    file = f.read()\n",
    "    \n",
    "    fileList = file.split(\"\\n\")\n",
    "   \n",
    "    # removing items that is not numeric \n",
    "    for l in fileList:\n",
    "        if l.isnumeric()==False:\n",
    "            fileList.remove(l)\n",
    "            \n",
    "    fileIntList = list(map(int, fileList)) \n",
    "    \n",
    "    return sum(fileIntList)"
   ]
  },
  {
   "cell_type": "code",
   "execution_count": 4,
   "id": "fff9a26c",
   "metadata": {},
   "outputs": [],
   "source": [
    "def summing_numbers_with_more_seperators(filepath, seperator):\n",
    "\n",
    "    f = open(filepath, \"r\")\n",
    "    file = f.read()\n",
    "    \n",
    "    fileList = file.split(\"\\n\")\n",
    "    \n",
    "    fileList_split = [i.split(seperator, 1)[1] for i in fileList]\n",
    "\n",
    "    # removing items the is not numeric \n",
    "    for l in fileList_split:\n",
    "        if l.isnumeric()==False:\n",
    "            fileList_split.remove(l)\n",
    "            \n",
    "    fileIntList = list(map(int, fileList_split)) \n",
    "    \n",
    "    return sum(fileIntList)"
   ]
  },
  {
   "cell_type": "code",
   "execution_count": 5,
   "id": "6cfbdfa9",
   "metadata": {},
   "outputs": [],
   "source": [
    "singles_count = summing_numbers_in_file(\"count_singles.list\")"
   ]
  },
  {
   "cell_type": "code",
   "execution_count": 6,
   "id": "d3e2ed72",
   "metadata": {},
   "outputs": [],
   "source": [
    "r1_count = summing_numbers_in_file(\"count_r1.list\")"
   ]
  },
  {
   "cell_type": "code",
   "execution_count": 7,
   "id": "3bebd905",
   "metadata": {},
   "outputs": [
    {
     "data": {
      "text/plain": [
       "5850393084"
      ]
     },
     "execution_count": 7,
     "metadata": {},
     "output_type": "execute_result"
    }
   ],
   "source": [
    "r1_count"
   ]
  },
  {
   "cell_type": "code",
   "execution_count": 8,
   "id": "cae542ae",
   "metadata": {},
   "outputs": [],
   "source": [
    "total_count = r1_count * 2 + singles_count"
   ]
  },
  {
   "cell_type": "code",
   "execution_count": 9,
   "id": "fcd24563",
   "metadata": {},
   "outputs": [],
   "source": [
    "reads_count = total_count/4"
   ]
  },
  {
   "cell_type": "code",
   "execution_count": 10,
   "id": "96d333f4",
   "metadata": {},
   "outputs": [
    {
     "data": {
      "text/plain": [
       "2957817888.0"
      ]
     },
     "execution_count": 10,
     "metadata": {},
     "output_type": "execute_result"
    }
   ],
   "source": [
    "reads_count"
   ]
  },
  {
   "cell_type": "code",
   "execution_count": 11,
   "id": "7dd26475",
   "metadata": {},
   "outputs": [],
   "source": [
    "contigs_count = summing_numbers_with_more_seperators(\"count_contigs.list\", \":\")"
   ]
  },
  {
   "cell_type": "code",
   "execution_count": 12,
   "id": "77210c54",
   "metadata": {},
   "outputs": [
    {
     "name": "stdout",
     "output_type": "stream",
     "text": [
      "31217582\n"
     ]
    }
   ],
   "source": [
    "# contigs_count only contains headers so no furhter calculations needed \n",
    "print(contigs_count)"
   ]
  },
  {
   "cell_type": "code",
   "execution_count": 13,
   "id": "ca768715",
   "metadata": {},
   "outputs": [],
   "source": [
    "raw_reads_R1 = summing_numbers_in_file(\"count_rawreads_R1.list\")"
   ]
  },
  {
   "cell_type": "code",
   "execution_count": 14,
   "id": "30118a6b",
   "metadata": {},
   "outputs": [
    {
     "data": {
      "text/plain": [
       "3042581492.0"
      ]
     },
     "execution_count": 14,
     "metadata": {},
     "output_type": "execute_result"
    }
   ],
   "source": [
    "(raw_reads_R1 * 2) /4"
   ]
  },
  {
   "cell_type": "markdown",
   "id": "814901d7",
   "metadata": {},
   "source": [
    "### making sure both forward and reverse reads are present"
   ]
  },
  {
   "cell_type": "code",
   "execution_count": 124,
   "id": "76a0386a",
   "metadata": {},
   "outputs": [],
   "source": [
    "Cl_R1 = pd.read_csv('3regionData/failBaseContentCL_1R.txt', header=None)\n",
    "Cl_R2 = pd.read_csv('3regionData/failBaseContentCL_2R.txt', header=None)\n",
    "SRR_R1 = pd.read_csv('3regionData/failBaseContentSRR_1R.txt', header=None)\n",
    "SRR_R2 = pd.read_csv('3regionData/failBaseContentSRR_2R.txt', header=None)\n"
   ]
  },
  {
   "cell_type": "code",
   "execution_count": 125,
   "id": "fb4811f9",
   "metadata": {},
   "outputs": [
    {
     "name": "stderr",
     "output_type": "stream",
     "text": [
      "/usr/local/lib/python3.7/site-packages/ipykernel_launcher.py:1: FutureWarning: The default value of regex will change from True to False in a future version.\n",
      "  \"\"\"Entry point for launching an IPython kernel.\n",
      "/usr/local/lib/python3.7/site-packages/ipykernel_launcher.py:2: FutureWarning: The default value of regex will change from True to False in a future version.\n",
      "  \n",
      "/usr/local/lib/python3.7/site-packages/ipykernel_launcher.py:3: FutureWarning: The default value of regex will change from True to False in a future version.\n",
      "  This is separate from the ipykernel package so we can avoid doing imports until\n",
      "/usr/local/lib/python3.7/site-packages/ipykernel_launcher.py:4: FutureWarning: The default value of regex will change from True to False in a future version.\n",
      "  after removing the cwd from sys.path.\n"
     ]
    }
   ],
   "source": [
    "Cl_R1[0] = Cl_R1[0].str.replace(r'_1$', '')\n",
    "Cl_R2[0] = Cl_R2[0].str.replace(r'_2$', '')\n",
    "SRR_R1[0] = SRR_R1[0].str.replace(r'_1$', '')\n",
    "SRR_R2[0] = SRR_R2[0].str.replace(r'_2$', '')"
   ]
  },
  {
   "cell_type": "code",
   "execution_count": 126,
   "id": "274cf57b",
   "metadata": {},
   "outputs": [
    {
     "data": {
      "text/html": [
       "<div>\n",
       "<style scoped>\n",
       "    .dataframe tbody tr th:only-of-type {\n",
       "        vertical-align: middle;\n",
       "    }\n",
       "\n",
       "    .dataframe tbody tr th {\n",
       "        vertical-align: top;\n",
       "    }\n",
       "\n",
       "    .dataframe thead th {\n",
       "        text-align: right;\n",
       "    }\n",
       "</style>\n",
       "<table border=\"1\" class=\"dataframe\">\n",
       "  <thead>\n",
       "    <tr style=\"text-align: right;\">\n",
       "      <th></th>\n",
       "      <th>0</th>\n",
       "    </tr>\n",
       "  </thead>\n",
       "  <tbody>\n",
       "    <tr>\n",
       "      <th>0</th>\n",
       "      <td>CL100006210_L01_1</td>\n",
       "    </tr>\n",
       "    <tr>\n",
       "      <th>1</th>\n",
       "      <td>CL100006210_L01_2</td>\n",
       "    </tr>\n",
       "    <tr>\n",
       "      <th>2</th>\n",
       "      <td>CL100006210_L01_3</td>\n",
       "    </tr>\n",
       "    <tr>\n",
       "      <th>3</th>\n",
       "      <td>CL100006210_L01_4</td>\n",
       "    </tr>\n",
       "    <tr>\n",
       "      <th>4</th>\n",
       "      <td>CL100006210_L01_5</td>\n",
       "    </tr>\n",
       "    <tr>\n",
       "      <th>...</th>\n",
       "      <td>...</td>\n",
       "    </tr>\n",
       "    <tr>\n",
       "      <th>147</th>\n",
       "      <td>CL100020565_L01_5</td>\n",
       "    </tr>\n",
       "    <tr>\n",
       "      <th>148</th>\n",
       "      <td>CL100020565_L02_13</td>\n",
       "    </tr>\n",
       "    <tr>\n",
       "      <th>149</th>\n",
       "      <td>CL100023189_L01_23</td>\n",
       "    </tr>\n",
       "    <tr>\n",
       "      <th>150</th>\n",
       "      <td>CL100023189_L02_35</td>\n",
       "    </tr>\n",
       "    <tr>\n",
       "      <th>151</th>\n",
       "      <td>CL100023189_L02_36</td>\n",
       "    </tr>\n",
       "  </tbody>\n",
       "</table>\n",
       "<p>152 rows × 1 columns</p>\n",
       "</div>"
      ],
      "text/plain": [
       "                      0\n",
       "0     CL100006210_L01_1\n",
       "1     CL100006210_L01_2\n",
       "2     CL100006210_L01_3\n",
       "3     CL100006210_L01_4\n",
       "4     CL100006210_L01_5\n",
       "..                  ...\n",
       "147   CL100020565_L01_5\n",
       "148  CL100020565_L02_13\n",
       "149  CL100023189_L01_23\n",
       "150  CL100023189_L02_35\n",
       "151  CL100023189_L02_36\n",
       "\n",
       "[152 rows x 1 columns]"
      ]
     },
     "execution_count": 126,
     "metadata": {},
     "output_type": "execute_result"
    }
   ],
   "source": [
    "Cl_R1"
   ]
  },
  {
   "cell_type": "code",
   "execution_count": 127,
   "id": "d4cb3836",
   "metadata": {},
   "outputs": [],
   "source": [
    "def get_different_rows(source_df, new_df):\n",
    "    \"\"\"Returns just the rows from the new dataframe that differ from the source dataframe\"\"\"\n",
    "    merged_df = source_df.merge(new_df, indicator=True, how='outer')\n",
    "    changed_rows_df = merged_df[merged_df['_merge'] == 'right_only']\n",
    "    return changed_rows_df.drop('_merge', axis=1)"
   ]
  },
  {
   "cell_type": "code",
   "execution_count": 128,
   "id": "aae56bf5",
   "metadata": {},
   "outputs": [],
   "source": [
    "missing_in_Cl_R1 = get_different_rows(Cl_R1, Cl_R2) # show the R2 that is not in R1"
   ]
  },
  {
   "cell_type": "code",
   "execution_count": 129,
   "id": "a070e6f4",
   "metadata": {},
   "outputs": [],
   "source": [
    "missing_in_Cl_R2 = get_different_rows(Cl_R2, Cl_R1) # shows the R1 that is not in R2"
   ]
  },
  {
   "cell_type": "code",
   "execution_count": 130,
   "id": "a51a4f66",
   "metadata": {},
   "outputs": [
    {
     "data": {
      "text/plain": [
       "152"
      ]
     },
     "execution_count": 130,
     "metadata": {},
     "output_type": "execute_result"
    }
   ],
   "source": [
    "len(Cl_R1)"
   ]
  },
  {
   "cell_type": "code",
   "execution_count": 131,
   "id": "faa2113e",
   "metadata": {},
   "outputs": [
    {
     "data": {
      "text/plain": [
       "57"
      ]
     },
     "execution_count": 131,
     "metadata": {},
     "output_type": "execute_result"
    }
   ],
   "source": [
    "len(Cl_R2)"
   ]
  },
  {
   "cell_type": "code",
   "execution_count": 132,
   "id": "16fa357d",
   "metadata": {},
   "outputs": [],
   "source": [
    "all_Cl_R1 = pd.concat([Cl_R1[0], missing_in_Cl_R1[0]])\n",
    "all_Cl_R2 = pd.concat([Cl_R2[0], missing_in_Cl_R2[0]])"
   ]
  },
  {
   "cell_type": "code",
   "execution_count": 133,
   "id": "4617f94e",
   "metadata": {},
   "outputs": [
    {
     "data": {
      "text/plain": [
       "153"
      ]
     },
     "execution_count": 133,
     "metadata": {},
     "output_type": "execute_result"
    }
   ],
   "source": [
    "len(all_Cl_R2)"
   ]
  },
  {
   "cell_type": "code",
   "execution_count": 134,
   "id": "c9aaf994",
   "metadata": {},
   "outputs": [],
   "source": [
    "missing_in_SRR_R1 = get_different_rows(SRR_R1, SRR_R2) # show the R2 that is not in R1"
   ]
  },
  {
   "cell_type": "code",
   "execution_count": 135,
   "id": "08d7e231",
   "metadata": {},
   "outputs": [],
   "source": [
    "missing_in_SRR_R2 = get_different_rows(SRR_R2, SRR_R1) # shows the R1 that is not in R2"
   ]
  },
  {
   "cell_type": "code",
   "execution_count": 136,
   "id": "bf21daf5",
   "metadata": {},
   "outputs": [
    {
     "data": {
      "text/plain": [
       "2"
      ]
     },
     "execution_count": 136,
     "metadata": {},
     "output_type": "execute_result"
    }
   ],
   "source": [
    "len(missing_in_SRR_R1)"
   ]
  },
  {
   "cell_type": "code",
   "execution_count": 137,
   "id": "8b1718a2",
   "metadata": {},
   "outputs": [
    {
     "data": {
      "text/plain": [
       "3"
      ]
     },
     "execution_count": 137,
     "metadata": {},
     "output_type": "execute_result"
    }
   ],
   "source": [
    "len(missing_in_SRR_R2)"
   ]
  },
  {
   "cell_type": "code",
   "execution_count": 138,
   "id": "26c1a83c",
   "metadata": {},
   "outputs": [],
   "source": [
    "all_SRR_R1 = pd.concat([SRR_R1[0], missing_in_SRR_R1[0]])\n",
    "all_SRR_R2 = pd.concat([SRR_R2[0], missing_in_SRR_R2[0]])"
   ]
  },
  {
   "cell_type": "code",
   "execution_count": 139,
   "id": "c2a1917f",
   "metadata": {},
   "outputs": [
    {
     "data": {
      "text/plain": [
       "205"
      ]
     },
     "execution_count": 139,
     "metadata": {},
     "output_type": "execute_result"
    }
   ],
   "source": [
    "len(all_SRR_R2)"
   ]
  },
  {
   "cell_type": "code",
   "execution_count": 140,
   "id": "1d0427ee",
   "metadata": {},
   "outputs": [
    {
     "data": {
      "text/html": [
       "<div>\n",
       "<style scoped>\n",
       "    .dataframe tbody tr th:only-of-type {\n",
       "        vertical-align: middle;\n",
       "    }\n",
       "\n",
       "    .dataframe tbody tr th {\n",
       "        vertical-align: top;\n",
       "    }\n",
       "\n",
       "    .dataframe thead th {\n",
       "        text-align: right;\n",
       "    }\n",
       "</style>\n",
       "<table border=\"1\" class=\"dataframe\">\n",
       "  <thead>\n",
       "    <tr style=\"text-align: right;\">\n",
       "      <th></th>\n",
       "      <th>0</th>\n",
       "    </tr>\n",
       "  </thead>\n",
       "  <tbody>\n",
       "  </tbody>\n",
       "</table>\n",
       "</div>"
      ],
      "text/plain": [
       "Empty DataFrame\n",
       "Columns: [0]\n",
       "Index: []"
      ]
     },
     "execution_count": 140,
     "metadata": {},
     "output_type": "execute_result"
    }
   ],
   "source": [
    "get_different_rows(pd.DataFrame(all_Cl_R1), pd.DataFrame(all_Cl_R1))"
   ]
  },
  {
   "cell_type": "code",
   "execution_count": 145,
   "id": "f705c2d3",
   "metadata": {},
   "outputs": [],
   "source": [
    "pd.DataFrame(all_Cl_R1).sort_values(by=0).to_csv('3regionData/all_Cl_R1.txt', header = None, index=False)\n",
    "pd.DataFrame(all_Cl_R2).sort_values(by=0).to_csv('3regionData/all_Cl_R2.txt', header = None, index=False)\n",
    "pd.DataFrame(all_SRR_R1).sort_values(by=0).to_csv('3regionData/all_SRR_R1.txt', header = None, index=False)\n",
    "pd.DataFrame(all_SRR_R2).sort_values(by=0).to_csv('3regionData/all_SRR_R2.txt', header = None, index=False)"
   ]
  },
  {
   "cell_type": "code",
   "execution_count": null,
   "id": "a65b0261",
   "metadata": {},
   "outputs": [],
   "source": []
  }
 ],
 "metadata": {
  "kernelspec": {
   "display_name": "Python 3 (ipykernel)",
   "language": "python",
   "name": "python3"
  },
  "language_info": {
   "codemirror_mode": {
    "name": "ipython",
    "version": 3
   },
   "file_extension": ".py",
   "mimetype": "text/x-python",
   "name": "python",
   "nbconvert_exporter": "python",
   "pygments_lexer": "ipython3",
   "version": "3.7.4"
  }
 },
 "nbformat": 4,
 "nbformat_minor": 5
}

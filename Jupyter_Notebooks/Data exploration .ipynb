{
 "cells": [
  {
   "cell_type": "markdown",
   "id": "c7c8e30c",
   "metadata": {},
   "source": [
    "#### Visualisation of the dataset\n",
    "\n",
    "visualisation of the number bases in the different datasets. "
   ]
  },
  {
   "cell_type": "code",
   "execution_count": 1,
   "id": "f69b5742",
   "metadata": {},
   "outputs": [],
   "source": [
    "import pandas as pd\n",
    "import matplotlib.pyplot as plt\n",
    "import seaborn as sns\n"
   ]
  },
  {
   "cell_type": "code",
   "execution_count": 2,
   "id": "052c06fd",
   "metadata": {},
   "outputs": [],
   "source": [
    "metadata = pd.read_csv('../data56_related_files/Metadata_fromDrive.tsv', sep = '\\t' )"
   ]
  },
  {
   "cell_type": "code",
   "execution_count": 15,
   "id": "b8aa5776",
   "metadata": {},
   "outputs": [
    {
     "data": {
      "text/html": [
       "<div>\n",
       "<style scoped>\n",
       "    .dataframe tbody tr th:only-of-type {\n",
       "        vertical-align: middle;\n",
       "    }\n",
       "\n",
       "    .dataframe tbody tr th {\n",
       "        vertical-align: top;\n",
       "    }\n",
       "\n",
       "    .dataframe thead th {\n",
       "        text-align: right;\n",
       "    }\n",
       "</style>\n",
       "<table border=\"1\" class=\"dataframe\">\n",
       "  <thead>\n",
       "    <tr style=\"text-align: right;\">\n",
       "      <th></th>\n",
       "      <th>Dataset</th>\n",
       "      <th>ID</th>\n",
       "      <th>Country</th>\n",
       "      <th>gender</th>\n",
       "      <th>age.days.</th>\n",
       "      <th>Breed</th>\n",
       "      <th>isolation.location</th>\n",
       "      <th>type</th>\n",
       "      <th>Feed</th>\n",
       "      <th>Temperature</th>\n",
       "      <th>...</th>\n",
       "      <th>vaccine</th>\n",
       "      <th>vægt</th>\n",
       "      <th>humidity</th>\n",
       "      <th>sequencing.method</th>\n",
       "      <th>DNA.extraction</th>\n",
       "      <th>Sample.replicate</th>\n",
       "      <th>location_name.farm</th>\n",
       "      <th>farm_ID</th>\n",
       "      <th>G bases</th>\n",
       "      <th>avg Gbases</th>\n",
       "    </tr>\n",
       "  </thead>\n",
       "  <tbody>\n",
       "    <tr>\n",
       "      <th>0</th>\n",
       "      <td>Huang</td>\n",
       "      <td>SRR6323134</td>\n",
       "      <td>China</td>\n",
       "      <td>male</td>\n",
       "      <td>42</td>\n",
       "      <td>Arbor Acres broiler</td>\n",
       "      <td>cecum</td>\n",
       "      <td>broiler</td>\n",
       "      <td>None</td>\n",
       "      <td>reduced from 35 °C on day 1 to 24 °C on day 21...</td>\n",
       "      <td>...</td>\n",
       "      <td>Combined Newcastle disease virus (NDV) and inf...</td>\n",
       "      <td>NaN</td>\n",
       "      <td>NaN</td>\n",
       "      <td>HiSeq X Ten</td>\n",
       "      <td>NaN</td>\n",
       "      <td>pooled digesta from five chickens</td>\n",
       "      <td>China:Beijing</td>\n",
       "      <td>china1</td>\n",
       "      <td>2.4</td>\n",
       "      <td>NaN</td>\n",
       "    </tr>\n",
       "    <tr>\n",
       "      <th>1</th>\n",
       "      <td>Huang</td>\n",
       "      <td>SRR6323252</td>\n",
       "      <td>China</td>\n",
       "      <td>male</td>\n",
       "      <td>42</td>\n",
       "      <td>Arbor Acres broiler</td>\n",
       "      <td>duodenum</td>\n",
       "      <td>broiler</td>\n",
       "      <td>None</td>\n",
       "      <td>reduced from 35 °C on day 1 to 24 °C on day 21...</td>\n",
       "      <td>...</td>\n",
       "      <td>Combined Newcastle disease virus (NDV) and inf...</td>\n",
       "      <td>NaN</td>\n",
       "      <td>NaN</td>\n",
       "      <td>HiSeq X Ten</td>\n",
       "      <td>NaN</td>\n",
       "      <td>pooled digesta from five chickens</td>\n",
       "      <td>China:Beijing</td>\n",
       "      <td>china1</td>\n",
       "      <td>2.8</td>\n",
       "      <td>NaN</td>\n",
       "    </tr>\n",
       "    <tr>\n",
       "      <th>2</th>\n",
       "      <td>Huang</td>\n",
       "      <td>SRR6323384</td>\n",
       "      <td>China</td>\n",
       "      <td>male</td>\n",
       "      <td>42</td>\n",
       "      <td>Arbor Acres broiler</td>\n",
       "      <td>ileum</td>\n",
       "      <td>broiler</td>\n",
       "      <td>None</td>\n",
       "      <td>reduced from 35 °C on day 1 to 24 °C on day 21...</td>\n",
       "      <td>...</td>\n",
       "      <td>Combined Newcastle disease virus (NDV) and inf...</td>\n",
       "      <td>NaN</td>\n",
       "      <td>NaN</td>\n",
       "      <td>HiSeq X Ten</td>\n",
       "      <td>NaN</td>\n",
       "      <td>pooled digesta from five chickens</td>\n",
       "      <td>China:Beijing</td>\n",
       "      <td>china1</td>\n",
       "      <td>2.6</td>\n",
       "      <td>NaN</td>\n",
       "    </tr>\n",
       "    <tr>\n",
       "      <th>3</th>\n",
       "      <td>Huang</td>\n",
       "      <td>SRR6323414</td>\n",
       "      <td>China</td>\n",
       "      <td>male</td>\n",
       "      <td>42</td>\n",
       "      <td>Arbor Acres broiler</td>\n",
       "      <td>jejunum</td>\n",
       "      <td>broiler</td>\n",
       "      <td>None</td>\n",
       "      <td>reduced from 35 °C on day 1 to 24 °C on day 21...</td>\n",
       "      <td>...</td>\n",
       "      <td>Combined Newcastle disease virus (NDV) and inf...</td>\n",
       "      <td>NaN</td>\n",
       "      <td>NaN</td>\n",
       "      <td>HiSeq X Ten</td>\n",
       "      <td>NaN</td>\n",
       "      <td>pooled digesta from five chickens</td>\n",
       "      <td>China:Beijing</td>\n",
       "      <td>china1</td>\n",
       "      <td>3.0</td>\n",
       "      <td>NaN</td>\n",
       "    </tr>\n",
       "    <tr>\n",
       "      <th>4</th>\n",
       "      <td>Huang</td>\n",
       "      <td>SRR6323550</td>\n",
       "      <td>China</td>\n",
       "      <td>male</td>\n",
       "      <td>42</td>\n",
       "      <td>Arbor Acres broiler</td>\n",
       "      <td>colorectum</td>\n",
       "      <td>broiler</td>\n",
       "      <td>None</td>\n",
       "      <td>reduced from 35 °C on day 1 to 24 °C on day 21...</td>\n",
       "      <td>...</td>\n",
       "      <td>Combined Newcastle disease virus (NDV) and inf...</td>\n",
       "      <td>NaN</td>\n",
       "      <td>NaN</td>\n",
       "      <td>HiSeq X Ten</td>\n",
       "      <td>NaN</td>\n",
       "      <td>pooled digesta from five chickens</td>\n",
       "      <td>China:Beijing</td>\n",
       "      <td>china1</td>\n",
       "      <td>3.0</td>\n",
       "      <td>NaN</td>\n",
       "    </tr>\n",
       "  </tbody>\n",
       "</table>\n",
       "<p>5 rows × 22 columns</p>\n",
       "</div>"
      ],
      "text/plain": [
       "  Dataset          ID Country gender age.days.                Breed  \\\n",
       "0   Huang  SRR6323134   China   male        42  Arbor Acres broiler   \n",
       "1   Huang  SRR6323252   China   male        42  Arbor Acres broiler   \n",
       "2   Huang  SRR6323384   China   male        42  Arbor Acres broiler   \n",
       "3   Huang  SRR6323414   China   male        42  Arbor Acres broiler   \n",
       "4   Huang  SRR6323550   China   male        42  Arbor Acres broiler   \n",
       "\n",
       "  isolation.location     type  Feed  \\\n",
       "0              cecum  broiler  None   \n",
       "1           duodenum  broiler  None   \n",
       "2              ileum  broiler  None   \n",
       "3            jejunum  broiler  None   \n",
       "4         colorectum  broiler  None   \n",
       "\n",
       "                                         Temperature  ...  \\\n",
       "0  reduced from 35 °C on day 1 to 24 °C on day 21...  ...   \n",
       "1  reduced from 35 °C on day 1 to 24 °C on day 21...  ...   \n",
       "2  reduced from 35 °C on day 1 to 24 °C on day 21...  ...   \n",
       "3  reduced from 35 °C on day 1 to 24 °C on day 21...  ...   \n",
       "4  reduced from 35 °C on day 1 to 24 °C on day 21...  ...   \n",
       "\n",
       "                                             vaccine vægt humidity  \\\n",
       "0  Combined Newcastle disease virus (NDV) and inf...  NaN      NaN   \n",
       "1  Combined Newcastle disease virus (NDV) and inf...  NaN      NaN   \n",
       "2  Combined Newcastle disease virus (NDV) and inf...  NaN      NaN   \n",
       "3  Combined Newcastle disease virus (NDV) and inf...  NaN      NaN   \n",
       "4  Combined Newcastle disease virus (NDV) and inf...  NaN      NaN   \n",
       "\n",
       "   sequencing.method  DNA.extraction                   Sample.replicate  \\\n",
       "0        HiSeq X Ten             NaN  pooled digesta from five chickens   \n",
       "1        HiSeq X Ten             NaN  pooled digesta from five chickens   \n",
       "2        HiSeq X Ten             NaN  pooled digesta from five chickens   \n",
       "3        HiSeq X Ten             NaN  pooled digesta from five chickens   \n",
       "4        HiSeq X Ten             NaN  pooled digesta from five chickens   \n",
       "\n",
       "   location_name.farm farm_ID G bases avg Gbases  \n",
       "0       China:Beijing  china1     2.4        NaN  \n",
       "1       China:Beijing  china1     2.8        NaN  \n",
       "2       China:Beijing  china1     2.6        NaN  \n",
       "3       China:Beijing  china1     3.0        NaN  \n",
       "4       China:Beijing  china1     3.0        NaN  \n",
       "\n",
       "[5 rows x 22 columns]"
      ]
     },
     "execution_count": 15,
     "metadata": {},
     "output_type": "execute_result"
    }
   ],
   "source": [
    "metadata.head(5)"
   ]
  },
  {
   "cell_type": "code",
   "execution_count": 16,
   "id": "40cadb56",
   "metadata": {},
   "outputs": [],
   "source": [
    "metadata['Dataset'] = metadata['Dataset'].str.replace('Huang','dChina')"
   ]
  },
  {
   "cell_type": "code",
   "execution_count": 17,
   "id": "a12817d8",
   "metadata": {},
   "outputs": [],
   "source": [
    "metadata['Dataset'] = metadata['Dataset'].str.replace('Gilroy','dSurrey')"
   ]
  },
  {
   "cell_type": "code",
   "execution_count": 18,
   "id": "ab66e76d",
   "metadata": {},
   "outputs": [],
   "source": [
    "metadata['Dataset'] = metadata['Dataset'].str.replace('Patrik Munk','dEFFORT')"
   ]
  },
  {
   "cell_type": "code",
   "execution_count": 19,
   "id": "936aa56e",
   "metadata": {},
   "outputs": [
    {
     "name": "stderr",
     "output_type": "stream",
     "text": [
      "/usr/local/lib/python3.7/site-packages/seaborn/_decorators.py:43: FutureWarning: Pass the following variables as keyword args: x, y. From version 0.12, the only valid positional argument will be `data`, and passing other arguments without an explicit keyword will result in an error or misinterpretation.\n",
      "  FutureWarning\n"
     ]
    },
    {
     "data": {
      "image/png": "[encoded data removed]",
      "text/plain": [
       "<Figure size 432x288 with 1 Axes>"
      ]
     },
     "metadata": {
      "needs_background": "light"
     },
     "output_type": "display_data"
    }
   ],
   "source": [
    "sns.boxplot(metadata['G bases'].astype(int), \n",
    "            metadata['Dataset'], palette=\"Paired\")\n",
    "plt.yticks(fontsize=10)\n",
    "plt.xticks(fontsize=10)\n",
    "plt.ylabel('')\n",
    "plt.xlabel('G bases', fontsize=12)\n",
    "\n",
    "plt.savefig('resultFigs/dataset_Gbases_boxplot.png',  bbox_inches='tight')"
   ]
  },
  {
   "cell_type": "code",
   "execution_count": 20,
   "id": "36e463ac",
   "metadata": {},
   "outputs": [
    {
     "data": {
      "text/plain": [
       "Dataset\n",
       "dChina     129.5\n",
       "dEFFORT    283.7\n",
       "dSurrey     30.0\n",
       "Name: G bases, dtype: float64"
      ]
     },
     "execution_count": 20,
     "metadata": {},
     "output_type": "execute_result"
    }
   ],
   "source": [
    "metadata.groupby('Dataset').sum()['G bases']"
   ]
  },
  {
   "cell_type": "code",
   "execution_count": 21,
   "id": "0cc6b408",
   "metadata": {},
   "outputs": [
    {
     "data": {
      "text/plain": [
       "<AxesSubplot:xlabel='G bases', ylabel='Count'>"
      ]
     },
     "execution_count": 21,
     "metadata": {},
     "output_type": "execute_result"
    },
    {
     "data": {
      "image/png": "[encoded data removed]",
      "text/plain": [
       "<Figure size 432x288 with 1 Axes>"
      ]
     },
     "metadata": {
      "needs_background": "light"
     },
     "output_type": "display_data"
    }
   ],
   "source": [
    "sns.histplot(x=metadata['G bases'], hue=metadata['Dataset'], binwidth=0.8)"
   ]
  }
 ],
 "metadata": {
  "kernelspec": {
   "display_name": "Python 3 (ipykernel)",
   "language": "python",
   "name": "python3"
  },
  "language_info": {
   "codemirror_mode": {
    "name": "ipython",
    "version": 3
   },
   "file_extension": ".py",
   "mimetype": "text/x-python",
   "name": "python",
   "nbconvert_exporter": "python",
   "pygments_lexer": "ipython3",
   "version": "3.7.4"
  }
 },
 "nbformat": 4,
 "nbformat_minor": 5
}

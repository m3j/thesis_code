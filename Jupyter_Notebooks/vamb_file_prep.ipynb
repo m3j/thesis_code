{
 "cells": [
  {
   "cell_type": "markdown",
   "id": "9d55c95d",
   "metadata": {},
   "source": [
    "### Generating files for Vamb "
   ]
  },
  {
   "cell_type": "code",
   "execution_count": 1,
   "id": "8b30eab8",
   "metadata": {},
   "outputs": [],
   "source": [
    "import pandas as pd"
   ]
  },
  {
   "cell_type": "code",
   "execution_count": 2,
   "id": "710b64ee",
   "metadata": {},
   "outputs": [],
   "source": [
    "f = open(\"../data56_related_files/sampleNames.txt\", \"r\")\n",
    "sampleNames = f.read()"
   ]
  },
  {
   "cell_type": "markdown",
   "id": "642a35e6",
   "metadata": {},
   "source": [
    "#### Contigs.txt"
   ]
  },
  {
   "cell_type": "code",
   "execution_count": 29,
   "id": "17a89d04",
   "metadata": {},
   "outputs": [],
   "source": [
    "# make string to list with split on new line\n",
    "sampleList = sampleNames.split(\"\\n\")"
   ]
  },
  {
   "cell_type": "code",
   "execution_count": 30,
   "id": "79875b8e",
   "metadata": {},
   "outputs": [],
   "source": [
    "contigFilesPath = \"/home/projects/dtu_00009/data/chicken_data_TM/2_omgang/spades_output/\""
   ]
  },
  {
   "cell_type": "code",
   "execution_count": 31,
   "id": "89946b9f",
   "metadata": {},
   "outputs": [],
   "source": [
    "contigPath = [contigFilesPath + s for s in sampleList]"
   ]
  },
  {
   "cell_type": "code",
   "execution_count": 32,
   "id": "4ef9005f",
   "metadata": {},
   "outputs": [],
   "source": [
    "contigFileName = \"/contigs.fasta\""
   ]
  },
  {
   "cell_type": "code",
   "execution_count": 33,
   "id": "f502b234",
   "metadata": {},
   "outputs": [],
   "source": [
    "contigs = [s + contigFileName for s in contigPath]"
   ]
  },
  {
   "cell_type": "code",
   "execution_count": 34,
   "id": "388aa733",
   "metadata": {},
   "outputs": [],
   "source": [
    "df = pd.DataFrame(contigs)"
   ]
  },
  {
   "cell_type": "code",
   "execution_count": 36,
   "id": "4a78e81b",
   "metadata": {},
   "outputs": [],
   "source": [
    "df.to_csv(\"../data56_related_files/vamb_files/contigs.txt\", index=False, header=False)"
   ]
  },
  {
   "cell_type": "markdown",
   "id": "3856153b",
   "metadata": {},
   "source": [
    "#### samples2data.txt"
   ]
  },
  {
   "cell_type": "code",
   "execution_count": 20,
   "id": "4d6ef8f9",
   "metadata": {},
   "outputs": [],
   "source": [
    "readsFilePath = \"home/projects/dtu_00009/data/chicken_data_TM/2_omgang/No_contamination/\""
   ]
  },
  {
   "cell_type": "code",
   "execution_count": 21,
   "id": "10aaaa30",
   "metadata": {},
   "outputs": [],
   "source": [
    "readsFileWithSample = [readsFilePath + s for s in sampleList]"
   ]
  },
  {
   "cell_type": "code",
   "execution_count": 22,
   "id": "756a1974",
   "metadata": {},
   "outputs": [],
   "source": [
    "R1_extention = \"_1.fastq.gz\""
   ]
  },
  {
   "cell_type": "code",
   "execution_count": 23,
   "id": "6307ef26",
   "metadata": {},
   "outputs": [],
   "source": [
    "readsFilePath_R1 = [s + R1_extention for s in readsFileWithSample]"
   ]
  },
  {
   "cell_type": "code",
   "execution_count": 24,
   "id": "7b10af3b",
   "metadata": {},
   "outputs": [],
   "source": [
    "R2_extention = \"_2.fastq.gz\""
   ]
  },
  {
   "cell_type": "code",
   "execution_count": 25,
   "id": "5d217511",
   "metadata": {},
   "outputs": [],
   "source": [
    "readsFilePath_R2 = [s + R2_extention for s in readsFileWithSample]"
   ]
  },
  {
   "cell_type": "code",
   "execution_count": 26,
   "id": "d411d7f0",
   "metadata": {},
   "outputs": [],
   "source": [
    "samplesWithReadsPath = list(zip(sampleList, readsFilePath_R1, readsFilePath_R2))"
   ]
  },
  {
   "cell_type": "code",
   "execution_count": 27,
   "id": "d796c671",
   "metadata": {},
   "outputs": [],
   "source": [
    "df = pd.DataFrame(samplesWithReadsPath)"
   ]
  },
  {
   "cell_type": "code",
   "execution_count": 28,
   "id": "a9759679",
   "metadata": {},
   "outputs": [],
   "source": [
    "df.to_csv(\"../data56_related_files/vamb_files/samples2data.txt\", sep = '\\t', index=False, header=False)"
   ]
  },
  {
   "cell_type": "markdown",
   "id": "9a7c24b9",
   "metadata": {},
   "source": [
    "#### List of sorted.bam files \n",
    "maybe /home/projects/dtu_00009/data/chicken_data_TM/2_omgang/vamb/bam/sorted/*.sorted.bam can be used instead"
   ]
  },
  {
   "cell_type": "code",
   "execution_count": 37,
   "id": "b69eb771",
   "metadata": {},
   "outputs": [],
   "source": [
    "sortbamfilePath = \"/home/projects/dtu_00009/data/chicken_data_TM/2_omgang/vamb/bam/sorted/\""
   ]
  },
  {
   "cell_type": "code",
   "execution_count": 38,
   "id": "a88b8914",
   "metadata": {},
   "outputs": [],
   "source": [
    "bam_extention = \".sorted.bam\""
   ]
  },
  {
   "cell_type": "code",
   "execution_count": 39,
   "id": "54959ed3",
   "metadata": {},
   "outputs": [],
   "source": [
    "samplesWithPath = [sortbamfilePath + s + bam_extention for s in sampleList]"
   ]
  },
  {
   "cell_type": "code",
   "execution_count": 40,
   "id": "deb84936",
   "metadata": {},
   "outputs": [],
   "source": [
    "df = pd.DataFrame(samplesWithPath)"
   ]
  },
  {
   "cell_type": "code",
   "execution_count": 41,
   "id": "9df58dd0",
   "metadata": {},
   "outputs": [],
   "source": [
    "df.to_csv(\"../data56_related_files/vamb_files/sorted_bam_PathList.txt\", sep = ' ', index=False, header=False)"
   ]
  }
 ],
 "metadata": {
  "kernelspec": {
   "display_name": "Python 3 (ipykernel)",
   "language": "python",
   "name": "python3"
  },
  "language_info": {
   "codemirror_mode": {
    "name": "ipython",
    "version": 3
   },
   "file_extension": ".py",
   "mimetype": "text/x-python",
   "name": "python",
   "nbconvert_exporter": "python",
   "pygments_lexer": "ipython3",
   "version": "3.7.4"
  }
 },
 "nbformat": 4,
 "nbformat_minor": 5
}

{
 "cells": [
  {
   "cell_type": "markdown",
   "id": "174b5714",
   "metadata": {},
   "source": [
    "### Generating a file with list of paths to bins to use in dRep\n",
    "\n",
    "In order to run dRep (for me at least) I needed to provide the path to all the bins - so greated a file listing all the bins with corresponding path. "
   ]
  },
  {
   "cell_type": "code",
   "execution_count": 19,
   "id": "8afd5ba6",
   "metadata": {},
   "outputs": [],
   "source": [
    "import numpy as np\n",
    "import pandas as pd"
   ]
  },
  {
   "cell_type": "code",
   "execution_count": 10,
   "id": "53d1eec9",
   "metadata": {},
   "outputs": [],
   "source": [
    "pathTestset = '/home/projects/dtu_00009/data/chicken_data_TM/2_omgang/vamb_test/vamb_output/bin/'\n",
    "\n",
    "path =  '/home/projects/dtu_00009/data/chicken_data_TM/2_omgang/vamb/vamb_output/bin/'"
   ]
  },
  {
   "cell_type": "code",
   "execution_count": 11,
   "id": "ca026bf1",
   "metadata": {},
   "outputs": [],
   "source": [
    "fastaListTestset = ['S1C1098.fna', 'S1C1493.fna', 'S1C1740.fna', 'S1C1991.fna', 'S1C2980.fna', 'S1C445.fna',  'S2C1301.fna', 'S2C1786.fna', 'S2C2600.fna', 'S1C1220.fna', \n",
    "'S1C1596.fna', 'S1C1787.fna', 'S1C2006.fna', 'S1C2993.fna', 'S1C662.fna',  'S2C1487.fna', 'S2C1892.fna', 'S2C956.fna',  'S3C1593.fna',\n",
    "'S1C1301.fna', 'S1C1663.fna', 'S1C1808.fna', 'S1C2126.fna', 'S1C304.fna',  'S1C66.fna',  'S2C1544.fna', 'S2C1917.fna', 'S3C1301.fna', 'S3C1595.fna', \n",
    "'S1C1349.fna', 'S1C1665.fna', 'S1C1814.fna', 'S1C2195.fna', 'S1C3080.fna', 'S1C676.fna',  'S2C1567.fna', 'S2C2006.fna', 'S3C1463.fna', 'S3C1631.fna', \n",
    "'S1C1381.fna', 'S1C1676.fna', 'S1C1826.fna', 'S1C2262.fna', 'S1C3957.fna', 'S1C776.fna',  'S2C1639.fna', 'S2C2012.fna', 'S3C1497.fna', 'S3C1668.fna',\n",
    "'S1C1421.fna', 'S1C1692.fna', 'S1C1849.fna', 'S1C2341.fna', 'S1C3994.fna', 'S1C7928.fna', 'S2C1653.fna', 'S2C2088.fna', 'S3C1498.fna', 'S3C1767.fna',\n",
    "'S1C14734.fna', 'S1C1723.fna', 'S1C1938.fna', 'S1C2610.fna', 'S1C409.fna',  'S2C1193.fna', 'S2C1668.fna', 'S2C2124.fna', 'S3C1513.fna', 'S3C1892.fna',\n",
    "'S3C2065.fna', 'S3C2178.fna', 'S3C2448.fna', 'S3C1544.fna']"
   ]
  },
  {
   "cell_type": "code",
   "execution_count": 12,
   "id": "db5116bd",
   "metadata": {},
   "outputs": [],
   "source": [
    "f = open('../data56_related_files/fastafile_bins_drep.csv', 'r')\n",
    "fastafiles = f.read()"
   ]
  },
  {
   "cell_type": "code",
   "execution_count": 13,
   "id": "2d5bd73a",
   "metadata": {},
   "outputs": [],
   "source": [
    "fastaList = fastafiles.split(' ')"
   ]
  },
  {
   "cell_type": "code",
   "execution_count": 14,
   "id": "6c8e9948",
   "metadata": {},
   "outputs": [
    {
     "data": {
      "text/plain": [
       "2965"
      ]
     },
     "execution_count": 14,
     "metadata": {},
     "output_type": "execute_result"
    }
   ],
   "source": [
    "len(fastaList)"
   ]
  },
  {
   "cell_type": "code",
   "execution_count": 15,
   "id": "4a3e8df3",
   "metadata": {},
   "outputs": [],
   "source": [
    "genomePathList = [path + s for s in fastaList]"
   ]
  },
  {
   "cell_type": "code",
   "execution_count": 16,
   "id": "b3846bc2",
   "metadata": {},
   "outputs": [
    {
     "data": {
      "text/plain": [
       "'/home/projects/dtu_00009/data/chicken_data_TM/2_omgang/vamb/vamb_output/bin/S10C10200.fna'"
      ]
     },
     "execution_count": 16,
     "metadata": {},
     "output_type": "execute_result"
    }
   ],
   "source": [
    "genomePathList[0]"
   ]
  },
  {
   "cell_type": "code",
   "execution_count": 20,
   "id": "2c9d6096",
   "metadata": {},
   "outputs": [],
   "source": [
    "df = pd.DataFrame(genomePathList)"
   ]
  },
  {
   "cell_type": "code",
   "execution_count": 21,
   "id": "29de6ca5",
   "metadata": {},
   "outputs": [],
   "source": [
    "df.to_csv('../data56_related_files/genomePathList', index = False, header = False)"
   ]
  }
 ],
 "metadata": {
  "kernelspec": {
   "display_name": "Python 3 (ipykernel)",
   "language": "python",
   "name": "python3"
  },
  "language_info": {
   "codemirror_mode": {
    "name": "ipython",
    "version": 3
   },
   "file_extension": ".py",
   "mimetype": "text/x-python",
   "name": "python",
   "nbconvert_exporter": "python",
   "pygments_lexer": "ipython3",
   "version": "3.7.4"
  }
 },
 "nbformat": 4,
 "nbformat_minor": 5
}

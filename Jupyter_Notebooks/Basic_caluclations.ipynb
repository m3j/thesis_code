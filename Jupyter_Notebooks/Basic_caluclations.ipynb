{
 "cells": [
  {
   "cell_type": "markdown",
   "id": "15769b40",
   "metadata": {},
   "source": [
    "### Basic functions\n",
    "this notebook is used for basic calculations - not interessting\n",
    "\n",
    "   - Adding read counts when counted in terminal\n",
    "\n",
    "I ended up getting the reads form each file printed to the terminal and in order to sum them up I saved them in a text file which is here opened and summed for the total read count. "
   ]
  },
  {
   "cell_type": "code",
   "execution_count": 1,
   "id": "ffc4fc22",
   "metadata": {},
   "outputs": [],
   "source": [
    "import pandas as pd \n",
    "import numpy as np"
   ]
  },
  {
   "cell_type": "markdown",
   "id": "e4ee5349",
   "metadata": {},
   "source": [
    "#### adding readcounts from a list"
   ]
  },
  {
   "cell_type": "code",
   "execution_count": 2,
   "id": "bdca588a",
   "metadata": {},
   "outputs": [],
   "source": [
    "def summing_numbers_in_file(filepath):\n",
    "    f = open(filepath, \"r\")\n",
    "    file = f.read()\n",
    "    \n",
    "    fileList = file.split(\"\\n\")\n",
    "   \n",
    "    # removing items that is not numeric \n",
    "    for l in fileList:\n",
    "        if l.isnumeric()==False:\n",
    "            fileList.remove(l)\n",
    "            \n",
    "    fileIntList = list(map(int, fileList)) \n",
    "    \n",
    "    return sum(fileIntList)"
   ]
  },
  {
   "cell_type": "code",
   "execution_count": 3,
   "id": "fff9a26c",
   "metadata": {},
   "outputs": [],
   "source": [
    "def summing_numbers_with_more_seperators(filepath, seperator):\n",
    "\n",
    "    f = open(filepath, \"r\")\n",
    "    file = f.read()\n",
    "    \n",
    "    fileList = file.split(\"\\n\")\n",
    "    \n",
    "    fileList_split = [i.split(seperator, 1)[1] for i in fileList]\n",
    "\n",
    "    # removing items the is not numeric \n",
    "    for l in fileList_split:\n",
    "        if l.isnumeric()==False:\n",
    "            fileList_split.remove(l)\n",
    "            \n",
    "    fileIntList = list(map(int, fileList_split)) \n",
    "    \n",
    "    return sum(fileIntList)"
   ]
  },
  {
   "cell_type": "code",
   "execution_count": 4,
   "id": "6cfbdfa9",
   "metadata": {},
   "outputs": [],
   "source": [
    "singles_count = summing_numbers_in_file(\"../data56_related_files/reads_count/count_singles.list\")"
   ]
  },
  {
   "cell_type": "code",
   "execution_count": 6,
   "id": "d3e2ed72",
   "metadata": {},
   "outputs": [],
   "source": [
    "r1_count = summing_numbers_in_file(\"../data56_related_files/reads_count/count_r1.list\")"
   ]
  },
  {
   "cell_type": "code",
   "execution_count": 7,
   "id": "3bebd905",
   "metadata": {},
   "outputs": [
    {
     "data": {
      "text/plain": [
       "5850393084"
      ]
     },
     "execution_count": 7,
     "metadata": {},
     "output_type": "execute_result"
    }
   ],
   "source": [
    "r1_count"
   ]
  },
  {
   "cell_type": "code",
   "execution_count": 8,
   "id": "cae542ae",
   "metadata": {},
   "outputs": [],
   "source": [
    "total_count = r1_count * 2 + singles_count"
   ]
  },
  {
   "cell_type": "code",
   "execution_count": 9,
   "id": "fcd24563",
   "metadata": {},
   "outputs": [],
   "source": [
    "reads_count = total_count/4"
   ]
  },
  {
   "cell_type": "code",
   "execution_count": 10,
   "id": "96d333f4",
   "metadata": {},
   "outputs": [
    {
     "data": {
      "text/plain": [
       "2957817888.0"
      ]
     },
     "execution_count": 10,
     "metadata": {},
     "output_type": "execute_result"
    }
   ],
   "source": [
    "reads_count"
   ]
  },
  {
   "cell_type": "code",
   "execution_count": 11,
   "id": "7dd26475",
   "metadata": {},
   "outputs": [],
   "source": [
    "contigs_count = summing_numbers_with_more_seperators(\"../data56_related_files/reads_count/count_contigs.list\", \":\")"
   ]
  },
  {
   "cell_type": "code",
   "execution_count": 12,
   "id": "77210c54",
   "metadata": {},
   "outputs": [
    {
     "name": "stdout",
     "output_type": "stream",
     "text": [
      "31217582\n"
     ]
    }
   ],
   "source": [
    "# contigs_count only contains headers so no furhter calculations needed \n",
    "print(contigs_count)"
   ]
  },
  {
   "cell_type": "code",
   "execution_count": 13,
   "id": "ca768715",
   "metadata": {},
   "outputs": [],
   "source": [
    "raw_reads_R1 = summing_numbers_in_file(\"../data56_related_files/reads_count/count_rawreads_R1.list\")"
   ]
  },
  {
   "cell_type": "code",
   "execution_count": 14,
   "id": "30118a6b",
   "metadata": {},
   "outputs": [
    {
     "data": {
      "text/plain": [
       "3042581492.0"
      ]
     },
     "execution_count": 14,
     "metadata": {},
     "output_type": "execute_result"
    }
   ],
   "source": [
    "(raw_reads_R1 * 2) /4"
   ]
  }
 ],
 "metadata": {
  "kernelspec": {
   "display_name": "Python 3 (ipykernel)",
   "language": "python",
   "name": "python3"
  },
  "language_info": {
   "codemirror_mode": {
    "name": "ipython",
    "version": 3
   },
   "file_extension": ".py",
   "mimetype": "text/x-python",
   "name": "python",
   "nbconvert_exporter": "python",
   "pygments_lexer": "ipython3",
   "version": "3.7.4"
  }
 },
 "nbformat": 4,
 "nbformat_minor": 5
}

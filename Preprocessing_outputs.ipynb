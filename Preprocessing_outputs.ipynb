{
 "cells": [
  {
   "cell_type": "code",
   "execution_count": 1,
   "id": "a092dc58",
   "metadata": {},
   "outputs": [],
   "source": [
    "import pandas as pd\n",
    "import numpy as np"
   ]
  },
  {
   "cell_type": "markdown",
   "id": "29a92167",
   "metadata": {},
   "source": [
    "### Adapter and 5 leftmost bases trimming results - bbduk"
   ]
  },
  {
   "cell_type": "code",
   "execution_count": 171,
   "id": "6e084952",
   "metadata": {},
   "outputs": [],
   "source": [
    "bbduk_out = pd.read_csv('data56_related_files/total_removed.tsv', sep = '\\t', header = None)"
   ]
  },
  {
   "cell_type": "code",
   "execution_count": 173,
   "id": "88bf17af",
   "metadata": {},
   "outputs": [
    {
     "data": {
      "text/html": [
       "<div>\n",
       "<style scoped>\n",
       "    .dataframe tbody tr th:only-of-type {\n",
       "        vertical-align: middle;\n",
       "    }\n",
       "\n",
       "    .dataframe tbody tr th {\n",
       "        vertical-align: top;\n",
       "    }\n",
       "\n",
       "    .dataframe thead th {\n",
       "        text-align: right;\n",
       "    }\n",
       "</style>\n",
       "<table border=\"1\" class=\"dataframe\">\n",
       "  <thead>\n",
       "    <tr style=\"text-align: right;\">\n",
       "      <th></th>\n",
       "      <th>0</th>\n",
       "      <th>1</th>\n",
       "      <th>2</th>\n",
       "    </tr>\n",
       "  </thead>\n",
       "  <tbody>\n",
       "    <tr>\n",
       "      <th>0</th>\n",
       "      <td>Total Removed:</td>\n",
       "      <td>284094 reads (0.30%)</td>\n",
       "      <td>688762478 bases (4.78%)</td>\n",
       "    </tr>\n",
       "    <tr>\n",
       "      <th>1</th>\n",
       "      <td>Total Removed:</td>\n",
       "      <td>159254 reads (0.17%)</td>\n",
       "      <td>615379398 bases (4.37%)</td>\n",
       "    </tr>\n",
       "    <tr>\n",
       "      <th>2</th>\n",
       "      <td>Total Removed:</td>\n",
       "      <td>146962 reads (0.14%)</td>\n",
       "      <td>862174844 bases (5.61%)</td>\n",
       "    </tr>\n",
       "    <tr>\n",
       "      <th>3</th>\n",
       "      <td>Total Removed:</td>\n",
       "      <td>137792 reads (0.16%)</td>\n",
       "      <td>716070478 bases (5.40%)</td>\n",
       "    </tr>\n",
       "    <tr>\n",
       "      <th>4</th>\n",
       "      <td>Total Removed:</td>\n",
       "      <td>32452 reads (0.04%)</td>\n",
       "      <td>721948044 bases (5.89%)</td>\n",
       "    </tr>\n",
       "  </tbody>\n",
       "</table>\n",
       "</div>"
      ],
      "text/plain": [
       "                          0                      1                        2\n",
       "0  Total Removed:            284094 reads (0.30%)   688762478 bases (4.78%)\n",
       "1  Total Removed:            159254 reads (0.17%)   615379398 bases (4.37%)\n",
       "2  Total Removed:            146962 reads (0.14%)   862174844 bases (5.61%)\n",
       "3  Total Removed:            137792 reads (0.16%)   716070478 bases (5.40%)\n",
       "4  Total Removed:             32452 reads (0.04%)   721948044 bases (5.89%)"
      ]
     },
     "execution_count": 173,
     "metadata": {},
     "output_type": "execute_result"
    }
   ],
   "source": [
    "bbduk_out.head()"
   ]
  },
  {
   "cell_type": "code",
   "execution_count": 211,
   "id": "4c56f99c",
   "metadata": {},
   "outputs": [],
   "source": [
    "def get_summary(df):\n",
    "    df = df.iloc[: , 1:]\n",
    "    df.columns = ['removed_reads', 'removed_bases']\n",
    "    df[['#_bases','%_bases']] = df.removed_bases.str.split(\"(\",expand=True)\n",
    "    df[['#_reads','%_reads']] = df.removed_reads.str.split(\"(\",expand=True)\n",
    "    \n",
    "    df['%_reads'] = df['%_reads'].str.replace(')', '')\n",
    "    df['%_bases'] = df['%_bases'].str.replace(')', '')\n",
    "    df['%_reads'] = df['%_reads'].str.replace('%', '')\n",
    "    df['%_bases'] = df['%_bases'].str.replace('%', '')\n",
    "    df['#_bases'] = df['#_bases'].str.replace(' bases ', '')\n",
    "    df['#_reads'] = df['#_reads'].str.replace(' reads ', '')\n",
    "    \n",
    "    df = df.iloc[: , 2:]\n",
    "    \n",
    "    df['#_bases'] = df['#_bases'].astype(int)\n",
    "    df['#_reads'] = df['#_reads'].astype(int)\n",
    "    df['%_bases'] = df['%_bases'].astype(float)\n",
    "    df['%_reads'] = df['%_reads'].astype(float)\n",
    "    \n",
    "    percentage_zero = df['#_bases'][df['#_bases'] == 0].count()/len(df) * 100\n",
    "#     print('Number of rows where bases are zero', df['#_bases'][df['#_bases'] == 0].count())\n",
    "#     print('Lenght of df', len(df))\n",
    "    print('percentage of rows equal to zero'), percentage_zero)\n",
    "    \n",
    "    print('summary before dropping rows with zero')\n",
    "    print(df.describe())\n",
    "    \n",
    "    df = df[(df != 0).all(1)]\n",
    "    \n",
    "    return df.describe()"
   ]
  },
  {
   "cell_type": "code",
   "execution_count": 203,
   "id": "d06cd33f",
   "metadata": {},
   "outputs": [
    {
     "name": "stdout",
     "output_type": "stream",
     "text": [
      "percentage of rows equal to zero 0.0\n"
     ]
    },
    {
     "name": "stderr",
     "output_type": "stream",
     "text": [
      "/usr/local/lib/python3.7/site-packages/ipykernel_launcher.py:7: FutureWarning: The default value of regex will change from True to False in a future version. In addition, single character regular expressions will *not* be treated as literal strings when regex=True.\n",
      "  import sys\n",
      "/usr/local/lib/python3.7/site-packages/ipykernel_launcher.py:8: FutureWarning: The default value of regex will change from True to False in a future version. In addition, single character regular expressions will *not* be treated as literal strings when regex=True.\n",
      "  \n"
     ]
    },
    {
     "data": {
      "text/html": [
       "<div>\n",
       "<style scoped>\n",
       "    .dataframe tbody tr th:only-of-type {\n",
       "        vertical-align: middle;\n",
       "    }\n",
       "\n",
       "    .dataframe tbody tr th {\n",
       "        vertical-align: top;\n",
       "    }\n",
       "\n",
       "    .dataframe thead th {\n",
       "        text-align: right;\n",
       "    }\n",
       "</style>\n",
       "<table border=\"1\" class=\"dataframe\">\n",
       "  <thead>\n",
       "    <tr style=\"text-align: right;\">\n",
       "      <th></th>\n",
       "      <th>#_bases</th>\n",
       "      <th>%_bases</th>\n",
       "      <th>#_reads</th>\n",
       "      <th>%_reads</th>\n",
       "    </tr>\n",
       "  </thead>\n",
       "  <tbody>\n",
       "    <tr>\n",
       "      <th>count</th>\n",
       "      <td>5.600000e+01</td>\n",
       "      <td>56.000000</td>\n",
       "      <td>56.000000</td>\n",
       "      <td>56.000000</td>\n",
       "    </tr>\n",
       "    <tr>\n",
       "      <th>mean</th>\n",
       "      <td>4.412802e+08</td>\n",
       "      <td>4.783036</td>\n",
       "      <td>38907.392857</td>\n",
       "      <td>0.043036</td>\n",
       "    </tr>\n",
       "    <tr>\n",
       "      <th>std</th>\n",
       "      <td>4.020846e+08</td>\n",
       "      <td>1.685500</td>\n",
       "      <td>73641.969435</td>\n",
       "      <td>0.085619</td>\n",
       "    </tr>\n",
       "    <tr>\n",
       "      <th>min</th>\n",
       "      <td>5.808046e+07</td>\n",
       "      <td>3.380000</td>\n",
       "      <td>0.000000</td>\n",
       "      <td>0.000000</td>\n",
       "    </tr>\n",
       "    <tr>\n",
       "      <th>25%</th>\n",
       "      <td>1.562318e+08</td>\n",
       "      <td>3.497500</td>\n",
       "      <td>70.000000</td>\n",
       "      <td>0.000000</td>\n",
       "    </tr>\n",
       "    <tr>\n",
       "      <th>50%</th>\n",
       "      <td>2.037352e+08</td>\n",
       "      <td>4.075000</td>\n",
       "      <td>621.000000</td>\n",
       "      <td>0.000000</td>\n",
       "    </tr>\n",
       "    <tr>\n",
       "      <th>75%</th>\n",
       "      <td>7.311362e+08</td>\n",
       "      <td>5.542500</td>\n",
       "      <td>50446.000000</td>\n",
       "      <td>0.052500</td>\n",
       "    </tr>\n",
       "    <tr>\n",
       "      <th>max</th>\n",
       "      <td>1.484261e+09</td>\n",
       "      <td>9.890000</td>\n",
       "      <td>374232.000000</td>\n",
       "      <td>0.480000</td>\n",
       "    </tr>\n",
       "  </tbody>\n",
       "</table>\n",
       "</div>"
      ],
      "text/plain": [
       "            #_bases    %_bases        #_reads    %_reads\n",
       "count  5.600000e+01  56.000000      56.000000  56.000000\n",
       "mean   4.412802e+08   4.783036   38907.392857   0.043036\n",
       "std    4.020846e+08   1.685500   73641.969435   0.085619\n",
       "min    5.808046e+07   3.380000       0.000000   0.000000\n",
       "25%    1.562318e+08   3.497500      70.000000   0.000000\n",
       "50%    2.037352e+08   4.075000     621.000000   0.000000\n",
       "75%    7.311362e+08   5.542500   50446.000000   0.052500\n",
       "max    1.484261e+09   9.890000  374232.000000   0.480000"
      ]
     },
     "execution_count": 203,
     "metadata": {},
     "output_type": "execute_result"
    }
   ],
   "source": [
    "get_summary(bbduk_out)"
   ]
  },
  {
   "cell_type": "markdown",
   "id": "beee9fdf",
   "metadata": {},
   "source": [
    "### Low Quality  removal results - sickle"
   ]
  },
  {
   "cell_type": "code",
   "execution_count": 133,
   "id": "e72563b0",
   "metadata": {},
   "outputs": [],
   "source": [
    "sickle_out = pd.read_csv('data56_related_files/sickle_output', sep = '\\t', header = None)"
   ]
  },
  {
   "cell_type": "code",
   "execution_count": 134,
   "id": "a656a41f",
   "metadata": {},
   "outputs": [],
   "source": [
    "sickle_out.columns = ['temp']"
   ]
  },
  {
   "cell_type": "code",
   "execution_count": 135,
   "id": "0c355b94",
   "metadata": {},
   "outputs": [
    {
     "data": {
      "text/html": [
       "<div>\n",
       "<style scoped>\n",
       "    .dataframe tbody tr th:only-of-type {\n",
       "        vertical-align: middle;\n",
       "    }\n",
       "\n",
       "    .dataframe tbody tr th {\n",
       "        vertical-align: top;\n",
       "    }\n",
       "\n",
       "    .dataframe thead th {\n",
       "        text-align: right;\n",
       "    }\n",
       "</style>\n",
       "<table border=\"1\" class=\"dataframe\">\n",
       "  <thead>\n",
       "    <tr style=\"text-align: right;\">\n",
       "      <th></th>\n",
       "      <th>temp</th>\n",
       "    </tr>\n",
       "  </thead>\n",
       "  <tbody>\n",
       "    <tr>\n",
       "      <th>0</th>\n",
       "      <td>==============================================...</td>\n",
       "    </tr>\n",
       "    <tr>\n",
       "      <th>1</th>\n",
       "      <td>BeeOND mounts, if requested</td>\n",
       "    </tr>\n",
       "    <tr>\n",
       "      <th>2</th>\n",
       "      <td>FastQ paired records kept: 91976576 (45988288 ...</td>\n",
       "    </tr>\n",
       "    <tr>\n",
       "      <th>3</th>\n",
       "      <td>FastQ single records kept: 1494564 (from PE1: ...</td>\n",
       "    </tr>\n",
       "    <tr>\n",
       "      <th>4</th>\n",
       "      <td>FastQ paired records discarded: 270528 (135264...</td>\n",
       "    </tr>\n",
       "    <tr>\n",
       "      <th>...</th>\n",
       "      <td>...</td>\n",
       "    </tr>\n",
       "    <tr>\n",
       "      <th>247</th>\n",
       "      <td>FastQ single records discarded: 174425 (from P...</td>\n",
       "    </tr>\n",
       "    <tr>\n",
       "      <th>248</th>\n",
       "      <td>FastQ paired records kept: 38737226 (19368613 ...</td>\n",
       "    </tr>\n",
       "    <tr>\n",
       "      <th>249</th>\n",
       "      <td>FastQ single records kept: 177689 (from PE1: 1...</td>\n",
       "    </tr>\n",
       "    <tr>\n",
       "      <th>250</th>\n",
       "      <td>FastQ paired records discarded: 34876 (17438 p...</td>\n",
       "    </tr>\n",
       "    <tr>\n",
       "      <th>251</th>\n",
       "      <td>FastQ single records discarded: 177689 (from P...</td>\n",
       "    </tr>\n",
       "  </tbody>\n",
       "</table>\n",
       "<p>252 rows × 1 columns</p>\n",
       "</div>"
      ],
      "text/plain": [
       "                                                  temp\n",
       "0    ==============================================...\n",
       "1                          BeeOND mounts, if requested\n",
       "2    FastQ paired records kept: 91976576 (45988288 ...\n",
       "3    FastQ single records kept: 1494564 (from PE1: ...\n",
       "4    FastQ paired records discarded: 270528 (135264...\n",
       "..                                                 ...\n",
       "247  FastQ single records discarded: 174425 (from P...\n",
       "248  FastQ paired records kept: 38737226 (19368613 ...\n",
       "249  FastQ single records kept: 177689 (from PE1: 1...\n",
       "250  FastQ paired records discarded: 34876 (17438 p...\n",
       "251  FastQ single records discarded: 177689 (from P...\n",
       "\n",
       "[252 rows x 1 columns]"
      ]
     },
     "execution_count": 135,
     "metadata": {},
     "output_type": "execute_result"
    }
   ],
   "source": [
    "\n",
    "sickle_out"
   ]
  },
  {
   "cell_type": "code",
   "execution_count": 136,
   "id": "6a7d1af5",
   "metadata": {},
   "outputs": [],
   "source": [
    "sickle_out = sickle_out[sickle_out['temp'].str.contains(\"discarded\")]"
   ]
  },
  {
   "cell_type": "code",
   "execution_count": 137,
   "id": "efcc8c67",
   "metadata": {},
   "outputs": [
    {
     "name": "stderr",
     "output_type": "stream",
     "text": [
      "/usr/local/lib/python3.7/site-packages/pandas/core/frame.py:3641: SettingWithCopyWarning: \n",
      "A value is trying to be set on a copy of a slice from a DataFrame.\n",
      "Try using .loc[row_indexer,col_indexer] = value instead\n",
      "\n",
      "See the caveats in the documentation: https://pandas.pydata.org/pandas-docs/stable/user_guide/indexing.html#returning-a-view-versus-a-copy\n",
      "  self[k1] = value[k2]\n"
     ]
    }
   ],
   "source": [
    "sickle_out[['describtion','count']] = sickle_out.temp.str.split(\":\",1 ,expand=True)"
   ]
  },
  {
   "cell_type": "code",
   "execution_count": 138,
   "id": "7c1c0abe",
   "metadata": {},
   "outputs": [],
   "source": [
    "sickle_out= sickle_out.iloc[:, 1:]"
   ]
  },
  {
   "cell_type": "code",
   "execution_count": 139,
   "id": "2feaab36",
   "metadata": {},
   "outputs": [],
   "source": [
    "\n",
    "sickle_out['count'] = sickle_out['count'].str.split('(').str[0]"
   ]
  },
  {
   "cell_type": "code",
   "execution_count": 140,
   "id": "9e176c60",
   "metadata": {},
   "outputs": [
    {
     "data": {
      "text/html": [
       "<div>\n",
       "<style scoped>\n",
       "    .dataframe tbody tr th:only-of-type {\n",
       "        vertical-align: middle;\n",
       "    }\n",
       "\n",
       "    .dataframe tbody tr th {\n",
       "        vertical-align: top;\n",
       "    }\n",
       "\n",
       "    .dataframe thead th {\n",
       "        text-align: right;\n",
       "    }\n",
       "</style>\n",
       "<table border=\"1\" class=\"dataframe\">\n",
       "  <thead>\n",
       "    <tr style=\"text-align: right;\">\n",
       "      <th></th>\n",
       "      <th>describtion</th>\n",
       "      <th>count</th>\n",
       "    </tr>\n",
       "  </thead>\n",
       "  <tbody>\n",
       "    <tr>\n",
       "      <th>4</th>\n",
       "      <td>FastQ paired records discarded</td>\n",
       "      <td>270528</td>\n",
       "    </tr>\n",
       "    <tr>\n",
       "      <th>5</th>\n",
       "      <td>FastQ single records discarded</td>\n",
       "      <td>1494564</td>\n",
       "    </tr>\n",
       "    <tr>\n",
       "      <th>12</th>\n",
       "      <td>FastQ paired records discarded</td>\n",
       "      <td>199324</td>\n",
       "    </tr>\n",
       "    <tr>\n",
       "      <th>13</th>\n",
       "      <td>FastQ single records discarded</td>\n",
       "      <td>1406578</td>\n",
       "    </tr>\n",
       "    <tr>\n",
       "      <th>20</th>\n",
       "      <td>FastQ paired records discarded</td>\n",
       "      <td>385968</td>\n",
       "    </tr>\n",
       "    <tr>\n",
       "      <th>...</th>\n",
       "      <td>...</td>\n",
       "      <td>...</td>\n",
       "    </tr>\n",
       "    <tr>\n",
       "      <th>243</th>\n",
       "      <td>FastQ single records discarded</td>\n",
       "      <td>161926</td>\n",
       "    </tr>\n",
       "    <tr>\n",
       "      <th>246</th>\n",
       "      <td>FastQ paired records discarded</td>\n",
       "      <td>27682</td>\n",
       "    </tr>\n",
       "    <tr>\n",
       "      <th>247</th>\n",
       "      <td>FastQ single records discarded</td>\n",
       "      <td>174425</td>\n",
       "    </tr>\n",
       "    <tr>\n",
       "      <th>250</th>\n",
       "      <td>FastQ paired records discarded</td>\n",
       "      <td>34876</td>\n",
       "    </tr>\n",
       "    <tr>\n",
       "      <th>251</th>\n",
       "      <td>FastQ single records discarded</td>\n",
       "      <td>177689</td>\n",
       "    </tr>\n",
       "  </tbody>\n",
       "</table>\n",
       "<p>112 rows × 2 columns</p>\n",
       "</div>"
      ],
      "text/plain": [
       "                        describtion      count\n",
       "4    FastQ paired records discarded    270528 \n",
       "5    FastQ single records discarded   1494564 \n",
       "12   FastQ paired records discarded    199324 \n",
       "13   FastQ single records discarded   1406578 \n",
       "20   FastQ paired records discarded    385968 \n",
       "..                              ...        ...\n",
       "243  FastQ single records discarded    161926 \n",
       "246  FastQ paired records discarded     27682 \n",
       "247  FastQ single records discarded    174425 \n",
       "250  FastQ paired records discarded     34876 \n",
       "251  FastQ single records discarded    177689 \n",
       "\n",
       "[112 rows x 2 columns]"
      ]
     },
     "execution_count": 140,
     "metadata": {},
     "output_type": "execute_result"
    }
   ],
   "source": [
    "sickle_out"
   ]
  },
  {
   "cell_type": "code",
   "execution_count": 156,
   "id": "f7967645",
   "metadata": {},
   "outputs": [],
   "source": [
    "one = list(range(1,57,1))\n",
    "two = list(range(1,57,1))\n",
    "\n",
    "double_index = (one + two)"
   ]
  },
  {
   "cell_type": "code",
   "execution_count": 161,
   "id": "e1028095",
   "metadata": {},
   "outputs": [
    {
     "name": "stdout",
     "output_type": "stream",
     "text": [
      "[1, 1, 2, 2, 3, 3, 4, 4, 5, 5, 6, 6, 7, 7, 8, 8, 9, 9, 10, 10, 11, 11, 12, 12, 13, 13, 14, 14, 15, 15, 16, 16, 17, 17, 18, 18, 19, 19, 20, 20, 21, 21, 22, 22, 23, 23, 24, 24, 25, 25, 26, 26, 27, 27, 28, 28, 29, 29, 30, 30, 31, 31, 32, 32, 33, 33, 34, 34, 35, 35, 36, 36, 37, 37, 38, 38, 39, 39, 40, 40, 41, 41, 42, 42, 43, 43, 44, 44, 45, 45, 46, 46, 47, 47, 48, 48, 49, 49, 50, 50, 51, 51, 52, 52, 53, 53, 54, 54, 55, 55, 56, 56]\n"
     ]
    }
   ],
   "source": [
    "print(double_index)"
   ]
  },
  {
   "cell_type": "code",
   "execution_count": 162,
   "id": "2bdb42bb",
   "metadata": {},
   "outputs": [],
   "source": [
    "sickle_out['index1'] = double_index"
   ]
  },
  {
   "cell_type": "code",
   "execution_count": 165,
   "id": "0deb7aee",
   "metadata": {},
   "outputs": [],
   "source": [
    "sickle_out = sickle_out.pivot(index='index1', columns='describtion', values='count')"
   ]
  },
  {
   "cell_type": "code",
   "execution_count": 168,
   "id": "5bf4d245",
   "metadata": {},
   "outputs": [],
   "source": [
    "sickle_out['FastQ paired records discarded'] = sickle_out['FastQ paired records discarded'].astype(int)\n",
    "sickle_out['FastQ single records discarded'] = sickle_out['FastQ single records discarded'].astype(int)"
   ]
  },
  {
   "cell_type": "code",
   "execution_count": 169,
   "id": "2bde9c13",
   "metadata": {},
   "outputs": [
    {
     "data": {
      "text/html": [
       "<div>\n",
       "<style scoped>\n",
       "    .dataframe tbody tr th:only-of-type {\n",
       "        vertical-align: middle;\n",
       "    }\n",
       "\n",
       "    .dataframe tbody tr th {\n",
       "        vertical-align: top;\n",
       "    }\n",
       "\n",
       "    .dataframe thead th {\n",
       "        text-align: right;\n",
       "    }\n",
       "</style>\n",
       "<table border=\"1\" class=\"dataframe\">\n",
       "  <thead>\n",
       "    <tr style=\"text-align: right;\">\n",
       "      <th>describtion</th>\n",
       "      <th>FastQ paired records discarded</th>\n",
       "      <th>FastQ single records discarded</th>\n",
       "    </tr>\n",
       "  </thead>\n",
       "  <tbody>\n",
       "    <tr>\n",
       "      <th>count</th>\n",
       "      <td>56.000000</td>\n",
       "      <td>5.600000e+01</td>\n",
       "    </tr>\n",
       "    <tr>\n",
       "      <th>mean</th>\n",
       "      <td>154949.535714</td>\n",
       "      <td>6.005990e+05</td>\n",
       "    </tr>\n",
       "    <tr>\n",
       "      <th>std</th>\n",
       "      <td>225489.706853</td>\n",
       "      <td>8.150042e+05</td>\n",
       "    </tr>\n",
       "    <tr>\n",
       "      <th>min</th>\n",
       "      <td>8.000000</td>\n",
       "      <td>0.000000e+00</td>\n",
       "    </tr>\n",
       "    <tr>\n",
       "      <th>25%</th>\n",
       "      <td>148.500000</td>\n",
       "      <td>0.000000e+00</td>\n",
       "    </tr>\n",
       "    <tr>\n",
       "      <th>50%</th>\n",
       "      <td>679.000000</td>\n",
       "      <td>0.000000e+00</td>\n",
       "    </tr>\n",
       "    <tr>\n",
       "      <th>75%</th>\n",
       "      <td>343662.500000</td>\n",
       "      <td>1.409318e+06</td>\n",
       "    </tr>\n",
       "    <tr>\n",
       "      <th>max</th>\n",
       "      <td>787614.000000</td>\n",
       "      <td>2.176090e+06</td>\n",
       "    </tr>\n",
       "  </tbody>\n",
       "</table>\n",
       "</div>"
      ],
      "text/plain": [
       "describtion  FastQ paired records discarded  FastQ single records discarded\n",
       "count                             56.000000                    5.600000e+01\n",
       "mean                          154949.535714                    6.005990e+05\n",
       "std                           225489.706853                    8.150042e+05\n",
       "min                                8.000000                    0.000000e+00\n",
       "25%                              148.500000                    0.000000e+00\n",
       "50%                              679.000000                    0.000000e+00\n",
       "75%                           343662.500000                    1.409318e+06\n",
       "max                           787614.000000                    2.176090e+06"
      ]
     },
     "execution_count": 169,
     "metadata": {},
     "output_type": "execute_result"
    }
   ],
   "source": [
    "sickle_out.describe()"
   ]
  },
  {
   "cell_type": "markdown",
   "id": "9c0b1da0",
   "metadata": {},
   "source": [
    "### PhiX Contamination removal"
   ]
  },
  {
   "cell_type": "code",
   "execution_count": 182,
   "id": "3e4ba532",
   "metadata": {},
   "outputs": [],
   "source": [
    "PhiX_out = pd.read_csv('data56_related_files/total_removed_PhiX2', sep = '\\t', header = None)"
   ]
  },
  {
   "cell_type": "code",
   "execution_count": 183,
   "id": "f05402e4",
   "metadata": {},
   "outputs": [
    {
     "data": {
      "text/html": [
       "<div>\n",
       "<style scoped>\n",
       "    .dataframe tbody tr th:only-of-type {\n",
       "        vertical-align: middle;\n",
       "    }\n",
       "\n",
       "    .dataframe tbody tr th {\n",
       "        vertical-align: top;\n",
       "    }\n",
       "\n",
       "    .dataframe thead th {\n",
       "        text-align: right;\n",
       "    }\n",
       "</style>\n",
       "<table border=\"1\" class=\"dataframe\">\n",
       "  <thead>\n",
       "    <tr style=\"text-align: right;\">\n",
       "      <th></th>\n",
       "      <th>0</th>\n",
       "      <th>1</th>\n",
       "      <th>2</th>\n",
       "    </tr>\n",
       "  </thead>\n",
       "  <tbody>\n",
       "    <tr>\n",
       "      <th>0</th>\n",
       "      <td>Total Removed:</td>\n",
       "      <td>386068 reads (0.42%)</td>\n",
       "      <td>53565190 bases (0.41%)</td>\n",
       "    </tr>\n",
       "    <tr>\n",
       "      <th>1</th>\n",
       "      <td>Total Removed:</td>\n",
       "      <td>180020 reads (0.20%)</td>\n",
       "      <td>24421929 bases (0.19%)</td>\n",
       "    </tr>\n",
       "    <tr>\n",
       "      <th>2</th>\n",
       "      <td>Total Removed:</td>\n",
       "      <td>135080 reads (0.14%)</td>\n",
       "      <td>18122034 bases (0.13%)</td>\n",
       "    </tr>\n",
       "    <tr>\n",
       "      <th>3</th>\n",
       "      <td>Total Removed:</td>\n",
       "      <td>221184 reads (0.26%)</td>\n",
       "      <td>30276343 bases (0.25%)</td>\n",
       "    </tr>\n",
       "    <tr>\n",
       "      <th>4</th>\n",
       "      <td>Total Removed:</td>\n",
       "      <td>224114 reads (0.28%)</td>\n",
       "      <td>30666282 bases (0.28%)</td>\n",
       "    </tr>\n",
       "  </tbody>\n",
       "</table>\n",
       "</div>"
      ],
      "text/plain": [
       "                          0                      1                       2\n",
       "0  Total Removed:            386068 reads (0.42%)   53565190 bases (0.41%)\n",
       "1  Total Removed:            180020 reads (0.20%)   24421929 bases (0.19%)\n",
       "2  Total Removed:            135080 reads (0.14%)   18122034 bases (0.13%)\n",
       "3  Total Removed:            221184 reads (0.26%)   30276343 bases (0.25%)\n",
       "4  Total Removed:            224114 reads (0.28%)   30666282 bases (0.28%)"
      ]
     },
     "execution_count": 183,
     "metadata": {},
     "output_type": "execute_result"
    }
   ],
   "source": [
    "PhiX_out.head()"
   ]
  },
  {
   "cell_type": "code",
   "execution_count": 212,
   "id": "a0972d26",
   "metadata": {},
   "outputs": [
    {
     "name": "stdout",
     "output_type": "stream",
     "text": [
      "percentage of rows equal to zero 64.28571428571429\n",
      "summary before dropping rows with zero             #_bases     %_bases        #_reads     %_reads\n",
      "count  1.120000e+02  112.000000     112.000000  112.000000\n",
      "mean   3.096687e+06    0.256339   24081.526786    0.275714\n",
      "std    7.538462e+06    0.538026   55546.376035    0.571812\n",
      "min    0.000000e+00    0.000000       0.000000    0.000000\n",
      "25%    0.000000e+00    0.000000       0.000000    0.000000\n",
      "50%    0.000000e+00    0.000000       0.000000    0.000000\n",
      "75%    2.815548e+06    0.102500   23193.250000    0.112500\n",
      "max    5.356519e+07    2.330000  386068.000000    2.410000\n"
     ]
    },
    {
     "name": "stderr",
     "output_type": "stream",
     "text": [
      "/usr/local/lib/python3.7/site-packages/ipykernel_launcher.py:7: FutureWarning: The default value of regex will change from True to False in a future version. In addition, single character regular expressions will *not* be treated as literal strings when regex=True.\n",
      "  import sys\n",
      "/usr/local/lib/python3.7/site-packages/ipykernel_launcher.py:8: FutureWarning: The default value of regex will change from True to False in a future version. In addition, single character regular expressions will *not* be treated as literal strings when regex=True.\n",
      "  \n"
     ]
    },
    {
     "data": {
      "text/html": [
       "<div>\n",
       "<style scoped>\n",
       "    .dataframe tbody tr th:only-of-type {\n",
       "        vertical-align: middle;\n",
       "    }\n",
       "\n",
       "    .dataframe tbody tr th {\n",
       "        vertical-align: top;\n",
       "    }\n",
       "\n",
       "    .dataframe thead th {\n",
       "        text-align: right;\n",
       "    }\n",
       "</style>\n",
       "<table border=\"1\" class=\"dataframe\">\n",
       "  <thead>\n",
       "    <tr style=\"text-align: right;\">\n",
       "      <th></th>\n",
       "      <th>#_bases</th>\n",
       "      <th>%_bases</th>\n",
       "      <th>#_reads</th>\n",
       "      <th>%_reads</th>\n",
       "    </tr>\n",
       "  </thead>\n",
       "  <tbody>\n",
       "    <tr>\n",
       "      <th>count</th>\n",
       "      <td>4.000000e+01</td>\n",
       "      <td>40.000000</td>\n",
       "      <td>40.000000</td>\n",
       "      <td>40.000000</td>\n",
       "    </tr>\n",
       "    <tr>\n",
       "      <th>mean</th>\n",
       "      <td>8.670723e+06</td>\n",
       "      <td>0.717750</td>\n",
       "      <td>67428.275000</td>\n",
       "      <td>0.772000</td>\n",
       "    </tr>\n",
       "    <tr>\n",
       "      <th>std</th>\n",
       "      <td>1.059114e+07</td>\n",
       "      <td>0.695854</td>\n",
       "      <td>76051.185445</td>\n",
       "      <td>0.733244</td>\n",
       "    </tr>\n",
       "    <tr>\n",
       "      <th>min</th>\n",
       "      <td>1.428957e+06</td>\n",
       "      <td>0.030000</td>\n",
       "      <td>12729.000000</td>\n",
       "      <td>0.040000</td>\n",
       "    </tr>\n",
       "    <tr>\n",
       "      <th>25%</th>\n",
       "      <td>2.726785e+06</td>\n",
       "      <td>0.077500</td>\n",
       "      <td>22653.250000</td>\n",
       "      <td>0.087500</td>\n",
       "    </tr>\n",
       "    <tr>\n",
       "      <th>50%</th>\n",
       "      <td>3.975784e+06</td>\n",
       "      <td>0.520000</td>\n",
       "      <td>32675.500000</td>\n",
       "      <td>0.575000</td>\n",
       "    </tr>\n",
       "    <tr>\n",
       "      <th>75%</th>\n",
       "      <td>9.286109e+06</td>\n",
       "      <td>1.292500</td>\n",
       "      <td>78988.000000</td>\n",
       "      <td>1.435000</td>\n",
       "    </tr>\n",
       "    <tr>\n",
       "      <th>max</th>\n",
       "      <td>5.356519e+07</td>\n",
       "      <td>2.330000</td>\n",
       "      <td>386068.000000</td>\n",
       "      <td>2.410000</td>\n",
       "    </tr>\n",
       "  </tbody>\n",
       "</table>\n",
       "</div>"
      ],
      "text/plain": [
       "            #_bases    %_bases        #_reads    %_reads\n",
       "count  4.000000e+01  40.000000      40.000000  40.000000\n",
       "mean   8.670723e+06   0.717750   67428.275000   0.772000\n",
       "std    1.059114e+07   0.695854   76051.185445   0.733244\n",
       "min    1.428957e+06   0.030000   12729.000000   0.040000\n",
       "25%    2.726785e+06   0.077500   22653.250000   0.087500\n",
       "50%    3.975784e+06   0.520000   32675.500000   0.575000\n",
       "75%    9.286109e+06   1.292500   78988.000000   1.435000\n",
       "max    5.356519e+07   2.330000  386068.000000   2.410000"
      ]
     },
     "execution_count": 212,
     "metadata": {},
     "output_type": "execute_result"
    }
   ],
   "source": [
    "get_summary(PhiX_out)"
   ]
  },
  {
   "cell_type": "markdown",
   "id": "ea16ca46",
   "metadata": {},
   "source": [
    "#### Adding index to the sample names for reference to bins"
   ]
  },
  {
   "cell_type": "code",
   "execution_count": 213,
   "id": "3311b18f",
   "metadata": {},
   "outputs": [],
   "source": [
    "samplenames = pd.read_csv(\"data56_related_files/sampleNames.txt\", header = None)"
   ]
  },
  {
   "cell_type": "code",
   "execution_count": 215,
   "id": "1e9d3c43",
   "metadata": {},
   "outputs": [],
   "source": [
    "samplenames.to_csv(\"data56_related_files/sampleNamesIndex.txt\", header = None)"
   ]
  }
 ],
 "metadata": {
  "kernelspec": {
   "display_name": "Python 3 (ipykernel)",
   "language": "python",
   "name": "python3"
  },
  "language_info": {
   "codemirror_mode": {
    "name": "ipython",
    "version": 3
   },
   "file_extension": ".py",
   "mimetype": "text/x-python",
   "name": "python",
   "nbconvert_exporter": "python",
   "pygments_lexer": "ipython3",
   "version": "3.7.4"
  }
 },
 "nbformat": 4,
 "nbformat_minor": 5
}

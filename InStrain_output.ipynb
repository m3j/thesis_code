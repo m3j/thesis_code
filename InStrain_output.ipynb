{
 "cells": [
  {
   "cell_type": "markdown",
   "id": "86c7e8bd",
   "metadata": {},
   "source": [
    "# inStrain output for presence detection and statistical analysis thereof. \n",
    "\n",
    "This notebook contains the following:"
   ]
  },
  {
   "cell_type": "code",
   "execution_count": 1,
   "id": "80129587",
   "metadata": {},
   "outputs": [],
   "source": [
    "import sys"
   ]
  },
  {
   "cell_type": "code",
   "execution_count": null,
   "id": "2f355f10",
   "metadata": {},
   "outputs": [],
   "source": [
    "!{sys.executable} -m pip install statsmodels"
   ]
  },
  {
   "cell_type": "code",
   "execution_count": null,
   "id": "75484567",
   "metadata": {},
   "outputs": [],
   "source": [
    "!{sys.executable} -m pip install sklearn"
   ]
  },
  {
   "cell_type": "code",
   "execution_count": 2,
   "id": "f003a833",
   "metadata": {},
   "outputs": [],
   "source": [
    "import pandas as pd\n",
    "import numpy as np\n",
    "import os\n",
    "import matplotlib.pyplot as plt\n",
    "import seaborn as sns\n",
    "from scipy.stats import ranksums, norm, ttest_ind, levene, fisher_exact\n",
    "import statsmodels.stats.multitest as smt\n",
    "from matplotlib.patches import Patch\n",
    "from IPython.display import Image\n",
    "import re\n",
    "from sklearn.metrics import matthews_corrcoef"
   ]
  },
  {
   "cell_type": "markdown",
   "id": "d4267e4e",
   "metadata": {},
   "source": [
    "### Understanding InStrain Output\n",
    "\n",
    "Looking at profile for sample SRR9113707. "
   ]
  },
  {
   "cell_type": "code",
   "execution_count": 3,
   "id": "4c6bddc7",
   "metadata": {},
   "outputs": [],
   "source": [
    "SRR9113707genome_info = pd.read_csv('data56_related_files/inStrain_output/SRR9113707.IS_genome_info.tsv', sep = '\\t')"
   ]
  },
  {
   "cell_type": "code",
   "execution_count": 4,
   "id": "caf7e55c",
   "metadata": {},
   "outputs": [
    {
     "data": {
      "text/html": [
       "<div>\n",
       "<style scoped>\n",
       "    .dataframe tbody tr th:only-of-type {\n",
       "        vertical-align: middle;\n",
       "    }\n",
       "\n",
       "    .dataframe tbody tr th {\n",
       "        vertical-align: top;\n",
       "    }\n",
       "\n",
       "    .dataframe thead th {\n",
       "        text-align: right;\n",
       "    }\n",
       "</style>\n",
       "<table border=\"1\" class=\"dataframe\">\n",
       "  <thead>\n",
       "    <tr style=\"text-align: right;\">\n",
       "      <th></th>\n",
       "      <th>genome</th>\n",
       "      <th>coverage</th>\n",
       "      <th>breadth</th>\n",
       "      <th>nucl_diversity</th>\n",
       "      <th>length</th>\n",
       "      <th>true_scaffolds</th>\n",
       "      <th>detected_scaffolds</th>\n",
       "      <th>coverage_median</th>\n",
       "      <th>coverage_std</th>\n",
       "      <th>coverage_SEM</th>\n",
       "      <th>...</th>\n",
       "      <th>d_prime_mean</th>\n",
       "      <th>consensus_divergent_sites</th>\n",
       "      <th>population_divergent_sites</th>\n",
       "      <th>SNS_count</th>\n",
       "      <th>SNV_count</th>\n",
       "      <th>filtered_read_pair_count</th>\n",
       "      <th>reads_unfiltered_pairs</th>\n",
       "      <th>reads_mean_PID</th>\n",
       "      <th>divergent_site_count</th>\n",
       "      <th>reads_unfiltered_reads</th>\n",
       "    </tr>\n",
       "  </thead>\n",
       "  <tbody>\n",
       "    <tr>\n",
       "      <th>0</th>\n",
       "      <td>GCA_000615245.1_ASM61524v1_genomic.fna</td>\n",
       "      <td>0.000360</td>\n",
       "      <td>0.000178</td>\n",
       "      <td>NaN</td>\n",
       "      <td>2934843.0</td>\n",
       "      <td>63.0</td>\n",
       "      <td>2.0</td>\n",
       "      <td>0</td>\n",
       "      <td>0.029992</td>\n",
       "      <td>0.000018</td>\n",
       "      <td>...</td>\n",
       "      <td>NaN</td>\n",
       "      <td>0.0</td>\n",
       "      <td>0.0</td>\n",
       "      <td>0.0</td>\n",
       "      <td>0.0</td>\n",
       "      <td>4</td>\n",
       "      <td>14</td>\n",
       "      <td>0.942499</td>\n",
       "      <td>0.0</td>\n",
       "      <td>83</td>\n",
       "    </tr>\n",
       "    <tr>\n",
       "      <th>1</th>\n",
       "      <td>GCA_001311745.1_ASM131174v1_genomic.fna</td>\n",
       "      <td>0.000714</td>\n",
       "      <td>0.000368</td>\n",
       "      <td>NaN</td>\n",
       "      <td>2501983.0</td>\n",
       "      <td>141.0</td>\n",
       "      <td>3.0</td>\n",
       "      <td>0</td>\n",
       "      <td>0.042393</td>\n",
       "      <td>0.000027</td>\n",
       "      <td>...</td>\n",
       "      <td>NaN</td>\n",
       "      <td>0.0</td>\n",
       "      <td>0.0</td>\n",
       "      <td>0.0</td>\n",
       "      <td>0.0</td>\n",
       "      <td>7</td>\n",
       "      <td>14</td>\n",
       "      <td>0.962989</td>\n",
       "      <td>0.0</td>\n",
       "      <td>106</td>\n",
       "    </tr>\n",
       "    <tr>\n",
       "      <th>2</th>\n",
       "      <td>GCA_001311765.1_ASM131176v1_genomic.fna</td>\n",
       "      <td>0.366775</td>\n",
       "      <td>0.023755</td>\n",
       "      <td>0.007367</td>\n",
       "      <td>2025929.0</td>\n",
       "      <td>114.0</td>\n",
       "      <td>35.0</td>\n",
       "      <td>0</td>\n",
       "      <td>4.153274</td>\n",
       "      <td>0.002935</td>\n",
       "      <td>...</td>\n",
       "      <td>0.990080</td>\n",
       "      <td>647.0</td>\n",
       "      <td>499.0</td>\n",
       "      <td>489.0</td>\n",
       "      <td>509.0</td>\n",
       "      <td>2727</td>\n",
       "      <td>4335</td>\n",
       "      <td>0.961450</td>\n",
       "      <td>998.0</td>\n",
       "      <td>10013</td>\n",
       "    </tr>\n",
       "    <tr>\n",
       "      <th>3</th>\n",
       "      <td>GCA_001435375.1_ASM143537v1_genomic.fna</td>\n",
       "      <td>0.791158</td>\n",
       "      <td>0.043833</td>\n",
       "      <td>0.003617</td>\n",
       "      <td>1475258.0</td>\n",
       "      <td>31.0</td>\n",
       "      <td>20.0</td>\n",
       "      <td>0</td>\n",
       "      <td>10.531403</td>\n",
       "      <td>0.008689</td>\n",
       "      <td>...</td>\n",
       "      <td>0.984408</td>\n",
       "      <td>695.0</td>\n",
       "      <td>635.0</td>\n",
       "      <td>633.0</td>\n",
       "      <td>182.0</td>\n",
       "      <td>4295</td>\n",
       "      <td>6389</td>\n",
       "      <td>0.952628</td>\n",
       "      <td>815.0</td>\n",
       "      <td>14600</td>\n",
       "    </tr>\n",
       "    <tr>\n",
       "      <th>4</th>\n",
       "      <td>GCA_002299975.1_ASM229997v1_genomic.fna</td>\n",
       "      <td>1.187498</td>\n",
       "      <td>0.120732</td>\n",
       "      <td>0.004095</td>\n",
       "      <td>1190495.0</td>\n",
       "      <td>150.0</td>\n",
       "      <td>95.0</td>\n",
       "      <td>0</td>\n",
       "      <td>5.376973</td>\n",
       "      <td>0.004991</td>\n",
       "      <td>...</td>\n",
       "      <td>0.992153</td>\n",
       "      <td>2232.0</td>\n",
       "      <td>2039.0</td>\n",
       "      <td>2033.0</td>\n",
       "      <td>659.0</td>\n",
       "      <td>5178</td>\n",
       "      <td>17858</td>\n",
       "      <td>0.926796</td>\n",
       "      <td>2692.0</td>\n",
       "      <td>45649</td>\n",
       "    </tr>\n",
       "  </tbody>\n",
       "</table>\n",
       "<p>5 rows × 30 columns</p>\n",
       "</div>"
      ],
      "text/plain": [
       "                                    genome  coverage   breadth  \\\n",
       "0   GCA_000615245.1_ASM61524v1_genomic.fna  0.000360  0.000178   \n",
       "1  GCA_001311745.1_ASM131174v1_genomic.fna  0.000714  0.000368   \n",
       "2  GCA_001311765.1_ASM131176v1_genomic.fna  0.366775  0.023755   \n",
       "3  GCA_001435375.1_ASM143537v1_genomic.fna  0.791158  0.043833   \n",
       "4  GCA_002299975.1_ASM229997v1_genomic.fna  1.187498  0.120732   \n",
       "\n",
       "   nucl_diversity     length  true_scaffolds  detected_scaffolds  \\\n",
       "0             NaN  2934843.0            63.0                 2.0   \n",
       "1             NaN  2501983.0           141.0                 3.0   \n",
       "2        0.007367  2025929.0           114.0                35.0   \n",
       "3        0.003617  1475258.0            31.0                20.0   \n",
       "4        0.004095  1190495.0           150.0                95.0   \n",
       "\n",
       "   coverage_median  coverage_std  coverage_SEM  ...  d_prime_mean  \\\n",
       "0                0      0.029992      0.000018  ...           NaN   \n",
       "1                0      0.042393      0.000027  ...           NaN   \n",
       "2                0      4.153274      0.002935  ...      0.990080   \n",
       "3                0     10.531403      0.008689  ...      0.984408   \n",
       "4                0      5.376973      0.004991  ...      0.992153   \n",
       "\n",
       "   consensus_divergent_sites  population_divergent_sites  SNS_count  \\\n",
       "0                        0.0                         0.0        0.0   \n",
       "1                        0.0                         0.0        0.0   \n",
       "2                      647.0                       499.0      489.0   \n",
       "3                      695.0                       635.0      633.0   \n",
       "4                     2232.0                      2039.0     2033.0   \n",
       "\n",
       "   SNV_count  filtered_read_pair_count  reads_unfiltered_pairs  \\\n",
       "0        0.0                         4                      14   \n",
       "1        0.0                         7                      14   \n",
       "2      509.0                      2727                    4335   \n",
       "3      182.0                      4295                    6389   \n",
       "4      659.0                      5178                   17858   \n",
       "\n",
       "   reads_mean_PID  divergent_site_count  reads_unfiltered_reads  \n",
       "0        0.942499                   0.0                      83  \n",
       "1        0.962989                   0.0                     106  \n",
       "2        0.961450                 998.0                   10013  \n",
       "3        0.952628                 815.0                   14600  \n",
       "4        0.926796                2692.0                   45649  \n",
       "\n",
       "[5 rows x 30 columns]"
      ]
     },
     "execution_count": 4,
     "metadata": {},
     "output_type": "execute_result"
    }
   ],
   "source": [
    "SRR9113707genome_info.head(5)"
   ]
  },
  {
   "cell_type": "markdown",
   "id": "37ebc21b",
   "metadata": {},
   "source": [
    "### Creating a dictionary with all genome_info dataframes as values to their sampleNames as keys"
   ]
  },
  {
   "cell_type": "code",
   "execution_count": 5,
   "id": "86fd16d4",
   "metadata": {},
   "outputs": [],
   "source": [
    "path = 'data56_related_files/inStrain_output/genome_info/'"
   ]
  },
  {
   "cell_type": "code",
   "execution_count": 6,
   "id": "3d2f9b27",
   "metadata": {},
   "outputs": [],
   "source": [
    "sample_df_dict = {}\n",
    "for filename in os.listdir(path):\n",
    "    if filename.endswith(\".tsv\"): \n",
    "        file = (os.path.join(path, filename))\n",
    "        sampleName = (filename[:10])\n",
    "        df = pd.read_csv(file, sep = '\\t')\n",
    "        sample_df_dict[sampleName] = df    \n",
    "        continue\n",
    "    else:\n",
    "        continue"
   ]
  },
  {
   "cell_type": "code",
   "execution_count": 7,
   "id": "d99afa82",
   "metadata": {},
   "outputs": [
    {
     "data": {
      "text/plain": [
       "dict_keys(['SRR6323514', 'SRR6323338', 'SRR9113725', 'SRR6323200', 'SRR6323295', 'SRR6323172', 'SRR6323243', 'ERR2241891', 'SRR9113706', 'ERR2241651', 'SRR6323250', 'SRR6323296', 'ERR2241849', 'SRR6323197', 'SRR6323205', 'SRR6323134', 'SRR6323343', 'SRR6323414', 'SRR6323167', 'ERR2241899', 'ERR2241647', 'ERR2241919', 'ERR2241649', 'ERR2241887', 'SRR6323449', 'SRR6323340', 'SRR6323502', 'SRR6323350', 'ERR2241927', 'ERR2241655', 'SRR6323244', 'SRR6323249', 'SRR6323550', 'SRR6323503', 'ERR2241945', 'SRR6323493', 'ERR2241860', 'SRR6323384', 'ERR2241925', 'SRR6323088', 'SRR6323530', 'SRR9113691', 'SRR6323247', 'ERR2241848', 'ERR2241893', 'ERR2241855', 'SRR9113707', 'SRR6323516', 'SRR9113737', 'ERR2241923', 'ERR2241856', 'ERR2241890', 'ERR2241653', 'SRR6323556', 'SRR6323252', 'SRR6323367'])"
      ]
     },
     "execution_count": 7,
     "metadata": {},
     "output_type": "execute_result"
    }
   ],
   "source": [
    "sample_df_dict.keys()"
   ]
  },
  {
   "cell_type": "code",
   "execution_count": 9,
   "id": "a2028c49",
   "metadata": {},
   "outputs": [
    {
     "data": {
      "text/html": [
       "<div>\n",
       "<style scoped>\n",
       "    .dataframe tbody tr th:only-of-type {\n",
       "        vertical-align: middle;\n",
       "    }\n",
       "\n",
       "    .dataframe tbody tr th {\n",
       "        vertical-align: top;\n",
       "    }\n",
       "\n",
       "    .dataframe thead th {\n",
       "        text-align: right;\n",
       "    }\n",
       "</style>\n",
       "<table border=\"1\" class=\"dataframe\">\n",
       "  <thead>\n",
       "    <tr style=\"text-align: right;\">\n",
       "      <th></th>\n",
       "      <th>genome</th>\n",
       "      <th>coverage</th>\n",
       "      <th>breadth</th>\n",
       "      <th>nucl_diversity</th>\n",
       "      <th>length</th>\n",
       "      <th>true_scaffolds</th>\n",
       "      <th>detected_scaffolds</th>\n",
       "      <th>coverage_median</th>\n",
       "      <th>coverage_std</th>\n",
       "      <th>coverage_SEM</th>\n",
       "      <th>...</th>\n",
       "      <th>d_prime_mean</th>\n",
       "      <th>consensus_divergent_sites</th>\n",
       "      <th>population_divergent_sites</th>\n",
       "      <th>SNS_count</th>\n",
       "      <th>SNV_count</th>\n",
       "      <th>filtered_read_pair_count</th>\n",
       "      <th>reads_unfiltered_pairs</th>\n",
       "      <th>reads_mean_PID</th>\n",
       "      <th>reads_unfiltered_reads</th>\n",
       "      <th>divergent_site_count</th>\n",
       "    </tr>\n",
       "  </thead>\n",
       "  <tbody>\n",
       "    <tr>\n",
       "      <th>0</th>\n",
       "      <td>GCA_001311425.1_ASM131142v1_genomic.fna</td>\n",
       "      <td>0.000376</td>\n",
       "      <td>0.000111</td>\n",
       "      <td>NaN</td>\n",
       "      <td>3009421.0</td>\n",
       "      <td>108.0</td>\n",
       "      <td>1.0</td>\n",
       "      <td>0</td>\n",
       "      <td>0.037469</td>\n",
       "      <td>0.000022</td>\n",
       "      <td>...</td>\n",
       "      <td>NaN</td>\n",
       "      <td>0.0</td>\n",
       "      <td>0.0</td>\n",
       "      <td>0.0</td>\n",
       "      <td>0.0</td>\n",
       "      <td>4</td>\n",
       "      <td>6</td>\n",
       "      <td>0.946118</td>\n",
       "      <td>21</td>\n",
       "      <td>0.0</td>\n",
       "    </tr>\n",
       "    <tr>\n",
       "      <th>1</th>\n",
       "      <td>GCA_001311745.1_ASM131174v1_genomic.fna</td>\n",
       "      <td>0.002189</td>\n",
       "      <td>0.000404</td>\n",
       "      <td>0.004121</td>\n",
       "      <td>2501983.0</td>\n",
       "      <td>141.0</td>\n",
       "      <td>3.0</td>\n",
       "      <td>0</td>\n",
       "      <td>0.155992</td>\n",
       "      <td>0.000099</td>\n",
       "      <td>...</td>\n",
       "      <td>NaN</td>\n",
       "      <td>0.0</td>\n",
       "      <td>0.0</td>\n",
       "      <td>0.0</td>\n",
       "      <td>1.0</td>\n",
       "      <td>20</td>\n",
       "      <td>24</td>\n",
       "      <td>0.955050</td>\n",
       "      <td>70</td>\n",
       "      <td>1.0</td>\n",
       "    </tr>\n",
       "    <tr>\n",
       "      <th>2</th>\n",
       "      <td>GCA_001311765.1_ASM131176v1_genomic.fna</td>\n",
       "      <td>0.864116</td>\n",
       "      <td>0.016931</td>\n",
       "      <td>0.005568</td>\n",
       "      <td>2025929.0</td>\n",
       "      <td>114.0</td>\n",
       "      <td>27.0</td>\n",
       "      <td>0</td>\n",
       "      <td>12.025872</td>\n",
       "      <td>0.008497</td>\n",
       "      <td>...</td>\n",
       "      <td>0.988013</td>\n",
       "      <td>576.0</td>\n",
       "      <td>490.0</td>\n",
       "      <td>477.0</td>\n",
       "      <td>373.0</td>\n",
       "      <td>6406</td>\n",
       "      <td>10694</td>\n",
       "      <td>0.959319</td>\n",
       "      <td>24582</td>\n",
       "      <td>850.0</td>\n",
       "    </tr>\n",
       "    <tr>\n",
       "      <th>3</th>\n",
       "      <td>GCA_001435375.1_ASM143537v1_genomic.fna</td>\n",
       "      <td>0.104168</td>\n",
       "      <td>0.015359</td>\n",
       "      <td>0.004900</td>\n",
       "      <td>1475258.0</td>\n",
       "      <td>31.0</td>\n",
       "      <td>19.0</td>\n",
       "      <td>0</td>\n",
       "      <td>1.580280</td>\n",
       "      <td>0.001304</td>\n",
       "      <td>...</td>\n",
       "      <td>1.000000</td>\n",
       "      <td>157.0</td>\n",
       "      <td>137.0</td>\n",
       "      <td>136.0</td>\n",
       "      <td>74.0</td>\n",
       "      <td>561</td>\n",
       "      <td>911</td>\n",
       "      <td>0.947433</td>\n",
       "      <td>2074</td>\n",
       "      <td>210.0</td>\n",
       "    </tr>\n",
       "    <tr>\n",
       "      <th>4</th>\n",
       "      <td>GCA_002299975.1_ASM229997v1_genomic.fna</td>\n",
       "      <td>0.850298</td>\n",
       "      <td>0.099734</td>\n",
       "      <td>0.003239</td>\n",
       "      <td>1190495.0</td>\n",
       "      <td>150.0</td>\n",
       "      <td>90.0</td>\n",
       "      <td>0</td>\n",
       "      <td>3.870157</td>\n",
       "      <td>0.003593</td>\n",
       "      <td>...</td>\n",
       "      <td>0.995983</td>\n",
       "      <td>1660.0</td>\n",
       "      <td>1565.0</td>\n",
       "      <td>1575.0</td>\n",
       "      <td>397.0</td>\n",
       "      <td>3698</td>\n",
       "      <td>13709</td>\n",
       "      <td>0.926474</td>\n",
       "      <td>35786</td>\n",
       "      <td>1972.0</td>\n",
       "    </tr>\n",
       "  </tbody>\n",
       "</table>\n",
       "<p>5 rows × 30 columns</p>\n",
       "</div>"
      ],
      "text/plain": [
       "                                    genome  coverage   breadth  \\\n",
       "0  GCA_001311425.1_ASM131142v1_genomic.fna  0.000376  0.000111   \n",
       "1  GCA_001311745.1_ASM131174v1_genomic.fna  0.002189  0.000404   \n",
       "2  GCA_001311765.1_ASM131176v1_genomic.fna  0.864116  0.016931   \n",
       "3  GCA_001435375.1_ASM143537v1_genomic.fna  0.104168  0.015359   \n",
       "4  GCA_002299975.1_ASM229997v1_genomic.fna  0.850298  0.099734   \n",
       "\n",
       "   nucl_diversity     length  true_scaffolds  detected_scaffolds  \\\n",
       "0             NaN  3009421.0           108.0                 1.0   \n",
       "1        0.004121  2501983.0           141.0                 3.0   \n",
       "2        0.005568  2025929.0           114.0                27.0   \n",
       "3        0.004900  1475258.0            31.0                19.0   \n",
       "4        0.003239  1190495.0           150.0                90.0   \n",
       "\n",
       "   coverage_median  coverage_std  coverage_SEM  ...  d_prime_mean  \\\n",
       "0                0      0.037469      0.000022  ...           NaN   \n",
       "1                0      0.155992      0.000099  ...           NaN   \n",
       "2                0     12.025872      0.008497  ...      0.988013   \n",
       "3                0      1.580280      0.001304  ...      1.000000   \n",
       "4                0      3.870157      0.003593  ...      0.995983   \n",
       "\n",
       "   consensus_divergent_sites  population_divergent_sites  SNS_count  \\\n",
       "0                        0.0                         0.0        0.0   \n",
       "1                        0.0                         0.0        0.0   \n",
       "2                      576.0                       490.0      477.0   \n",
       "3                      157.0                       137.0      136.0   \n",
       "4                     1660.0                      1565.0     1575.0   \n",
       "\n",
       "   SNV_count  filtered_read_pair_count  reads_unfiltered_pairs  \\\n",
       "0        0.0                         4                       6   \n",
       "1        1.0                        20                      24   \n",
       "2      373.0                      6406                   10694   \n",
       "3       74.0                       561                     911   \n",
       "4      397.0                      3698                   13709   \n",
       "\n",
       "   reads_mean_PID  reads_unfiltered_reads  divergent_site_count  \n",
       "0        0.946118                      21                   0.0  \n",
       "1        0.955050                      70                   1.0  \n",
       "2        0.959319                   24582                 850.0  \n",
       "3        0.947433                    2074                 210.0  \n",
       "4        0.926474                   35786                1972.0  \n",
       "\n",
       "[5 rows x 30 columns]"
      ]
     },
     "execution_count": 9,
     "metadata": {},
     "output_type": "execute_result"
    }
   ],
   "source": [
    "sample_df_dict['SRR9113737'].head(5)"
   ]
  },
  {
   "cell_type": "markdown",
   "id": "80e36022",
   "metadata": {},
   "source": [
    "### Keeping rows in df that have breadth ≥ 0.5 (Aka present genomes) "
   ]
  },
  {
   "cell_type": "code",
   "execution_count": 10,
   "id": "a8292e6a",
   "metadata": {},
   "outputs": [],
   "source": [
    "for key in sample_df_dict:\n",
    "    sample_df_dict[key] = sample_df_dict[key][sample_df_dict[key]['breadth'] >= 0.5]"
   ]
  },
  {
   "cell_type": "code",
   "execution_count": 11,
   "id": "c4bad9e3",
   "metadata": {},
   "outputs": [
    {
     "data": {
      "text/html": [
       "<div>\n",
       "<style scoped>\n",
       "    .dataframe tbody tr th:only-of-type {\n",
       "        vertical-align: middle;\n",
       "    }\n",
       "\n",
       "    .dataframe tbody tr th {\n",
       "        vertical-align: top;\n",
       "    }\n",
       "\n",
       "    .dataframe thead th {\n",
       "        text-align: right;\n",
       "    }\n",
       "</style>\n",
       "<table border=\"1\" class=\"dataframe\">\n",
       "  <thead>\n",
       "    <tr style=\"text-align: right;\">\n",
       "      <th></th>\n",
       "      <th>genome</th>\n",
       "      <th>coverage</th>\n",
       "      <th>breadth</th>\n",
       "      <th>nucl_diversity</th>\n",
       "      <th>length</th>\n",
       "      <th>true_scaffolds</th>\n",
       "      <th>detected_scaffolds</th>\n",
       "      <th>coverage_median</th>\n",
       "      <th>coverage_std</th>\n",
       "      <th>coverage_SEM</th>\n",
       "      <th>...</th>\n",
       "      <th>d_prime_mean</th>\n",
       "      <th>consensus_divergent_sites</th>\n",
       "      <th>population_divergent_sites</th>\n",
       "      <th>SNS_count</th>\n",
       "      <th>SNV_count</th>\n",
       "      <th>filtered_read_pair_count</th>\n",
       "      <th>reads_unfiltered_pairs</th>\n",
       "      <th>reads_mean_PID</th>\n",
       "      <th>reads_unfiltered_reads</th>\n",
       "      <th>divergent_site_count</th>\n",
       "    </tr>\n",
       "  </thead>\n",
       "  <tbody>\n",
       "    <tr>\n",
       "      <th>18</th>\n",
       "      <td>GCF_000159355.1_ASM15935v1_genomic.fna</td>\n",
       "      <td>10.894628</td>\n",
       "      <td>0.638092</td>\n",
       "      <td>0.002780</td>\n",
       "      <td>1780499.0</td>\n",
       "      <td>32.0</td>\n",
       "      <td>9.0</td>\n",
       "      <td>5</td>\n",
       "      <td>16.991962</td>\n",
       "      <td>0.012757</td>\n",
       "      <td>...</td>\n",
       "      <td>0.994923</td>\n",
       "      <td>6779.0</td>\n",
       "      <td>5702.0</td>\n",
       "      <td>5689.0</td>\n",
       "      <td>4672.0</td>\n",
       "      <td>71549</td>\n",
       "      <td>74156</td>\n",
       "      <td>0.973689</td>\n",
       "      <td>150941</td>\n",
       "      <td>10361.0</td>\n",
       "    </tr>\n",
       "    <tr>\n",
       "      <th>19</th>\n",
       "      <td>GCF_000159435.1_ASM15943v1_genomic.fna</td>\n",
       "      <td>5.272091</td>\n",
       "      <td>0.685744</td>\n",
       "      <td>0.003147</td>\n",
       "      <td>1877332.0</td>\n",
       "      <td>112.0</td>\n",
       "      <td>41.0</td>\n",
       "      <td>3</td>\n",
       "      <td>6.467687</td>\n",
       "      <td>0.004749</td>\n",
       "      <td>...</td>\n",
       "      <td>0.990399</td>\n",
       "      <td>3078.0</td>\n",
       "      <td>2054.0</td>\n",
       "      <td>2067.0</td>\n",
       "      <td>4200.0</td>\n",
       "      <td>36307</td>\n",
       "      <td>37654</td>\n",
       "      <td>0.970003</td>\n",
       "      <td>78691</td>\n",
       "      <td>6267.0</td>\n",
       "    </tr>\n",
       "    <tr>\n",
       "      <th>47</th>\n",
       "      <td>GCF_000614735.1_ASM61473v1_genomic.fna</td>\n",
       "      <td>112.460415</td>\n",
       "      <td>0.943509</td>\n",
       "      <td>0.007117</td>\n",
       "      <td>1918774.0</td>\n",
       "      <td>74.0</td>\n",
       "      <td>69.0</td>\n",
       "      <td>99</td>\n",
       "      <td>98.522592</td>\n",
       "      <td>0.071401</td>\n",
       "      <td>...</td>\n",
       "      <td>0.950691</td>\n",
       "      <td>6651.0</td>\n",
       "      <td>2471.0</td>\n",
       "      <td>2429.0</td>\n",
       "      <td>33151.0</td>\n",
       "      <td>793464</td>\n",
       "      <td>809298</td>\n",
       "      <td>0.987219</td>\n",
       "      <td>1651572</td>\n",
       "      <td>35580.0</td>\n",
       "    </tr>\n",
       "    <tr>\n",
       "      <th>48</th>\n",
       "      <td>GCF_000615285.1_ASM61528v1_genomic.fna</td>\n",
       "      <td>34.444695</td>\n",
       "      <td>0.748058</td>\n",
       "      <td>0.007080</td>\n",
       "      <td>1902496.0</td>\n",
       "      <td>35.0</td>\n",
       "      <td>32.0</td>\n",
       "      <td>24</td>\n",
       "      <td>42.902854</td>\n",
       "      <td>0.031162</td>\n",
       "      <td>...</td>\n",
       "      <td>0.979687</td>\n",
       "      <td>19498.0</td>\n",
       "      <td>13725.0</td>\n",
       "      <td>13527.0</td>\n",
       "      <td>24800.0</td>\n",
       "      <td>240561</td>\n",
       "      <td>264813</td>\n",
       "      <td>0.975195</td>\n",
       "      <td>551195</td>\n",
       "      <td>38327.0</td>\n",
       "    </tr>\n",
       "    <tr>\n",
       "      <th>151</th>\n",
       "      <td>GCF_002088015.1_ASM208801v1_genomic.fna</td>\n",
       "      <td>8.459936</td>\n",
       "      <td>0.709072</td>\n",
       "      <td>0.004966</td>\n",
       "      <td>2069542.0</td>\n",
       "      <td>129.0</td>\n",
       "      <td>114.0</td>\n",
       "      <td>4</td>\n",
       "      <td>22.359650</td>\n",
       "      <td>0.015641</td>\n",
       "      <td>...</td>\n",
       "      <td>0.940477</td>\n",
       "      <td>4828.0</td>\n",
       "      <td>2583.0</td>\n",
       "      <td>2566.0</td>\n",
       "      <td>9343.0</td>\n",
       "      <td>64613</td>\n",
       "      <td>71059</td>\n",
       "      <td>0.987016</td>\n",
       "      <td>153437</td>\n",
       "      <td>11909.0</td>\n",
       "    </tr>\n",
       "  </tbody>\n",
       "</table>\n",
       "<p>5 rows × 30 columns</p>\n",
       "</div>"
      ],
      "text/plain": [
       "                                      genome    coverage   breadth  \\\n",
       "18    GCF_000159355.1_ASM15935v1_genomic.fna   10.894628  0.638092   \n",
       "19    GCF_000159435.1_ASM15943v1_genomic.fna    5.272091  0.685744   \n",
       "47    GCF_000614735.1_ASM61473v1_genomic.fna  112.460415  0.943509   \n",
       "48    GCF_000615285.1_ASM61528v1_genomic.fna   34.444695  0.748058   \n",
       "151  GCF_002088015.1_ASM208801v1_genomic.fna    8.459936  0.709072   \n",
       "\n",
       "     nucl_diversity     length  true_scaffolds  detected_scaffolds  \\\n",
       "18         0.002780  1780499.0            32.0                 9.0   \n",
       "19         0.003147  1877332.0           112.0                41.0   \n",
       "47         0.007117  1918774.0            74.0                69.0   \n",
       "48         0.007080  1902496.0            35.0                32.0   \n",
       "151        0.004966  2069542.0           129.0               114.0   \n",
       "\n",
       "     coverage_median  coverage_std  coverage_SEM  ...  d_prime_mean  \\\n",
       "18                 5     16.991962      0.012757  ...      0.994923   \n",
       "19                 3      6.467687      0.004749  ...      0.990399   \n",
       "47                99     98.522592      0.071401  ...      0.950691   \n",
       "48                24     42.902854      0.031162  ...      0.979687   \n",
       "151                4     22.359650      0.015641  ...      0.940477   \n",
       "\n",
       "     consensus_divergent_sites  population_divergent_sites  SNS_count  \\\n",
       "18                      6779.0                      5702.0     5689.0   \n",
       "19                      3078.0                      2054.0     2067.0   \n",
       "47                      6651.0                      2471.0     2429.0   \n",
       "48                     19498.0                     13725.0    13527.0   \n",
       "151                     4828.0                      2583.0     2566.0   \n",
       "\n",
       "     SNV_count  filtered_read_pair_count  reads_unfiltered_pairs  \\\n",
       "18      4672.0                     71549                   74156   \n",
       "19      4200.0                     36307                   37654   \n",
       "47     33151.0                    793464                  809298   \n",
       "48     24800.0                    240561                  264813   \n",
       "151     9343.0                     64613                   71059   \n",
       "\n",
       "     reads_mean_PID  reads_unfiltered_reads  divergent_site_count  \n",
       "18         0.973689                  150941               10361.0  \n",
       "19         0.970003                   78691                6267.0  \n",
       "47         0.987219                 1651572               35580.0  \n",
       "48         0.975195                  551195               38327.0  \n",
       "151        0.987016                  153437               11909.0  \n",
       "\n",
       "[5 rows x 30 columns]"
      ]
     },
     "execution_count": 11,
     "metadata": {},
     "output_type": "execute_result"
    }
   ],
   "source": [
    "sample_df_dict['SRR9113737'].head(5)"
   ]
  },
  {
   "cell_type": "markdown",
   "id": "57e9726f",
   "metadata": {},
   "source": [
    "### Reducing the df to a list of present genomes"
   ]
  },
  {
   "cell_type": "code",
   "execution_count": 12,
   "id": "6a203243",
   "metadata": {},
   "outputs": [],
   "source": [
    "for key in sample_df_dict:\n",
    "    sample_df_dict[key] = sample_df_dict[key]['genome']"
   ]
  },
  {
   "cell_type": "code",
   "execution_count": 13,
   "id": "1fa06664",
   "metadata": {},
   "outputs": [
    {
     "data": {
      "text/plain": [
       "18      GCF_000159355.1_ASM15935v1_genomic.fna\n",
       "19      GCF_000159435.1_ASM15943v1_genomic.fna\n",
       "47      GCF_000614735.1_ASM61473v1_genomic.fna\n",
       "48      GCF_000615285.1_ASM61528v1_genomic.fna\n",
       "151    GCF_002088015.1_ASM208801v1_genomic.fna\n",
       "Name: genome, dtype: object"
      ]
     },
     "execution_count": 13,
     "metadata": {},
     "output_type": "execute_result"
    }
   ],
   "source": [
    "sample_df_dict['SRR9113737'].head(5)"
   ]
  },
  {
   "cell_type": "code",
   "execution_count": 14,
   "id": "485e9219",
   "metadata": {},
   "outputs": [
    {
     "data": {
      "text/plain": [
       "56"
      ]
     },
     "execution_count": 14,
     "metadata": {},
     "output_type": "execute_result"
    }
   ],
   "source": [
    "len(sample_df_dict.keys())"
   ]
  },
  {
   "cell_type": "markdown",
   "id": "7878f386",
   "metadata": {},
   "source": [
    "### Creating a binary presence/abesence matrix with sample name as row and present species as columns"
   ]
  },
  {
   "cell_type": "code",
   "execution_count": 15,
   "id": "ac10a456",
   "metadata": {},
   "outputs": [
    {
     "name": "stderr",
     "output_type": "stream",
     "text": [
      "/usr/local/lib/python3.7/site-packages/ipykernel_launcher.py:5: FutureWarning: Using the level keyword in DataFrame and Series aggregations is deprecated and will be removed in a future version. Use groupby instead. df.sum(level=1) should use df.groupby(level=1).sum().\n",
      "  \"\"\"\n"
     ]
    }
   ],
   "source": [
    "df = pd.concat([\n",
    "          pd.Series(v, name=k).astype(str) for k, v in sample_df_dict.items()\n",
    "     ], \n",
    "     axis=1)\n",
    "binary_sample_vs_genomes = pd.get_dummies(df.stack()).sum(level=1)"
   ]
  },
  {
   "cell_type": "code",
   "execution_count": 16,
   "id": "be9ab1d3",
   "metadata": {},
   "outputs": [
    {
     "data": {
      "text/plain": [
       "'GCA_900557215.1'"
      ]
     },
     "execution_count": 16,
     "metadata": {},
     "output_type": "execute_result"
    }
   ],
   "source": [
    "binary_sample_vs_genomes.columns.str.rsplit('_',2)[0][0]"
   ]
  },
  {
   "cell_type": "code",
   "execution_count": 17,
   "id": "0b30e331",
   "metadata": {},
   "outputs": [],
   "source": [
    "binary_sample_vs_genomes = binary_sample_vs_genomes.rename(columns = lambda x: re.sub('(?<=.1_).*$', '', x))"
   ]
  },
  {
   "cell_type": "code",
   "execution_count": 19,
   "id": "b16525a0",
   "metadata": {},
   "outputs": [
    {
     "data": {
      "text/html": [
       "<div>\n",
       "<style scoped>\n",
       "    .dataframe tbody tr th:only-of-type {\n",
       "        vertical-align: middle;\n",
       "    }\n",
       "\n",
       "    .dataframe tbody tr th {\n",
       "        vertical-align: top;\n",
       "    }\n",
       "\n",
       "    .dataframe thead th {\n",
       "        text-align: right;\n",
       "    }\n",
       "</style>\n",
       "<table border=\"1\" class=\"dataframe\">\n",
       "  <thead>\n",
       "    <tr style=\"text-align: right;\">\n",
       "      <th></th>\n",
       "      <th>GCA_900557215.1_</th>\n",
       "      <th>GCF_000016825.1_</th>\n",
       "      <th>GCF_000159355.1_</th>\n",
       "      <th>GCF_000159435.1_</th>\n",
       "      <th>GCF_000160575.1_</th>\n",
       "      <th>GCF_000193635.1_</th>\n",
       "      <th>GCF_000423265.1_</th>\n",
       "      <th>GCF_000614735.1_</th>\n",
       "      <th>GCF_000615285.1_</th>\n",
       "      <th>GCF_001433855.1_</th>\n",
       "      <th>...</th>\n",
       "      <th>S2C3320.fna</th>\n",
       "      <th>S33C4056.fna</th>\n",
       "      <th>S36C1134.fna</th>\n",
       "      <th>S42C891.fna</th>\n",
       "      <th>S49C1120.fna</th>\n",
       "      <th>S4C569.fna</th>\n",
       "      <th>S52C595.fna</th>\n",
       "      <th>S5C1113.fna</th>\n",
       "      <th>S8C2455.fna</th>\n",
       "      <th>S9C3913.fna</th>\n",
       "    </tr>\n",
       "  </thead>\n",
       "  <tbody>\n",
       "    <tr>\n",
       "      <th>SRR9113707</th>\n",
       "      <td>1</td>\n",
       "      <td>0</td>\n",
       "      <td>0</td>\n",
       "      <td>1</td>\n",
       "      <td>0</td>\n",
       "      <td>0</td>\n",
       "      <td>0</td>\n",
       "      <td>1</td>\n",
       "      <td>1</td>\n",
       "      <td>0</td>\n",
       "      <td>...</td>\n",
       "      <td>0</td>\n",
       "      <td>0</td>\n",
       "      <td>0</td>\n",
       "      <td>0</td>\n",
       "      <td>0</td>\n",
       "      <td>1</td>\n",
       "      <td>1</td>\n",
       "      <td>0</td>\n",
       "      <td>0</td>\n",
       "      <td>0</td>\n",
       "    </tr>\n",
       "    <tr>\n",
       "      <th>ERR2241649</th>\n",
       "      <td>1</td>\n",
       "      <td>1</td>\n",
       "      <td>1</td>\n",
       "      <td>1</td>\n",
       "      <td>0</td>\n",
       "      <td>0</td>\n",
       "      <td>1</td>\n",
       "      <td>1</td>\n",
       "      <td>0</td>\n",
       "      <td>0</td>\n",
       "      <td>...</td>\n",
       "      <td>1</td>\n",
       "      <td>0</td>\n",
       "      <td>0</td>\n",
       "      <td>0</td>\n",
       "      <td>0</td>\n",
       "      <td>1</td>\n",
       "      <td>0</td>\n",
       "      <td>1</td>\n",
       "      <td>0</td>\n",
       "      <td>0</td>\n",
       "    </tr>\n",
       "    <tr>\n",
       "      <th>ERR2241899</th>\n",
       "      <td>1</td>\n",
       "      <td>0</td>\n",
       "      <td>1</td>\n",
       "      <td>1</td>\n",
       "      <td>0</td>\n",
       "      <td>0</td>\n",
       "      <td>1</td>\n",
       "      <td>1</td>\n",
       "      <td>1</td>\n",
       "      <td>0</td>\n",
       "      <td>...</td>\n",
       "      <td>1</td>\n",
       "      <td>0</td>\n",
       "      <td>1</td>\n",
       "      <td>0</td>\n",
       "      <td>0</td>\n",
       "      <td>1</td>\n",
       "      <td>0</td>\n",
       "      <td>1</td>\n",
       "      <td>0</td>\n",
       "      <td>0</td>\n",
       "    </tr>\n",
       "    <tr>\n",
       "      <th>ERR2241647</th>\n",
       "      <td>1</td>\n",
       "      <td>1</td>\n",
       "      <td>0</td>\n",
       "      <td>1</td>\n",
       "      <td>0</td>\n",
       "      <td>0</td>\n",
       "      <td>0</td>\n",
       "      <td>1</td>\n",
       "      <td>0</td>\n",
       "      <td>0</td>\n",
       "      <td>...</td>\n",
       "      <td>1</td>\n",
       "      <td>0</td>\n",
       "      <td>0</td>\n",
       "      <td>0</td>\n",
       "      <td>0</td>\n",
       "      <td>1</td>\n",
       "      <td>0</td>\n",
       "      <td>0</td>\n",
       "      <td>0</td>\n",
       "      <td>0</td>\n",
       "    </tr>\n",
       "    <tr>\n",
       "      <th>ERR2241849</th>\n",
       "      <td>1</td>\n",
       "      <td>0</td>\n",
       "      <td>1</td>\n",
       "      <td>1</td>\n",
       "      <td>0</td>\n",
       "      <td>0</td>\n",
       "      <td>0</td>\n",
       "      <td>1</td>\n",
       "      <td>0</td>\n",
       "      <td>0</td>\n",
       "      <td>...</td>\n",
       "      <td>1</td>\n",
       "      <td>0</td>\n",
       "      <td>1</td>\n",
       "      <td>0</td>\n",
       "      <td>0</td>\n",
       "      <td>1</td>\n",
       "      <td>0</td>\n",
       "      <td>1</td>\n",
       "      <td>0</td>\n",
       "      <td>0</td>\n",
       "    </tr>\n",
       "  </tbody>\n",
       "</table>\n",
       "<p>5 rows × 57 columns</p>\n",
       "</div>"
      ],
      "text/plain": [
       "            GCA_900557215.1_  GCF_000016825.1_  GCF_000159355.1_  \\\n",
       "SRR9113707                 1                 0                 0   \n",
       "ERR2241649                 1                 1                 1   \n",
       "ERR2241899                 1                 0                 1   \n",
       "ERR2241647                 1                 1                 0   \n",
       "ERR2241849                 1                 0                 1   \n",
       "\n",
       "            GCF_000159435.1_  GCF_000160575.1_  GCF_000193635.1_  \\\n",
       "SRR9113707                 1                 0                 0   \n",
       "ERR2241649                 1                 0                 0   \n",
       "ERR2241899                 1                 0                 0   \n",
       "ERR2241647                 1                 0                 0   \n",
       "ERR2241849                 1                 0                 0   \n",
       "\n",
       "            GCF_000423265.1_  GCF_000614735.1_  GCF_000615285.1_  \\\n",
       "SRR9113707                 0                 1                 1   \n",
       "ERR2241649                 1                 1                 0   \n",
       "ERR2241899                 1                 1                 1   \n",
       "ERR2241647                 0                 1                 0   \n",
       "ERR2241849                 0                 1                 0   \n",
       "\n",
       "            GCF_001433855.1_  ...  S2C3320.fna  S33C4056.fna  S36C1134.fna  \\\n",
       "SRR9113707                 0  ...            0             0             0   \n",
       "ERR2241649                 0  ...            1             0             0   \n",
       "ERR2241899                 0  ...            1             0             1   \n",
       "ERR2241647                 0  ...            1             0             0   \n",
       "ERR2241849                 0  ...            1             0             1   \n",
       "\n",
       "            S42C891.fna  S49C1120.fna  S4C569.fna  S52C595.fna  S5C1113.fna  \\\n",
       "SRR9113707            0             0           1            1            0   \n",
       "ERR2241649            0             0           1            0            1   \n",
       "ERR2241899            0             0           1            0            1   \n",
       "ERR2241647            0             0           1            0            0   \n",
       "ERR2241849            0             0           1            0            1   \n",
       "\n",
       "            S8C2455.fna  S9C3913.fna  \n",
       "SRR9113707            0            0  \n",
       "ERR2241649            0            0  \n",
       "ERR2241899            0            0  \n",
       "ERR2241647            0            0  \n",
       "ERR2241849            0            0  \n",
       "\n",
       "[5 rows x 57 columns]"
      ]
     },
     "execution_count": 19,
     "metadata": {},
     "output_type": "execute_result"
    }
   ],
   "source": [
    "binary_sample_vs_genomes.head(5)"
   ]
  },
  {
   "cell_type": "code",
   "execution_count": 23,
   "id": "b1d3afa6",
   "metadata": {
    "scrolled": true
   },
   "outputs": [
    {
     "data": {
      "text/plain": [
       "[1,\n",
       " 1,\n",
       " 1,\n",
       " 1,\n",
       " 1,\n",
       " 1,\n",
       " 1,\n",
       " 1,\n",
       " 2,\n",
       " 2,\n",
       " 2,\n",
       " 2,\n",
       " 2,\n",
       " 2,\n",
       " 2,\n",
       " 3,\n",
       " 3,\n",
       " 3,\n",
       " 3,\n",
       " 4,\n",
       " 4,\n",
       " 5,\n",
       " 5,\n",
       " 5,\n",
       " 6,\n",
       " 7,\n",
       " 7,\n",
       " 7,\n",
       " 7,\n",
       " 7,\n",
       " 8,\n",
       " 8,\n",
       " 8,\n",
       " 8,\n",
       " 10,\n",
       " 11,\n",
       " 13,\n",
       " 14,\n",
       " 14,\n",
       " 14,\n",
       " 14,\n",
       " 20,\n",
       " 20,\n",
       " 23,\n",
       " 23,\n",
       " 27,\n",
       " 27,\n",
       " 27,\n",
       " 28,\n",
       " 28,\n",
       " 29,\n",
       " 29,\n",
       " 31,\n",
       " 32,\n",
       " 32,\n",
       " 33,\n",
       " 38]"
      ]
     },
     "execution_count": 23,
     "metadata": {},
     "output_type": "execute_result"
    }
   ],
   "source": [
    "# count of presence for each genome\n",
    "sorted(binary_sample_vs_genomes.sum())"
   ]
  },
  {
   "cell_type": "code",
   "execution_count": 24,
   "id": "eceb0379",
   "metadata": {},
   "outputs": [
    {
     "data": {
      "text/plain": [
       "count    57.000000\n",
       "mean     11.701754\n",
       "std      11.117819\n",
       "min       1.000000\n",
       "25%       2.000000\n",
       "50%       7.000000\n",
       "75%      20.000000\n",
       "max      38.000000\n",
       "dtype: float64"
      ]
     },
     "execution_count": 24,
     "metadata": {},
     "output_type": "execute_result"
    }
   ],
   "source": [
    "binary_sample_vs_genomes.sum().describe()"
   ]
  },
  {
   "cell_type": "code",
   "execution_count": 25,
   "id": "a2c50bfb",
   "metadata": {
    "scrolled": true
   },
   "outputs": [
    {
     "data": {
      "text/plain": [
       "[1,\n",
       " 1,\n",
       " 1,\n",
       " 3,\n",
       " 4,\n",
       " 4,\n",
       " 5,\n",
       " 5,\n",
       " 6,\n",
       " 7,\n",
       " 7,\n",
       " 8,\n",
       " 8,\n",
       " 8,\n",
       " 9,\n",
       " 11,\n",
       " 12,\n",
       " 13,\n",
       " 13,\n",
       " 14,\n",
       " 14,\n",
       " 14,\n",
       " 15,\n",
       " 15,\n",
       " 15,\n",
       " 15,\n",
       " 16,\n",
       " 16,\n",
       " 16,\n",
       " 16,\n",
       " 16,\n",
       " 16,\n",
       " 17,\n",
       " 18,\n",
       " 18,\n",
       " 19,\n",
       " 19,\n",
       " 19,\n",
       " 19,\n",
       " 20,\n",
       " 20,\n",
       " 21,\n",
       " 22,\n",
       " 22,\n",
       " 23,\n",
       " 24,\n",
       " 27,\n",
       " 35]"
      ]
     },
     "execution_count": 25,
     "metadata": {},
     "output_type": "execute_result"
    }
   ],
   "source": [
    "# count of number of genomes in each sample\n",
    "sorted(binary_sample_vs_genomes.sum(axis=1))"
   ]
  },
  {
   "cell_type": "code",
   "execution_count": 26,
   "id": "768caab8",
   "metadata": {},
   "outputs": [
    {
     "data": {
      "text/plain": [
       "count    48.000000\n",
       "mean     13.895833\n",
       "std       7.305607\n",
       "min       1.000000\n",
       "25%       8.000000\n",
       "50%      15.000000\n",
       "75%      19.000000\n",
       "max      35.000000\n",
       "dtype: float64"
      ]
     },
     "execution_count": 26,
     "metadata": {},
     "output_type": "execute_result"
    }
   ],
   "source": [
    "binary_sample_vs_genomes.sum(axis=1).describe()"
   ]
  },
  {
   "cell_type": "markdown",
   "id": "5c934fad",
   "metadata": {},
   "source": [
    "#### saving the observed genomes for later use"
   ]
  },
  {
   "cell_type": "code",
   "execution_count": 20,
   "id": "3ba1c11f",
   "metadata": {},
   "outputs": [],
   "source": [
    "reference_genomes = list(binary_sample_vs_genomes.columns)"
   ]
  },
  {
   "cell_type": "code",
   "execution_count": 122,
   "id": "6e83f650",
   "metadata": {},
   "outputs": [],
   "source": [
    "pd.DataFrame(reference_genomes)[:-1].to_csv('data56_related_files/present_ref_genomes.tsv', index=False, header = False)"
   ]
  },
  {
   "cell_type": "markdown",
   "id": "6a424b7c",
   "metadata": {},
   "source": [
    "### Checking that all bins are present as reference genome"
   ]
  },
  {
   "cell_type": "code",
   "execution_count": 28,
   "id": "859ceb4e",
   "metadata": {},
   "outputs": [
    {
     "name": "stdout",
     "output_type": "stream",
     "text": [
      "28\n"
     ]
    }
   ],
   "source": [
    "count = 0\n",
    "for name in reference_genomes:\n",
    "    if name.startswith(\"S\"):\n",
    "#         print(name)\n",
    "        count += 1\n",
    "print(count)\n",
    "# The original number of bins used as a reference was 28 after dRep with all the db ref. genomes. \n",
    "# The bins are created from the samples so if they are not present something went wrong."
   ]
  },
  {
   "cell_type": "markdown",
   "id": "7b7c7387",
   "metadata": {},
   "source": [
    "### Which samples do not have any Lactobacillaceae ?"
   ]
  },
  {
   "cell_type": "code",
   "execution_count": 30,
   "id": "293ccd27",
   "metadata": {},
   "outputs": [],
   "source": [
    "positive_samples = list(binary_sample_vs_genomes.index)\n",
    "\n",
    "all_samples = list(sample_df_dict.keys())"
   ]
  },
  {
   "cell_type": "code",
   "execution_count": 31,
   "id": "c92785e2",
   "metadata": {},
   "outputs": [
    {
     "data": {
      "text/plain": [
       "48"
      ]
     },
     "execution_count": 31,
     "metadata": {},
     "output_type": "execute_result"
    }
   ],
   "source": [
    "len(positive_samples)"
   ]
  },
  {
   "cell_type": "code",
   "execution_count": 32,
   "id": "013138de",
   "metadata": {},
   "outputs": [
    {
     "data": {
      "text/plain": [
       "56"
      ]
     },
     "execution_count": 32,
     "metadata": {},
     "output_type": "execute_result"
    }
   ],
   "source": [
    "len(all_samples)"
   ]
  },
  {
   "cell_type": "code",
   "execution_count": 33,
   "id": "e7dbdd79",
   "metadata": {},
   "outputs": [],
   "source": [
    "negative_samples = set(positive_samples).symmetric_difference(set(all_samples))"
   ]
  },
  {
   "cell_type": "code",
   "execution_count": 34,
   "id": "9a13f7f7",
   "metadata": {},
   "outputs": [
    {
     "data": {
      "text/plain": [
       "{'SRR6323088',\n",
       " 'SRR6323134',\n",
       " 'SRR6323200',\n",
       " 'SRR6323249',\n",
       " 'SRR6323250',\n",
       " 'SRR6323340',\n",
       " 'SRR6323343',\n",
       " 'SRR6323449'}"
      ]
     },
     "execution_count": 34,
     "metadata": {},
     "output_type": "execute_result"
    }
   ],
   "source": [
    "negative_samples"
   ]
  },
  {
   "cell_type": "markdown",
   "id": "0d0694e8",
   "metadata": {},
   "source": [
    "8 samples not containing any Lactobacillaceae reads (with breadth above 50%). All of them are samples from farms in China - see below when combined with metadata"
   ]
  },
  {
   "cell_type": "markdown",
   "id": "c653021d",
   "metadata": {},
   "source": [
    "### Including Metadata"
   ]
  },
  {
   "cell_type": "code",
   "execution_count": 35,
   "id": "718e1bbd",
   "metadata": {},
   "outputs": [],
   "source": [
    "metadata = pd.read_csv('data56_related_files/Metadata_56samples.tsv', sep = '\\t')"
   ]
  },
  {
   "cell_type": "code",
   "execution_count": 36,
   "id": "5bc290f8",
   "metadata": {},
   "outputs": [
    {
     "data": {
      "text/html": [
       "<div>\n",
       "<style scoped>\n",
       "    .dataframe tbody tr th:only-of-type {\n",
       "        vertical-align: middle;\n",
       "    }\n",
       "\n",
       "    .dataframe tbody tr th {\n",
       "        vertical-align: top;\n",
       "    }\n",
       "\n",
       "    .dataframe thead th {\n",
       "        text-align: right;\n",
       "    }\n",
       "</style>\n",
       "<table border=\"1\" class=\"dataframe\">\n",
       "  <thead>\n",
       "    <tr style=\"text-align: right;\">\n",
       "      <th></th>\n",
       "      <th>Dataset</th>\n",
       "      <th>ID</th>\n",
       "      <th>Country</th>\n",
       "      <th>gender</th>\n",
       "      <th>age.days.</th>\n",
       "      <th>Breed</th>\n",
       "      <th>isolation.location</th>\n",
       "      <th>type</th>\n",
       "      <th>Feed</th>\n",
       "      <th>Temperature</th>\n",
       "      <th>...</th>\n",
       "      <th>vaccine</th>\n",
       "      <th>vægt</th>\n",
       "      <th>humidity</th>\n",
       "      <th>sequencing.method</th>\n",
       "      <th>DNA.extraction</th>\n",
       "      <th>Sample.replicate</th>\n",
       "      <th>location_name.farm.</th>\n",
       "      <th>farm_ID</th>\n",
       "      <th>G_bases</th>\n",
       "      <th>avg Mbases</th>\n",
       "    </tr>\n",
       "  </thead>\n",
       "  <tbody>\n",
       "    <tr>\n",
       "      <th>0</th>\n",
       "      <td>Huang</td>\n",
       "      <td>SRR6323134</td>\n",
       "      <td>China</td>\n",
       "      <td>male</td>\n",
       "      <td>42</td>\n",
       "      <td>Arbor Acres broiler</td>\n",
       "      <td>cecum</td>\n",
       "      <td>broiler</td>\n",
       "      <td>None</td>\n",
       "      <td>reduced from 35 °C on day 1 to 24 °C on day 21...</td>\n",
       "      <td>...</td>\n",
       "      <td>Combined Newcastle disease virus (NDV) and inf...</td>\n",
       "      <td>NaN</td>\n",
       "      <td>NaN</td>\n",
       "      <td>HiSeq X Ten</td>\n",
       "      <td>NaN</td>\n",
       "      <td>pooled digesta from five chickens</td>\n",
       "      <td>China:Beijing</td>\n",
       "      <td>china1</td>\n",
       "      <td>2.4</td>\n",
       "      <td>NaN</td>\n",
       "    </tr>\n",
       "    <tr>\n",
       "      <th>1</th>\n",
       "      <td>Huang</td>\n",
       "      <td>SRR6323252</td>\n",
       "      <td>China</td>\n",
       "      <td>male</td>\n",
       "      <td>42</td>\n",
       "      <td>Arbor Acres broiler</td>\n",
       "      <td>duodenum</td>\n",
       "      <td>broiler</td>\n",
       "      <td>None</td>\n",
       "      <td>reduced from 35 °C on day 1 to 24 °C on day 21...</td>\n",
       "      <td>...</td>\n",
       "      <td>Combined Newcastle disease virus (NDV) and inf...</td>\n",
       "      <td>NaN</td>\n",
       "      <td>NaN</td>\n",
       "      <td>HiSeq X Ten</td>\n",
       "      <td>NaN</td>\n",
       "      <td>pooled digesta from five chickens</td>\n",
       "      <td>China:Beijing</td>\n",
       "      <td>china1</td>\n",
       "      <td>2.8</td>\n",
       "      <td>NaN</td>\n",
       "    </tr>\n",
       "    <tr>\n",
       "      <th>2</th>\n",
       "      <td>Huang</td>\n",
       "      <td>SRR6323384</td>\n",
       "      <td>China</td>\n",
       "      <td>male</td>\n",
       "      <td>42</td>\n",
       "      <td>Arbor Acres broiler</td>\n",
       "      <td>ileum</td>\n",
       "      <td>broiler</td>\n",
       "      <td>None</td>\n",
       "      <td>reduced from 35 °C on day 1 to 24 °C on day 21...</td>\n",
       "      <td>...</td>\n",
       "      <td>Combined Newcastle disease virus (NDV) and inf...</td>\n",
       "      <td>NaN</td>\n",
       "      <td>NaN</td>\n",
       "      <td>HiSeq X Ten</td>\n",
       "      <td>NaN</td>\n",
       "      <td>pooled digesta from five chickens</td>\n",
       "      <td>China:Beijing</td>\n",
       "      <td>china1</td>\n",
       "      <td>2.6</td>\n",
       "      <td>NaN</td>\n",
       "    </tr>\n",
       "    <tr>\n",
       "      <th>3</th>\n",
       "      <td>Huang</td>\n",
       "      <td>SRR6323414</td>\n",
       "      <td>China</td>\n",
       "      <td>male</td>\n",
       "      <td>42</td>\n",
       "      <td>Arbor Acres broiler</td>\n",
       "      <td>jejunum</td>\n",
       "      <td>broiler</td>\n",
       "      <td>None</td>\n",
       "      <td>reduced from 35 °C on day 1 to 24 °C on day 21...</td>\n",
       "      <td>...</td>\n",
       "      <td>Combined Newcastle disease virus (NDV) and inf...</td>\n",
       "      <td>NaN</td>\n",
       "      <td>NaN</td>\n",
       "      <td>HiSeq X Ten</td>\n",
       "      <td>NaN</td>\n",
       "      <td>pooled digesta from five chickens</td>\n",
       "      <td>China:Beijing</td>\n",
       "      <td>china1</td>\n",
       "      <td>3.0</td>\n",
       "      <td>NaN</td>\n",
       "    </tr>\n",
       "  </tbody>\n",
       "</table>\n",
       "<p>4 rows × 22 columns</p>\n",
       "</div>"
      ],
      "text/plain": [
       "  Dataset          ID Country gender age.days.                Breed  \\\n",
       "0   Huang  SRR6323134   China   male        42  Arbor Acres broiler   \n",
       "1   Huang  SRR6323252   China   male        42  Arbor Acres broiler   \n",
       "2   Huang  SRR6323384   China   male        42  Arbor Acres broiler   \n",
       "3   Huang  SRR6323414   China   male        42  Arbor Acres broiler   \n",
       "\n",
       "  isolation.location     type  Feed  \\\n",
       "0              cecum  broiler  None   \n",
       "1           duodenum  broiler  None   \n",
       "2              ileum  broiler  None   \n",
       "3            jejunum  broiler  None   \n",
       "\n",
       "                                         Temperature  ...  \\\n",
       "0  reduced from 35 °C on day 1 to 24 °C on day 21...  ...   \n",
       "1  reduced from 35 °C on day 1 to 24 °C on day 21...  ...   \n",
       "2  reduced from 35 °C on day 1 to 24 °C on day 21...  ...   \n",
       "3  reduced from 35 °C on day 1 to 24 °C on day 21...  ...   \n",
       "\n",
       "                                             vaccine vægt humidity  \\\n",
       "0  Combined Newcastle disease virus (NDV) and inf...  NaN      NaN   \n",
       "1  Combined Newcastle disease virus (NDV) and inf...  NaN      NaN   \n",
       "2  Combined Newcastle disease virus (NDV) and inf...  NaN      NaN   \n",
       "3  Combined Newcastle disease virus (NDV) and inf...  NaN      NaN   \n",
       "\n",
       "   sequencing.method  DNA.extraction                   Sample.replicate  \\\n",
       "0        HiSeq X Ten             NaN  pooled digesta from five chickens   \n",
       "1        HiSeq X Ten             NaN  pooled digesta from five chickens   \n",
       "2        HiSeq X Ten             NaN  pooled digesta from five chickens   \n",
       "3        HiSeq X Ten             NaN  pooled digesta from five chickens   \n",
       "\n",
       "   location_name.farm. farm_ID G_bases avg Mbases  \n",
       "0        China:Beijing  china1     2.4        NaN  \n",
       "1        China:Beijing  china1     2.8        NaN  \n",
       "2        China:Beijing  china1     2.6        NaN  \n",
       "3        China:Beijing  china1     3.0        NaN  \n",
       "\n",
       "[4 rows x 22 columns]"
      ]
     },
     "execution_count": 36,
     "metadata": {},
     "output_type": "execute_result"
    }
   ],
   "source": [
    "metadata.head(4)"
   ]
  },
  {
   "cell_type": "code",
   "execution_count": 37,
   "id": "a4b6aa74",
   "metadata": {},
   "outputs": [],
   "source": [
    "metadata['location_name.farm.'] = metadata['location_name.farm.'].str.replace('UK:South-east England', 'UK')"
   ]
  },
  {
   "cell_type": "markdown",
   "id": "7842ee0e",
   "metadata": {},
   "source": [
    "#### Metadata on the samples with no Lactobacillacea reads"
   ]
  },
  {
   "cell_type": "code",
   "execution_count": 39,
   "id": "9f2a96f4",
   "metadata": {},
   "outputs": [
    {
     "data": {
      "text/html": [
       "<div>\n",
       "<style scoped>\n",
       "    .dataframe tbody tr th:only-of-type {\n",
       "        vertical-align: middle;\n",
       "    }\n",
       "\n",
       "    .dataframe tbody tr th {\n",
       "        vertical-align: top;\n",
       "    }\n",
       "\n",
       "    .dataframe thead th {\n",
       "        text-align: right;\n",
       "    }\n",
       "</style>\n",
       "<table border=\"1\" class=\"dataframe\">\n",
       "  <thead>\n",
       "    <tr style=\"text-align: right;\">\n",
       "      <th></th>\n",
       "      <th>Dataset</th>\n",
       "      <th>ID</th>\n",
       "      <th>Country</th>\n",
       "      <th>gender</th>\n",
       "      <th>age.days.</th>\n",
       "      <th>Breed</th>\n",
       "      <th>isolation.location</th>\n",
       "      <th>type</th>\n",
       "      <th>Feed</th>\n",
       "      <th>Temperature</th>\n",
       "      <th>...</th>\n",
       "      <th>vaccine</th>\n",
       "      <th>vægt</th>\n",
       "      <th>humidity</th>\n",
       "      <th>sequencing.method</th>\n",
       "      <th>DNA.extraction</th>\n",
       "      <th>Sample.replicate</th>\n",
       "      <th>location_name.farm.</th>\n",
       "      <th>farm_ID</th>\n",
       "      <th>G_bases</th>\n",
       "      <th>avg Mbases</th>\n",
       "    </tr>\n",
       "  </thead>\n",
       "  <tbody>\n",
       "    <tr>\n",
       "      <th>0</th>\n",
       "      <td>Huang</td>\n",
       "      <td>SRR6323134</td>\n",
       "      <td>China</td>\n",
       "      <td>male</td>\n",
       "      <td>42</td>\n",
       "      <td>Arbor Acres broiler</td>\n",
       "      <td>cecum</td>\n",
       "      <td>broiler</td>\n",
       "      <td>None</td>\n",
       "      <td>reduced from 35 °C on day 1 to 24 °C on day 21...</td>\n",
       "      <td>...</td>\n",
       "      <td>Combined Newcastle disease virus (NDV) and inf...</td>\n",
       "      <td>NaN</td>\n",
       "      <td>NaN</td>\n",
       "      <td>HiSeq X Ten</td>\n",
       "      <td>NaN</td>\n",
       "      <td>pooled digesta from five chickens</td>\n",
       "      <td>China:Beijing</td>\n",
       "      <td>china1</td>\n",
       "      <td>2.4</td>\n",
       "      <td>NaN</td>\n",
       "    </tr>\n",
       "    <tr>\n",
       "      <th>10</th>\n",
       "      <td>Huang</td>\n",
       "      <td>SRR6323250</td>\n",
       "      <td>China</td>\n",
       "      <td>male</td>\n",
       "      <td>42</td>\n",
       "      <td>Arbor Acres broiler</td>\n",
       "      <td>cecum</td>\n",
       "      <td>broiler</td>\n",
       "      <td>None</td>\n",
       "      <td>reduced from 35 °C on day 1 to 24 °C on day 21...</td>\n",
       "      <td>...</td>\n",
       "      <td>Combined Newcastle disease virus (NDV) and inf...</td>\n",
       "      <td>NaN</td>\n",
       "      <td>NaN</td>\n",
       "      <td>HiSeq X Ten</td>\n",
       "      <td>NaN</td>\n",
       "      <td>digesta from one chicken (biological replicate 2)</td>\n",
       "      <td>China:Beijing</td>\n",
       "      <td>china3</td>\n",
       "      <td>3.5</td>\n",
       "      <td>NaN</td>\n",
       "    </tr>\n",
       "    <tr>\n",
       "      <th>11</th>\n",
       "      <td>Huang</td>\n",
       "      <td>SRR6323249</td>\n",
       "      <td>China</td>\n",
       "      <td>male</td>\n",
       "      <td>42</td>\n",
       "      <td>Arbor Acres broiler</td>\n",
       "      <td>cecum</td>\n",
       "      <td>broiler</td>\n",
       "      <td>None</td>\n",
       "      <td>reduced from 35 °C on day 1 to 24 °C on day 21...</td>\n",
       "      <td>...</td>\n",
       "      <td>Combined Newcastle disease virus (NDV) and inf...</td>\n",
       "      <td>NaN</td>\n",
       "      <td>NaN</td>\n",
       "      <td>HiSeq X Ten</td>\n",
       "      <td>NaN</td>\n",
       "      <td>digesta from one chicken (biological replicate 1)</td>\n",
       "      <td>China:Beijing</td>\n",
       "      <td>china3</td>\n",
       "      <td>3.1</td>\n",
       "      <td>NaN</td>\n",
       "    </tr>\n",
       "    <tr>\n",
       "      <th>13</th>\n",
       "      <td>Huang</td>\n",
       "      <td>SRR6323200</td>\n",
       "      <td>China</td>\n",
       "      <td>female</td>\n",
       "      <td>56</td>\n",
       "      <td>Local yellow-feather chickens</td>\n",
       "      <td>cecum</td>\n",
       "      <td>layer</td>\n",
       "      <td>None</td>\n",
       "      <td>reduced from 35 °C on day 1 to 24 °C on day 21...</td>\n",
       "      <td>...</td>\n",
       "      <td>Combined Newcastle disease virus (NDV) and inf...</td>\n",
       "      <td>NaN</td>\n",
       "      <td>NaN</td>\n",
       "      <td>Illumina HiSeq 2500</td>\n",
       "      <td>NaN</td>\n",
       "      <td>digesta from one chicken (biological replicate 3)</td>\n",
       "      <td>China:Hunan</td>\n",
       "      <td>china4</td>\n",
       "      <td>5.0</td>\n",
       "      <td>NaN</td>\n",
       "    </tr>\n",
       "    <tr>\n",
       "      <th>17</th>\n",
       "      <td>Huang</td>\n",
       "      <td>SRR6323343</td>\n",
       "      <td>China</td>\n",
       "      <td>female</td>\n",
       "      <td>62</td>\n",
       "      <td>Yellow dwarf chicken</td>\n",
       "      <td>colorectum</td>\n",
       "      <td>broiler</td>\n",
       "      <td>not collected</td>\n",
       "      <td>reduced from 35 °C on day 1 to 24 °C on day 21...</td>\n",
       "      <td>...</td>\n",
       "      <td>Combined Newcastle disease virus (NDV) and inf...</td>\n",
       "      <td>NaN</td>\n",
       "      <td>NaN</td>\n",
       "      <td>HiSeq X Ten</td>\n",
       "      <td>NaN</td>\n",
       "      <td>digesta from one chicken (biological replicate 2)</td>\n",
       "      <td>China:Guandong</td>\n",
       "      <td>china5</td>\n",
       "      <td>5.5</td>\n",
       "      <td>NaN</td>\n",
       "    </tr>\n",
       "    <tr>\n",
       "      <th>18</th>\n",
       "      <td>Huang</td>\n",
       "      <td>SRR6323088</td>\n",
       "      <td>China</td>\n",
       "      <td>female</td>\n",
       "      <td>62</td>\n",
       "      <td>Yellow dwarf chicken</td>\n",
       "      <td>cecum</td>\n",
       "      <td>broiler</td>\n",
       "      <td>not collected</td>\n",
       "      <td>reduced from 35 °C on day 1 to 24 °C on day 21...</td>\n",
       "      <td>...</td>\n",
       "      <td>Combined Newcastle disease virus (NDV) and inf...</td>\n",
       "      <td>NaN</td>\n",
       "      <td>NaN</td>\n",
       "      <td>Illumina HiSeq 2500</td>\n",
       "      <td>NaN</td>\n",
       "      <td>digesta from one chicken (biological replicate 1)</td>\n",
       "      <td>China:Guandong</td>\n",
       "      <td>china5</td>\n",
       "      <td>4.6</td>\n",
       "      <td>NaN</td>\n",
       "    </tr>\n",
       "    <tr>\n",
       "      <th>20</th>\n",
       "      <td>Huang</td>\n",
       "      <td>SRR6323340</td>\n",
       "      <td>China</td>\n",
       "      <td>male</td>\n",
       "      <td>62</td>\n",
       "      <td>Yellow dwarf chicken</td>\n",
       "      <td>cecum</td>\n",
       "      <td>broiler</td>\n",
       "      <td>not collected</td>\n",
       "      <td>reduced from 35 °C on day 1 to 24 °C on day 21...</td>\n",
       "      <td>...</td>\n",
       "      <td>Combined Newcastle disease virus (NDV) and inf...</td>\n",
       "      <td>NaN</td>\n",
       "      <td>NaN</td>\n",
       "      <td>HiSeq X Ten</td>\n",
       "      <td>NaN</td>\n",
       "      <td>digesta from one chicken (biological replicate 2)</td>\n",
       "      <td>China:Guandong</td>\n",
       "      <td>china5</td>\n",
       "      <td>6.9</td>\n",
       "      <td>NaN</td>\n",
       "    </tr>\n",
       "    <tr>\n",
       "      <th>21</th>\n",
       "      <td>Huang</td>\n",
       "      <td>SRR6323449</td>\n",
       "      <td>China</td>\n",
       "      <td>female</td>\n",
       "      <td>78</td>\n",
       "      <td>Guangxi local chicken</td>\n",
       "      <td>cecum</td>\n",
       "      <td>broiler</td>\n",
       "      <td>not collected</td>\n",
       "      <td>reduced from 35 °C on day 1 to 24 °C on day 21...</td>\n",
       "      <td>...</td>\n",
       "      <td>Combined Newcastle disease virus (NDV) and inf...</td>\n",
       "      <td>NaN</td>\n",
       "      <td>NaN</td>\n",
       "      <td>Illumina HiSeq 2500</td>\n",
       "      <td>NaN</td>\n",
       "      <td>digesta from one chicken (biological replicate 3)</td>\n",
       "      <td>China:Hunan</td>\n",
       "      <td>china6</td>\n",
       "      <td>4.1</td>\n",
       "      <td>NaN</td>\n",
       "    </tr>\n",
       "  </tbody>\n",
       "</table>\n",
       "<p>8 rows × 22 columns</p>\n",
       "</div>"
      ],
      "text/plain": [
       "   Dataset          ID Country  gender age.days.  \\\n",
       "0    Huang  SRR6323134   China    male        42   \n",
       "10   Huang  SRR6323250   China    male        42   \n",
       "11   Huang  SRR6323249   China    male        42   \n",
       "13   Huang  SRR6323200   China  female        56   \n",
       "17   Huang  SRR6323343   China  female        62   \n",
       "18   Huang  SRR6323088   China  female        62   \n",
       "20   Huang  SRR6323340   China    male        62   \n",
       "21   Huang  SRR6323449   China  female        78   \n",
       "\n",
       "                            Breed isolation.location     type           Feed  \\\n",
       "0             Arbor Acres broiler              cecum  broiler           None   \n",
       "10            Arbor Acres broiler              cecum  broiler           None   \n",
       "11            Arbor Acres broiler              cecum  broiler           None   \n",
       "13  Local yellow-feather chickens              cecum    layer           None   \n",
       "17           Yellow dwarf chicken         colorectum  broiler  not collected   \n",
       "18           Yellow dwarf chicken              cecum  broiler  not collected   \n",
       "20           Yellow dwarf chicken              cecum  broiler  not collected   \n",
       "21          Guangxi local chicken              cecum  broiler  not collected   \n",
       "\n",
       "                                          Temperature  ...  \\\n",
       "0   reduced from 35 °C on day 1 to 24 °C on day 21...  ...   \n",
       "10  reduced from 35 °C on day 1 to 24 °C on day 21...  ...   \n",
       "11  reduced from 35 °C on day 1 to 24 °C on day 21...  ...   \n",
       "13  reduced from 35 °C on day 1 to 24 °C on day 21...  ...   \n",
       "17  reduced from 35 °C on day 1 to 24 °C on day 21...  ...   \n",
       "18  reduced from 35 °C on day 1 to 24 °C on day 21...  ...   \n",
       "20  reduced from 35 °C on day 1 to 24 °C on day 21...  ...   \n",
       "21  reduced from 35 °C on day 1 to 24 °C on day 21...  ...   \n",
       "\n",
       "                                              vaccine vægt humidity  \\\n",
       "0   Combined Newcastle disease virus (NDV) and inf...  NaN      NaN   \n",
       "10  Combined Newcastle disease virus (NDV) and inf...  NaN      NaN   \n",
       "11  Combined Newcastle disease virus (NDV) and inf...  NaN      NaN   \n",
       "13  Combined Newcastle disease virus (NDV) and inf...  NaN      NaN   \n",
       "17  Combined Newcastle disease virus (NDV) and inf...  NaN      NaN   \n",
       "18  Combined Newcastle disease virus (NDV) and inf...  NaN      NaN   \n",
       "20  Combined Newcastle disease virus (NDV) and inf...  NaN      NaN   \n",
       "21  Combined Newcastle disease virus (NDV) and inf...  NaN      NaN   \n",
       "\n",
       "      sequencing.method  DNA.extraction  \\\n",
       "0           HiSeq X Ten             NaN   \n",
       "10          HiSeq X Ten             NaN   \n",
       "11          HiSeq X Ten             NaN   \n",
       "13  Illumina HiSeq 2500             NaN   \n",
       "17          HiSeq X Ten             NaN   \n",
       "18  Illumina HiSeq 2500             NaN   \n",
       "20          HiSeq X Ten             NaN   \n",
       "21  Illumina HiSeq 2500             NaN   \n",
       "\n",
       "                                     Sample.replicate  location_name.farm.  \\\n",
       "0                   pooled digesta from five chickens        China:Beijing   \n",
       "10  digesta from one chicken (biological replicate 2)        China:Beijing   \n",
       "11  digesta from one chicken (biological replicate 1)        China:Beijing   \n",
       "13  digesta from one chicken (biological replicate 3)          China:Hunan   \n",
       "17  digesta from one chicken (biological replicate 2)       China:Guandong   \n",
       "18  digesta from one chicken (biological replicate 1)       China:Guandong   \n",
       "20  digesta from one chicken (biological replicate 2)       China:Guandong   \n",
       "21  digesta from one chicken (biological replicate 3)          China:Hunan   \n",
       "\n",
       "   farm_ID G_bases avg Mbases  \n",
       "0   china1     2.4        NaN  \n",
       "10  china3     3.5        NaN  \n",
       "11  china3     3.1        NaN  \n",
       "13  china4     5.0        NaN  \n",
       "17  china5     5.5        NaN  \n",
       "18  china5     4.6        NaN  \n",
       "20  china5     6.9        NaN  \n",
       "21  china6     4.1        NaN  \n",
       "\n",
       "[8 rows x 22 columns]"
      ]
     },
     "execution_count": 39,
     "metadata": {},
     "output_type": "execute_result"
    }
   ],
   "source": [
    "metadata[metadata['ID'].isin(negative_samples)]"
   ]
  },
  {
   "cell_type": "markdown",
   "id": "b03afe6e",
   "metadata": {},
   "source": [
    "#### Combining metadata with binary sample vs genome matrix "
   ]
  },
  {
   "cell_type": "code",
   "execution_count": 40,
   "id": "c8e3415f",
   "metadata": {},
   "outputs": [],
   "source": [
    "binary_sample_vs_genomes['ID'] = binary_sample_vs_genomes.index"
   ]
  },
  {
   "cell_type": "code",
   "execution_count": 41,
   "id": "a5e6859d",
   "metadata": {},
   "outputs": [],
   "source": [
    "meta_binary_genome_info = pd.merge(metadata, binary_sample_vs_genomes, how=\"inner\", on='ID')"
   ]
  },
  {
   "cell_type": "code",
   "execution_count": 42,
   "id": "32b7917a",
   "metadata": {},
   "outputs": [
    {
     "data": {
      "text/html": [
       "<div>\n",
       "<style scoped>\n",
       "    .dataframe tbody tr th:only-of-type {\n",
       "        vertical-align: middle;\n",
       "    }\n",
       "\n",
       "    .dataframe tbody tr th {\n",
       "        vertical-align: top;\n",
       "    }\n",
       "\n",
       "    .dataframe thead th {\n",
       "        text-align: right;\n",
       "    }\n",
       "</style>\n",
       "<table border=\"1\" class=\"dataframe\">\n",
       "  <thead>\n",
       "    <tr style=\"text-align: right;\">\n",
       "      <th></th>\n",
       "      <th>Dataset</th>\n",
       "      <th>ID</th>\n",
       "      <th>Country</th>\n",
       "      <th>gender</th>\n",
       "      <th>age.days.</th>\n",
       "      <th>Breed</th>\n",
       "      <th>isolation.location</th>\n",
       "      <th>type</th>\n",
       "      <th>Feed</th>\n",
       "      <th>Temperature</th>\n",
       "      <th>...</th>\n",
       "      <th>S2C3320.fna</th>\n",
       "      <th>S33C4056.fna</th>\n",
       "      <th>S36C1134.fna</th>\n",
       "      <th>S42C891.fna</th>\n",
       "      <th>S49C1120.fna</th>\n",
       "      <th>S4C569.fna</th>\n",
       "      <th>S52C595.fna</th>\n",
       "      <th>S5C1113.fna</th>\n",
       "      <th>S8C2455.fna</th>\n",
       "      <th>S9C3913.fna</th>\n",
       "    </tr>\n",
       "  </thead>\n",
       "  <tbody>\n",
       "    <tr>\n",
       "      <th>0</th>\n",
       "      <td>Huang</td>\n",
       "      <td>SRR6323252</td>\n",
       "      <td>China</td>\n",
       "      <td>male</td>\n",
       "      <td>42</td>\n",
       "      <td>Arbor Acres broiler</td>\n",
       "      <td>duodenum</td>\n",
       "      <td>broiler</td>\n",
       "      <td>None</td>\n",
       "      <td>reduced from 35 °C on day 1 to 24 °C on day 21...</td>\n",
       "      <td>...</td>\n",
       "      <td>1</td>\n",
       "      <td>1</td>\n",
       "      <td>0</td>\n",
       "      <td>1</td>\n",
       "      <td>0</td>\n",
       "      <td>0</td>\n",
       "      <td>0</td>\n",
       "      <td>0</td>\n",
       "      <td>0</td>\n",
       "      <td>0</td>\n",
       "    </tr>\n",
       "    <tr>\n",
       "      <th>1</th>\n",
       "      <td>Huang</td>\n",
       "      <td>SRR6323384</td>\n",
       "      <td>China</td>\n",
       "      <td>male</td>\n",
       "      <td>42</td>\n",
       "      <td>Arbor Acres broiler</td>\n",
       "      <td>ileum</td>\n",
       "      <td>broiler</td>\n",
       "      <td>None</td>\n",
       "      <td>reduced from 35 °C on day 1 to 24 °C on day 21...</td>\n",
       "      <td>...</td>\n",
       "      <td>0</td>\n",
       "      <td>1</td>\n",
       "      <td>0</td>\n",
       "      <td>1</td>\n",
       "      <td>0</td>\n",
       "      <td>0</td>\n",
       "      <td>0</td>\n",
       "      <td>0</td>\n",
       "      <td>0</td>\n",
       "      <td>0</td>\n",
       "    </tr>\n",
       "    <tr>\n",
       "      <th>2</th>\n",
       "      <td>Huang</td>\n",
       "      <td>SRR6323414</td>\n",
       "      <td>China</td>\n",
       "      <td>male</td>\n",
       "      <td>42</td>\n",
       "      <td>Arbor Acres broiler</td>\n",
       "      <td>jejunum</td>\n",
       "      <td>broiler</td>\n",
       "      <td>None</td>\n",
       "      <td>reduced from 35 °C on day 1 to 24 °C on day 21...</td>\n",
       "      <td>...</td>\n",
       "      <td>1</td>\n",
       "      <td>1</td>\n",
       "      <td>0</td>\n",
       "      <td>1</td>\n",
       "      <td>0</td>\n",
       "      <td>0</td>\n",
       "      <td>0</td>\n",
       "      <td>1</td>\n",
       "      <td>0</td>\n",
       "      <td>0</td>\n",
       "    </tr>\n",
       "    <tr>\n",
       "      <th>3</th>\n",
       "      <td>Huang</td>\n",
       "      <td>SRR6323550</td>\n",
       "      <td>China</td>\n",
       "      <td>male</td>\n",
       "      <td>42</td>\n",
       "      <td>Arbor Acres broiler</td>\n",
       "      <td>colorectum</td>\n",
       "      <td>broiler</td>\n",
       "      <td>None</td>\n",
       "      <td>reduced from 35 °C on day 1 to 24 °C on day 21...</td>\n",
       "      <td>...</td>\n",
       "      <td>0</td>\n",
       "      <td>0</td>\n",
       "      <td>0</td>\n",
       "      <td>0</td>\n",
       "      <td>0</td>\n",
       "      <td>0</td>\n",
       "      <td>0</td>\n",
       "      <td>0</td>\n",
       "      <td>0</td>\n",
       "      <td>0</td>\n",
       "    </tr>\n",
       "    <tr>\n",
       "      <th>4</th>\n",
       "      <td>Huang</td>\n",
       "      <td>SRR6323556</td>\n",
       "      <td>China</td>\n",
       "      <td>female</td>\n",
       "      <td>42</td>\n",
       "      <td>Local yellow-feather chickens</td>\n",
       "      <td>cecum</td>\n",
       "      <td>layer</td>\n",
       "      <td>None</td>\n",
       "      <td>reduced from 35 °C on day 1 to 24 °C on day 21...</td>\n",
       "      <td>...</td>\n",
       "      <td>0</td>\n",
       "      <td>0</td>\n",
       "      <td>1</td>\n",
       "      <td>0</td>\n",
       "      <td>0</td>\n",
       "      <td>0</td>\n",
       "      <td>0</td>\n",
       "      <td>0</td>\n",
       "      <td>0</td>\n",
       "      <td>0</td>\n",
       "    </tr>\n",
       "  </tbody>\n",
       "</table>\n",
       "<p>5 rows × 79 columns</p>\n",
       "</div>"
      ],
      "text/plain": [
       "  Dataset          ID Country  gender age.days.  \\\n",
       "0   Huang  SRR6323252   China    male        42   \n",
       "1   Huang  SRR6323384   China    male        42   \n",
       "2   Huang  SRR6323414   China    male        42   \n",
       "3   Huang  SRR6323550   China    male        42   \n",
       "4   Huang  SRR6323556   China  female        42   \n",
       "\n",
       "                           Breed isolation.location     type  Feed  \\\n",
       "0            Arbor Acres broiler           duodenum  broiler  None   \n",
       "1            Arbor Acres broiler              ileum  broiler  None   \n",
       "2            Arbor Acres broiler            jejunum  broiler  None   \n",
       "3            Arbor Acres broiler         colorectum  broiler  None   \n",
       "4  Local yellow-feather chickens              cecum    layer  None   \n",
       "\n",
       "                                         Temperature  ... S2C3320.fna  \\\n",
       "0  reduced from 35 °C on day 1 to 24 °C on day 21...  ...           1   \n",
       "1  reduced from 35 °C on day 1 to 24 °C on day 21...  ...           0   \n",
       "2  reduced from 35 °C on day 1 to 24 °C on day 21...  ...           1   \n",
       "3  reduced from 35 °C on day 1 to 24 °C on day 21...  ...           0   \n",
       "4  reduced from 35 °C on day 1 to 24 °C on day 21...  ...           0   \n",
       "\n",
       "  S33C4056.fna S36C1134.fna  S42C891.fna  S49C1120.fna S4C569.fna  \\\n",
       "0            1            0            1             0          0   \n",
       "1            1            0            1             0          0   \n",
       "2            1            0            1             0          0   \n",
       "3            0            0            0             0          0   \n",
       "4            0            1            0             0          0   \n",
       "\n",
       "   S52C595.fna S5C1113.fna S8C2455.fna S9C3913.fna  \n",
       "0            0           0           0           0  \n",
       "1            0           0           0           0  \n",
       "2            0           1           0           0  \n",
       "3            0           0           0           0  \n",
       "4            0           0           0           0  \n",
       "\n",
       "[5 rows x 79 columns]"
      ]
     },
     "execution_count": 42,
     "metadata": {},
     "output_type": "execute_result"
    }
   ],
   "source": [
    "meta_binary_genome_info.head(5)"
   ]
  },
  {
   "cell_type": "code",
   "execution_count": 43,
   "id": "3dc36308",
   "metadata": {
    "scrolled": true
   },
   "outputs": [
    {
     "data": {
      "text/plain": [
       "<AxesSubplot:xlabel='farm_ID'>"
      ]
     },
     "execution_count": 43,
     "metadata": {},
     "output_type": "execute_result"
    },
    {
     "data": {
      "image/png": "[encoded data removed]",
      "text/plain": [
       "<Figure size 432x288 with 1 Axes>"
      ]
     },
     "metadata": {
      "needs_background": "light"
     },
     "output_type": "display_data"
    }
   ],
   "source": [
    "pd.crosstab(meta_binary_genome_info['farm_ID'],\n",
    "            meta_binary_genome_info['GCF_001436315.1_']).plot.bar(stacked=True)\n"
   ]
  },
  {
   "cell_type": "code",
   "execution_count": 135,
   "id": "bde16880",
   "metadata": {
    "scrolled": false
   },
   "outputs": [
    {
     "data": {
      "image/png": "[encoded data removed]",
      "text/plain": [
       "<Figure size 1440x1728 with 5 Axes>"
      ]
     },
     "metadata": {},
     "output_type": "display_data"
    }
   ],
   "source": [
    "# lut1 = dict(zip(meta_binary_genome_info['Country'].unique(), ['#FFFF99','#330000','#555555','#330066','#CC6600','#009900']))\n",
    "lut1 = dict(zip(meta_binary_genome_info['Country'].unique(), \n",
    "                sns.color_palette(\"viridis\", 6)))\n",
    "\n",
    "\n",
    "row_colors1 = meta_binary_genome_info['Country'].map(lut1)\n",
    "\n",
    "row_colors1 = row_colors1.reindex(index = [23,28,43,29,33,44,34,38,24,\n",
    "                                           1,2,25,3,30,26,4,5,31,39,40,32,6,\n",
    "                                           41,42,35,45,46,36,37,47,7,27,8,9,\n",
    "                                           10,11,12,13,14,15,16,17,18,19,20,21,\n",
    "                                           22,0])\n",
    "\n",
    "sns.set(font_scale = 1.1)\n",
    "cmap = sns.clustermap( data = binary_sample_vs_genomes.drop('ID', axis=1), \n",
    "                    row_colors=[row_colors1], figsize=(20,24),\n",
    "                    cbar_pos=(0.1, 0.9, 0.05, 0.05) )\n",
    "\n",
    "\n",
    "\n",
    "handles = [Patch(facecolor=lut1[name]) for name in lut1]\n",
    "plt.legend(handles, lut1, title='Country',\n",
    "            bbox_to_anchor=(1.08, 1), bbox_transform=plt.gcf().transFigure,\n",
    "           loc='upper right', fontsize=24, frameon=False )\n",
    "\n",
    "plt.savefig('resultFigs/presence_apsencePlot.png',  bbox_inches='tight')\n",
    "\n",
    "\n",
    "\n",
    "# colorbar = ax.collections[0].colorbar\n",
    "# colorbar.set_ticks([0.25,0.75])\n",
    "# colorbar.set_ticklabels(['0', '1'])\n"
   ]
  },
  {
   "cell_type": "code",
   "execution_count": 45,
   "id": "15b52c02",
   "metadata": {},
   "outputs": [
    {
     "data": {
      "text/html": [
       "<div>\n",
       "<style scoped>\n",
       "    .dataframe tbody tr th:only-of-type {\n",
       "        vertical-align: middle;\n",
       "    }\n",
       "\n",
       "    .dataframe tbody tr th {\n",
       "        vertical-align: top;\n",
       "    }\n",
       "\n",
       "    .dataframe thead th {\n",
       "        text-align: right;\n",
       "    }\n",
       "</style>\n",
       "<table border=\"1\" class=\"dataframe\">\n",
       "  <thead>\n",
       "    <tr style=\"text-align: right;\">\n",
       "      <th></th>\n",
       "      <th>Dataset</th>\n",
       "      <th>ID</th>\n",
       "      <th>Country</th>\n",
       "      <th>gender</th>\n",
       "      <th>age.days.</th>\n",
       "      <th>Breed</th>\n",
       "      <th>isolation.location</th>\n",
       "      <th>type</th>\n",
       "      <th>Feed</th>\n",
       "      <th>Temperature</th>\n",
       "      <th>...</th>\n",
       "      <th>S2C3320.fna</th>\n",
       "      <th>S33C4056.fna</th>\n",
       "      <th>S36C1134.fna</th>\n",
       "      <th>S42C891.fna</th>\n",
       "      <th>S49C1120.fna</th>\n",
       "      <th>S4C569.fna</th>\n",
       "      <th>S52C595.fna</th>\n",
       "      <th>S5C1113.fna</th>\n",
       "      <th>S8C2455.fna</th>\n",
       "      <th>S9C3913.fna</th>\n",
       "    </tr>\n",
       "  </thead>\n",
       "  <tbody>\n",
       "    <tr>\n",
       "      <th>37</th>\n",
       "      <td>Patrik Munk</td>\n",
       "      <td>ERR2241860</td>\n",
       "      <td>Italy</td>\n",
       "      <td>NaN</td>\n",
       "      <td>33.8 (average)</td>\n",
       "      <td>NaN</td>\n",
       "      <td>Faecal</td>\n",
       "      <td>broiler</td>\n",
       "      <td>NaN</td>\n",
       "      <td>NaN</td>\n",
       "      <td>...</td>\n",
       "      <td>1</td>\n",
       "      <td>0</td>\n",
       "      <td>1</td>\n",
       "      <td>0</td>\n",
       "      <td>0</td>\n",
       "      <td>1</td>\n",
       "      <td>0</td>\n",
       "      <td>1</td>\n",
       "      <td>1</td>\n",
       "      <td>1</td>\n",
       "    </tr>\n",
       "  </tbody>\n",
       "</table>\n",
       "<p>1 rows × 79 columns</p>\n",
       "</div>"
      ],
      "text/plain": [
       "        Dataset          ID Country gender       age.days. Breed  \\\n",
       "37  Patrik Munk  ERR2241860   Italy    NaN  33.8 (average)   NaN   \n",
       "\n",
       "   isolation.location     type Feed Temperature  ... S2C3320.fna S33C4056.fna  \\\n",
       "37             Faecal  broiler  NaN         NaN  ...           1            0   \n",
       "\n",
       "   S36C1134.fna  S42C891.fna  S49C1120.fna S4C569.fna  S52C595.fna  \\\n",
       "37            1            0             0          1            0   \n",
       "\n",
       "   S5C1113.fna S8C2455.fna S9C3913.fna  \n",
       "37           1           1           1  \n",
       "\n",
       "[1 rows x 79 columns]"
      ]
     },
     "execution_count": 45,
     "metadata": {},
     "output_type": "execute_result"
    }
   ],
   "source": [
    "#sample with the most genomes present \n",
    "meta_binary_genome_info[meta_binary_genome_info['ID'] == 'ERR2241860']"
   ]
  },
  {
   "cell_type": "code",
   "execution_count": 44,
   "id": "39cf3413",
   "metadata": {},
   "outputs": [],
   "source": [
    "meta_binary_genome_info.to_csv('data56_related_files/meta_binary_genome_info_instrain.csv', index = False, header = True)"
   ]
  },
  {
   "cell_type": "code",
   "execution_count": null,
   "id": "0a38632d",
   "metadata": {},
   "outputs": [],
   "source": [
    "meta_binary_genome_info.to_csv('data56_related_files/presence_with_metadata.csv', header = True, index = False)"
   ]
  },
  {
   "cell_type": "markdown",
   "id": "20b2af63",
   "metadata": {},
   "source": [
    "### Statistical difference between China and Europe"
   ]
  },
  {
   "cell_type": "code",
   "execution_count": 46,
   "id": "04134757",
   "metadata": {},
   "outputs": [],
   "source": [
    "# adding region column \n",
    "def conditions(s):\n",
    "#     if (s['farm_ID'].isin(['china1', 'china2', 'china3', 'china4', 'china5', 'china6', 'china7'])):\n",
    "    if 'china' in s['farm_ID']:\n",
    "        return 'china'\n",
    "    else:\n",
    "        return 'europe'"
   ]
  },
  {
   "cell_type": "code",
   "execution_count": 47,
   "id": "a89d7172",
   "metadata": {},
   "outputs": [],
   "source": [
    "meta_binary_genome_info['region'] = meta_binary_genome_info.apply(conditions, axis=1)"
   ]
  },
  {
   "cell_type": "code",
   "execution_count": 48,
   "id": "8a1bf7d8",
   "metadata": {},
   "outputs": [
    {
     "data": {
      "text/html": [
       "<div>\n",
       "<style scoped>\n",
       "    .dataframe tbody tr th:only-of-type {\n",
       "        vertical-align: middle;\n",
       "    }\n",
       "\n",
       "    .dataframe tbody tr th {\n",
       "        vertical-align: top;\n",
       "    }\n",
       "\n",
       "    .dataframe thead th {\n",
       "        text-align: right;\n",
       "    }\n",
       "</style>\n",
       "<table border=\"1\" class=\"dataframe\">\n",
       "  <thead>\n",
       "    <tr style=\"text-align: right;\">\n",
       "      <th></th>\n",
       "      <th>Dataset</th>\n",
       "      <th>ID</th>\n",
       "      <th>Country</th>\n",
       "      <th>gender</th>\n",
       "      <th>age.days.</th>\n",
       "      <th>Breed</th>\n",
       "      <th>isolation.location</th>\n",
       "      <th>type</th>\n",
       "      <th>Feed</th>\n",
       "      <th>Temperature</th>\n",
       "      <th>...</th>\n",
       "      <th>S2C3320.fna</th>\n",
       "      <th>S33C4056.fna</th>\n",
       "      <th>S36C1134.fna</th>\n",
       "      <th>S42C891.fna</th>\n",
       "      <th>S49C1120.fna</th>\n",
       "      <th>S4C569.fna</th>\n",
       "      <th>S52C595.fna</th>\n",
       "      <th>S5C1113.fna</th>\n",
       "      <th>S8C2455.fna</th>\n",
       "      <th>S9C3913.fna</th>\n",
       "    </tr>\n",
       "    <tr>\n",
       "      <th>region</th>\n",
       "      <th></th>\n",
       "      <th></th>\n",
       "      <th></th>\n",
       "      <th></th>\n",
       "      <th></th>\n",
       "      <th></th>\n",
       "      <th></th>\n",
       "      <th></th>\n",
       "      <th></th>\n",
       "      <th></th>\n",
       "      <th></th>\n",
       "      <th></th>\n",
       "      <th></th>\n",
       "      <th></th>\n",
       "      <th></th>\n",
       "      <th></th>\n",
       "      <th></th>\n",
       "      <th></th>\n",
       "      <th></th>\n",
       "      <th></th>\n",
       "      <th></th>\n",
       "    </tr>\n",
       "  </thead>\n",
       "  <tbody>\n",
       "    <tr>\n",
       "      <th>china</th>\n",
       "      <td>23</td>\n",
       "      <td>23</td>\n",
       "      <td>23</td>\n",
       "      <td>23</td>\n",
       "      <td>23</td>\n",
       "      <td>23</td>\n",
       "      <td>23</td>\n",
       "      <td>23</td>\n",
       "      <td>23</td>\n",
       "      <td>23</td>\n",
       "      <td>...</td>\n",
       "      <td>23</td>\n",
       "      <td>23</td>\n",
       "      <td>23</td>\n",
       "      <td>23</td>\n",
       "      <td>23</td>\n",
       "      <td>23</td>\n",
       "      <td>23</td>\n",
       "      <td>23</td>\n",
       "      <td>23</td>\n",
       "      <td>23</td>\n",
       "    </tr>\n",
       "    <tr>\n",
       "      <th>europe</th>\n",
       "      <td>25</td>\n",
       "      <td>25</td>\n",
       "      <td>25</td>\n",
       "      <td>5</td>\n",
       "      <td>25</td>\n",
       "      <td>5</td>\n",
       "      <td>25</td>\n",
       "      <td>25</td>\n",
       "      <td>5</td>\n",
       "      <td>0</td>\n",
       "      <td>...</td>\n",
       "      <td>25</td>\n",
       "      <td>25</td>\n",
       "      <td>25</td>\n",
       "      <td>25</td>\n",
       "      <td>25</td>\n",
       "      <td>25</td>\n",
       "      <td>25</td>\n",
       "      <td>25</td>\n",
       "      <td>25</td>\n",
       "      <td>25</td>\n",
       "    </tr>\n",
       "  </tbody>\n",
       "</table>\n",
       "<p>2 rows × 79 columns</p>\n",
       "</div>"
      ],
      "text/plain": [
       "        Dataset  ID  Country  gender  age.days.  Breed  isolation.location  \\\n",
       "region                                                                       \n",
       "china        23  23       23      23         23     23                  23   \n",
       "europe       25  25       25       5         25      5                  25   \n",
       "\n",
       "        type  Feed  Temperature  ...  S2C3320.fna  S33C4056.fna  S36C1134.fna  \\\n",
       "region                           ...                                            \n",
       "china     23    23           23  ...           23            23            23   \n",
       "europe    25     5            0  ...           25            25            25   \n",
       "\n",
       "        S42C891.fna  S49C1120.fna  S4C569.fna  S52C595.fna  S5C1113.fna  \\\n",
       "region                                                                    \n",
       "china            23            23          23           23           23   \n",
       "europe           25            25          25           25           25   \n",
       "\n",
       "        S8C2455.fna  S9C3913.fna  \n",
       "region                            \n",
       "china            23           23  \n",
       "europe           25           25  \n",
       "\n",
       "[2 rows x 79 columns]"
      ]
     },
     "execution_count": 48,
     "metadata": {},
     "output_type": "execute_result"
    }
   ],
   "source": [
    "meta_binary_genome_info.groupby('region').count()"
   ]
  },
  {
   "cell_type": "markdown",
   "id": "42e75ef7",
   "metadata": {},
   "source": [
    "#### count difference in present genomes in China vs Europe"
   ]
  },
  {
   "cell_type": "code",
   "execution_count": 49,
   "id": "b7ad4d2a",
   "metadata": {},
   "outputs": [
    {
     "name": "stdout",
     "output_type": "stream",
     "text": [
      "Number of times all genomes are present in China:  225.0\n",
      "Number of tines all genomes are present in Europe:  442.0\n"
     ]
    }
   ],
   "source": [
    "china_count = 0\n",
    "europe_count = 0\n",
    "\n",
    "meta_filtered = meta_binary_genome_info.drop(columns=['G_bases', 'avg Mbases'])\n",
    "\n",
    "for key in meta_filtered.groupby('region').sum().keys():\n",
    "    china_count += meta_filtered.groupby('region').sum()[key][0]\n",
    "    europe_count += meta_filtered.groupby('region').sum()[key][1]\n",
    "\n",
    "print('Number of times all genomes are present in China: ',china_count)\n",
    "print('Number of tines all genomes are present in Europe: ',europe_count)"
   ]
  },
  {
   "cell_type": "markdown",
   "id": "7122b2f5",
   "metadata": {},
   "source": [
    "### Finding genomes that have different distributions in China vs Europe\n",
    "The funcition "
   ]
  },
  {
   "cell_type": "code",
   "execution_count": 50,
   "id": "6cace791",
   "metadata": {},
   "outputs": [],
   "source": [
    "def statistically_significant(ranks_stats, alpha):\n",
    "    statistically_different = {}\n",
    "\n",
    "    for key in ranks_stats:\n",
    "        if ranks_stats[key][1] <= alpha:\n",
    "            statistically_different[key] = ranks_stats[key]\n",
    "    \n",
    "    return statistically_different"
   ]
  },
  {
   "cell_type": "code",
   "execution_count": 51,
   "id": "f3192d99",
   "metadata": {},
   "outputs": [],
   "source": [
    "def add_adjusted_pvalue(stats_dict, alpha):\n",
    "    \n",
    "    p_val = []\n",
    "    for key in stats_dict:\n",
    "        p_val.append(stats_dict[key][1])\n",
    "    \n",
    "    adjusted_p = smt.multipletests(p_val, alpha=alpha, method='fdr_bh')[1]\n",
    "    \n",
    "    for index, key in enumerate(stats_dict):\n",
    "        stats_dict[key] = [stats_dict[key], adjusted_p[index]]\n",
    "\n",
    "    return stats_dict"
   ]
  },
  {
   "cell_type": "code",
   "execution_count": 52,
   "id": "0535009d",
   "metadata": {},
   "outputs": [],
   "source": [
    "def create_contingency_table(df1, df2, genome):\n",
    "\n",
    "    presence_df1 = df1[df1[genome]==1].count()[genome]\n",
    "    presence_df2 = df2[df2[genome]==1].count()[genome]\n",
    "    \n",
    "    contingency_table = [[presence_df1, len(df1)-presence_df1], \n",
    "                                                           [presence_df2, len(df2)-presence_df2]]\n",
    "    return contingency_table"
   ]
  },
  {
   "cell_type": "code",
   "execution_count": 53,
   "id": "17f7f06d",
   "metadata": {},
   "outputs": [],
   "source": [
    "def calculate_stats_multiple_genomes(ref_genome, df1, df2):\n",
    "\n",
    "    results = {}\n",
    "\n",
    "    for genome in ref_genome:\n",
    "        results[genome] = fisher_exact(create_contingency_table(df1, df2, genome))\n",
    "            \n",
    "#             results[genome]= [np.log(results[genome][0]),results[genome]]\n",
    "          \n",
    "    return results"
   ]
  },
  {
   "cell_type": "code",
   "execution_count": 54,
   "id": "d9adef05",
   "metadata": {},
   "outputs": [],
   "source": [
    "def stat_diff(df, column, type1, type2, alpha, ref_genome = reference_genomes):\n",
    "    '''Will return the genomes with statistically significant difference in distibution in Europe and China.\n",
    "    It returns a dictionary with genome as key and the values are [(odds ratio, p-value), adjusted p-value] '''\n",
    "    group1 = df[df[column] == type1]\n",
    "    group2 = df[df[column] == type2]\n",
    "    \n",
    "    test_stats = calculate_stats_multiple_genomes(ref_genome, group1, group2)\n",
    "    stats_adjusted_P = add_adjusted_pvalue(test_stats, alpha)\n",
    "    \n",
    "    return statistically_significant(stats_adjusted_P, alpha)"
   ]
  },
  {
   "cell_type": "code",
   "execution_count": 57,
   "id": "02a83112",
   "metadata": {},
   "outputs": [],
   "source": [
    "def all_stats(df, column, type1, type2, alpha, ref_genome = reference_genomes):\n",
    "    '''Will return the statistics for all the genomes in a dictionary with genome as key \n",
    "    and the values are [(odds ratio, p-value), adjusted p-value] '''\n",
    "    \n",
    "    group1 = df[df[column] == type1]\n",
    "    group2 = df[df[column] == type2]\n",
    "    \n",
    "    test_stats = calculate_stats_multiple_genomes(ref_genome, group1, group2)\n",
    "    \n",
    "    return add_adjusted_pvalue(test_stats, alpha)\n",
    "    "
   ]
  },
  {
   "cell_type": "code",
   "execution_count": 58,
   "id": "f9f29d98",
   "metadata": {},
   "outputs": [],
   "source": [
    "\n",
    "stats_region_genomes = all_stats(meta_binary_genome_info, 'region', 'europe', 'china', alpha=0.01)"
   ]
  },
  {
   "cell_type": "code",
   "execution_count": 61,
   "id": "b5130cbd",
   "metadata": {
    "scrolled": false
   },
   "outputs": [],
   "source": [
    "statistical_region_genomes_fisher = stat_diff(meta_binary_genome_info, 'region', 'europe', 'china',alpha=0.01)"
   ]
  },
  {
   "cell_type": "code",
   "execution_count": 62,
   "id": "5dac9db6",
   "metadata": {},
   "outputs": [
    {
     "data": {
      "text/plain": [
       "{'GCF_000159355.1_': [(161.33333333333334, 1.7370799770782166e-09),\n",
       "  3.651419572354424e-08],\n",
       " 'GCF_000159435.1_': [(54.857142857142854, 1.722601543385758e-06),\n",
       "  9.818828797298821e-06],\n",
       " 'GCF_000614735.1_': [(160.0, 2.562399699897841e-09), 3.651419572354424e-08],\n",
       " 'GCF_001435955.1_': [(69.66666666666667, 2.598983813607313e-07),\n",
       "  2.1163153910802407e-06],\n",
       " 'GCF_001436315.1_': [(0.017676767676767676, 1.0469103481848102e-06),\n",
       "  6.630432205170465e-06],\n",
       " 'GCF_002088015.1_': [(37.333333333333336, 2.2125406805775083e-05),\n",
       "  0.00010509568232743165],\n",
       " 'GCF_005405465.1_': [(inf, 0.0002571111521643141), 0.0011273335133358388],\n",
       " 'GCF_013694365.1_': [(26.666666666666668, 3.2785593736610336e-06),\n",
       "  1.6988898572607175e-05],\n",
       " 'S16C442.fna': [(114.0, 1.6508203376333085e-08), 1.8819351849019718e-07],\n",
       " 'S18C2441.fna': [(86.4, 8.899614768907736e-08), 8.45463403046235e-07],\n",
       " 'S24C362.fna': [(160.0, 2.562399699897841e-09), 3.651419572354424e-08],\n",
       " 'S2C3320.fna': [(41.4, 8.630827354959808e-07), 6.1494644904088635e-06],\n",
       " 'S4C569.fna': [(160.0, 2.562399699897841e-09), 3.651419572354424e-08]}"
      ]
     },
     "execution_count": 62,
     "metadata": {},
     "output_type": "execute_result"
    }
   ],
   "source": [
    "statistical_region_genomes_fisher"
   ]
  },
  {
   "cell_type": "code",
   "execution_count": 63,
   "id": "c00c200d",
   "metadata": {},
   "outputs": [
    {
     "name": "stdout",
     "output_type": "stream",
     "text": [
      "GCF_000159355.1_ 5.083472618048522\n",
      "GCF_000159435.1_ 4.004732403532413\n",
      "GCF_000614735.1_ 5.075173815233827\n",
      "GCF_001435955.1_ 4.243721963296702\n",
      "GCF_001436315.1_ -4.035504062199167\n",
      "GCF_002088015.1_ 3.619886582626985\n",
      "GCF_005405465.1_ inf\n",
      "GCF_013694365.1_ 3.283414346005772\n",
      "S16C442.fna 4.736198448394496\n",
      "S18C2441.fna 4.45898767581001\n",
      "S24C362.fna 5.075173815233827\n",
      "S2C3320.fna 3.7232808808312687\n",
      "S4C569.fna 5.075173815233827\n"
     ]
    }
   ],
   "source": [
    "#calculating log ratio:\n",
    "\n",
    "for genome in statistical_region_genomes_fisher.keys():\n",
    "    logOR = np.log(statistical_region_genomes_fisher[genome][0][0])\n",
    "    print(genome, logOR)\n"
   ]
  },
  {
   "cell_type": "code",
   "execution_count": 64,
   "id": "742b5c5c",
   "metadata": {},
   "outputs": [
    {
     "name": "stdout",
     "output_type": "stream",
     "text": [
      "These Lactobacillaceae are more present in China\n",
      "dict_keys(['GCF_001436315.1_'])\n",
      "These Lactobacillaceae are more present in Europe\n",
      "dict_keys(['GCF_000159355.1_', 'GCF_000159435.1_', 'GCF_000614735.1_', 'GCF_001435955.1_', 'GCF_002088015.1_', 'GCF_005405465.1_', 'GCF_013694365.1_', 'S16C442.fna', 'S18C2441.fna', 'S24C362.fna', 'S2C3320.fna', 'S4C569.fna'])\n"
     ]
    }
   ],
   "source": [
    "mostly_present_china = {}\n",
    "mostly_present_europe = {}\n",
    "\n",
    "for key in statistical_region_genomes_fisher:\n",
    "    if statistical_region_genomes_fisher[key][0][0] < 1:\n",
    "        mostly_present_china[key] = statistical_region_genomes_fisher[key]\n",
    "\n",
    "    if statistical_region_genomes_fisher[key][0][0] > 1:\n",
    "        mostly_present_europe[key] = statistical_region_genomes_fisher[key]\n",
    "\n",
    "print('These Lactobacillaceae are more present in China')\n",
    "print(mostly_present_china.keys())\n",
    "print('These Lactobacillaceae are more present in Europe')\n",
    "print(mostly_present_europe.keys())"
   ]
  },
  {
   "cell_type": "markdown",
   "id": "ded97902",
   "metadata": {},
   "source": [
    "Found 13 species with statitical significance of being distibuted differently in Europe and China. 1 of them were found significantly more in China while 12 was mainly found in Europe. "
   ]
  },
  {
   "cell_type": "code",
   "execution_count": 71,
   "id": "e847f788",
   "metadata": {
    "scrolled": true
   },
   "outputs": [
    {
     "data": {
      "image/png": "[encoded data removed]",
      "text/plain": [
       "<Figure size 432x288 with 1 Axes>"
      ]
     },
     "metadata": {
      "needs_background": "light"
     },
     "output_type": "display_data"
    },
    {
     "data": {
      "image/png": "[encoded data removed]",
      "text/plain": [
       "<Figure size 432x288 with 1 Axes>"
      ]
     },
     "metadata": {
      "needs_background": "light"
     },
     "output_type": "display_data"
    },
    {
     "data": {
      "image/png": "[encoded data removed]",
      "text/plain": [
       "<Figure size 432x288 with 1 Axes>"
      ]
     },
     "metadata": {
      "needs_background": "light"
     },
     "output_type": "display_data"
    },
    {
     "data": {
      "image/png": "[encoded data removed]",
      "text/plain": [
       "<Figure size 432x288 with 1 Axes>"
      ]
     },
     "metadata": {
      "needs_background": "light"
     },
     "output_type": "display_data"
    },
    {
     "data": {
      "image/png": "[encoded data removed]",
      "text/plain": [
       "<Figure size 432x288 with 1 Axes>"
      ]
     },
     "metadata": {
      "needs_background": "light"
     },
     "output_type": "display_data"
    },
    {
     "data": {
      "image/png": "[encoded data removed]",
      "text/plain": [
       "<Figure size 432x288 with 1 Axes>"
      ]
     },
     "metadata": {
      "needs_background": "light"
     },
     "output_type": "display_data"
    },
    {
     "data": {
      "image/png": "[encoded data removed]",
      "text/plain": [
       "<Figure size 432x288 with 1 Axes>"
      ]
     },
     "metadata": {
      "needs_background": "light"
     },
     "output_type": "display_data"
    },
    {
     "data": {
      "image/png": "[encoded data removed]",
      "text/plain": [
       "<Figure size 432x288 with 1 Axes>"
      ]
     },
     "metadata": {
      "needs_background": "light"
     },
     "output_type": "display_data"
    },
    {
     "data": {
      "image/png": "[encoded data removed]",
      "text/plain": [
       "<Figure size 432x288 with 1 Axes>"
      ]
     },
     "metadata": {
      "needs_background": "light"
     },
     "output_type": "display_data"
    },
    {
     "data": {
      "image/png": "[encoded data removed]",
      "text/plain": [
       "<Figure size 432x288 with 1 Axes>"
      ]
     },
     "metadata": {
      "needs_background": "light"
     },
     "output_type": "display_data"
    },
    {
     "data": {
      "image/png": "[encoded data removed]",
      "text/plain": [
       "<Figure size 432x288 with 1 Axes>"
      ]
     },
     "metadata": {
      "needs_background": "light"
     },
     "output_type": "display_data"
    },
    {
     "data": {
      "image/png": "[encoded data removed]",
      "text/plain": [
       "<Figure size 432x288 with 1 Axes>"
      ]
     },
     "metadata": {
      "needs_background": "light"
     },
     "output_type": "display_data"
    },
    {
     "data": {
      "image/png": "[encoded data removed]",
      "text/plain": [
       "<Figure size 432x288 with 1 Axes>"
      ]
     },
     "metadata": {
      "needs_background": "light"
     },
     "output_type": "display_data"
    }
   ],
   "source": [
    "# fig, axes = plt.subplots(5,5, figsize=(12,6))\n",
    "\n",
    "for idx, genome in enumerate(statistical_region_genomes_fisher.keys()): \n",
    "#     i= int((idx/5))\n",
    "    \n",
    "    ct = pd.crosstab(meta_binary_genome_info['region'],\n",
    "            meta_binary_genome_info[genome])\n",
    "    fig = ct.plot(kind='bar', stacked=True, rot=0)\n",
    "    \n",
    "    fig.legend(title = genome,bbox_to_anchor=(1, 1.02), loc='upper left')\n"
   ]
  },
  {
   "cell_type": "markdown",
   "id": "4df1bfb9",
   "metadata": {},
   "source": [
    "### Difference in free range vs conventional"
   ]
  },
  {
   "cell_type": "code",
   "execution_count": 72,
   "id": "09d42c6a",
   "metadata": {},
   "outputs": [
    {
     "data": {
      "text/plain": [
       "array(['cage', 'free-range', ' conventional_broiler_house'], dtype=object)"
      ]
     },
     "execution_count": 72,
     "metadata": {},
     "output_type": "execute_result"
    }
   ],
   "source": [
    "meta_binary_genome_info['Housing'].unique()"
   ]
  },
  {
   "cell_type": "code",
   "execution_count": 73,
   "id": "e7555aa1",
   "metadata": {},
   "outputs": [],
   "source": [
    "def condition_on_Housing(s):\n",
    "#     'cage', 'free-range', ' conventional_broiler_house'):\n",
    "    if 'free-range' in s['Housing']:\n",
    "        return 'free-range'\n",
    "    else:\n",
    "        return 'housed'"
   ]
  },
  {
   "cell_type": "code",
   "execution_count": 74,
   "id": "cfc93f0e",
   "metadata": {},
   "outputs": [],
   "source": [
    "meta_binary_genome_info['Housing_type'] = meta_binary_genome_info.apply(condition_on_Housing, axis=1)"
   ]
  },
  {
   "cell_type": "code",
   "execution_count": 76,
   "id": "6b2b931c",
   "metadata": {},
   "outputs": [],
   "source": [
    "statistical_housing_genomes = stat_diff(meta_binary_genome_info, 'Housing_type', \n",
    "                                        'free-range', 'housed', alpha=0.05)"
   ]
  },
  {
   "cell_type": "code",
   "execution_count": 77,
   "id": "947ccb64",
   "metadata": {},
   "outputs": [
    {
     "data": {
      "text/plain": [
       "{}"
      ]
     },
     "execution_count": 77,
     "metadata": {},
     "output_type": "execute_result"
    }
   ],
   "source": [
    "statistical_housing_genomes"
   ]
  },
  {
   "cell_type": "markdown",
   "id": "b4b70ad7",
   "metadata": {},
   "source": [
    "#### Difference in pooled vs individual replica "
   ]
  },
  {
   "cell_type": "code",
   "execution_count": null,
   "id": "1825372a",
   "metadata": {},
   "outputs": [],
   "source": [
    "meta_binary_genome_info['Sample.replicate'].unique()"
   ]
  },
  {
   "cell_type": "code",
   "execution_count": null,
   "id": "e0129c99",
   "metadata": {},
   "outputs": [],
   "source": [
    "def condition_on_replicate(s):\n",
    "#     'cage', 'free-range', ' conventional_broiler_house'):\n",
    "    if 'pooled' in s['Sample.replicate']:\n",
    "        return 'pooled'\n",
    "    else:\n",
    "        return 'single_replicate'"
   ]
  },
  {
   "cell_type": "code",
   "execution_count": null,
   "id": "414ad9c3",
   "metadata": {},
   "outputs": [],
   "source": [
    "meta_binary_genome_info['replicate_type'] = meta_binary_genome_info.apply(condition_on_replicate, axis=1)"
   ]
  },
  {
   "cell_type": "code",
   "execution_count": null,
   "id": "fe411277",
   "metadata": {},
   "outputs": [],
   "source": [
    "significant_diff_replicate_type = stat_diff(meta_binary_genome_info, 'replicate_type', \n",
    "                                            'pooled', 'single_replicate', alpha=0.05, method='fisher')"
   ]
  },
  {
   "cell_type": "code",
   "execution_count": null,
   "id": "36dbf9a5",
   "metadata": {},
   "outputs": [],
   "source": [
    "significant_diff_replicate_type"
   ]
  },
  {
   "cell_type": "markdown",
   "id": "a4d8676f",
   "metadata": {},
   "source": [
    "results before adjusting for p values\n",
    "\n",
    "{'GCF_000159355.1_ASM15935v1_genomic.fna': RanksumsResult(statistic=2.5825745817022296, pvalue=0.009806616350195418),\n",
    " 'GCF_000159435.1_ASM15943v1_genomic.fna': RanksumsResult(statistic=2.1609297520365596, pvalue=0.030700766246158417),\n",
    " 'GCF_001435955.1_ASM143595v1_genomic.fna': RanksumsResult(statistic=3.4996520862250624, pvalue=0.0004658657645859117),\n",
    " 'GCF_005405465.1_ASM540546v1_genomic.fna': RanksumsResult(statistic=2.2030942350031264, pvalue=0.027588107445987248),\n",
    " 'S28C2674.fna': RanksumsResult(statistic=-2.139847510553276, pvalue=0.03236709220632542),\n",
    " 'S2C205.fna': RanksumsResult(statistic=2.0449774238785, pvalue=0.040857083895312285),\n",
    " 'S2C3320.fna': RanksumsResult(statistic=2.066059665361784, pvalue=0.038822846144609124),\n",
    " 'S5C1113.fna': RanksumsResult(statistic=2.487704495027454, pvalue=0.01285705135032739)}"
   ]
  },
  {
   "cell_type": "markdown",
   "id": "344f6edf",
   "metadata": {},
   "source": [
    "In 8 cases there were statistical evidence for significant difference in the distribution of a genome based on replicate type - 8 genomes were statistically found more in pooled than single replicates.  only one after adjusted p values "
   ]
  },
  {
   "cell_type": "code",
   "execution_count": null,
   "id": "d3ca6822",
   "metadata": {},
   "outputs": [],
   "source": [
    "pd.crosstab(meta_binary_genome_info['replicate_type'],\n",
    "            meta_binary_genome_info['GCF_005405465.1_']).plot.bar(stacked=True)\n"
   ]
  },
  {
   "cell_type": "markdown",
   "id": "43e6a6c6",
   "metadata": {},
   "source": [
    "Most of the pooled data was from europe - so checking to see how many of the significant genomes were also significantly from europe. "
   ]
  },
  {
   "cell_type": "code",
   "execution_count": null,
   "id": "b7d294a6",
   "metadata": {},
   "outputs": [],
   "source": [
    "pooled_set = set(list(significant_diff_replicate_type.keys()))\n",
    "europe_set = set((list(mostly_present_europe.keys())))\n",
    "\n",
    "pooled_set - europe_set"
   ]
  },
  {
   "cell_type": "markdown",
   "id": "021a0216",
   "metadata": {},
   "source": [
    "Out of 8 genomes that were more present in pooled samples 6 of them are more present in europe. \n",
    "\n",
    "To look pooled vs single replicate without region factoring we look at only farm china2, china6, china1, and china3 which is 9 pooled and 5 individual replicates from Hunan and Beijing in China"
   ]
  },
  {
   "cell_type": "code",
   "execution_count": null,
   "id": "12754a01",
   "metadata": {},
   "outputs": [],
   "source": [
    "replicate_type_china = meta_binary_genome_info[meta_binary_genome_info['farm_ID'].isin(['china2', 'china1', 'china3', 'china6'])]"
   ]
  },
  {
   "cell_type": "code",
   "execution_count": null,
   "id": "21a13ea1",
   "metadata": {},
   "outputs": [],
   "source": [
    "significant_diff_replicate_type_china = stat_diff(replicate_type_china, 'replicate_type', 'pooled', 'single_replicate', alpha=0.05,method='fisher')"
   ]
  },
  {
   "cell_type": "code",
   "execution_count": null,
   "id": "55a1b03a",
   "metadata": {},
   "outputs": [],
   "source": [
    "significant_diff_replicate_type_china"
   ]
  },
  {
   "cell_type": "markdown",
   "id": "ee6ab436",
   "metadata": {},
   "source": [
    "Out of 14 genomes none were significantly different\n",
    "\n",
    "#### Difference in broiler vs layer"
   ]
  },
  {
   "cell_type": "code",
   "execution_count": null,
   "id": "b1d5441b",
   "metadata": {},
   "outputs": [],
   "source": [
    "meta_binary_genome_info['type'].unique()"
   ]
  },
  {
   "cell_type": "code",
   "execution_count": null,
   "id": "1c20858b",
   "metadata": {},
   "outputs": [],
   "source": [
    "significant_diff_type = stat_diff(meta_binary_genome_info, 'type', 'broiler', 'layer', alpha=0.05,method='fisher')"
   ]
  },
  {
   "cell_type": "code",
   "execution_count": null,
   "id": "e60504be",
   "metadata": {},
   "outputs": [],
   "source": [
    "significant_diff_type"
   ]
  },
  {
   "cell_type": "code",
   "execution_count": null,
   "id": "19b4cdac",
   "metadata": {},
   "outputs": [],
   "source": [
    "pd.crosstab(meta_binary_genome_info['type'],meta_binary_genome_info['S52C595.fna']).plot.bar(stacked=True)\n"
   ]
  },
  {
   "cell_type": "markdown",
   "id": "d097e77b",
   "metadata": {},
   "source": [
    "only two genomes have a significant difference between layers and broilers, with layers having the genome present in the most samples.  - zero after p value adjustment\n",
    "\n"
   ]
  },
  {
   "cell_type": "code",
   "execution_count": null,
   "id": "aa184a5b",
   "metadata": {},
   "outputs": [],
   "source": [
    "meta_binary_genome_info.to_csv('data56_related_files/metadata_out.tsv', index=False)"
   ]
  },
  {
   "cell_type": "markdown",
   "id": "3e1557d6",
   "metadata": {},
   "source": [
    "### Confidence intervals of Odds Ratio"
   ]
  },
  {
   "cell_type": "code",
   "execution_count": null,
   "id": "e55d125a",
   "metadata": {},
   "outputs": [],
   "source": [
    "def OR_CI(contingency_table):\n",
    "    a = contingency_table[0][0]\n",
    "   \n",
    "    \n",
    "    return CI"
   ]
  },
  {
   "cell_type": "code",
   "execution_count": null,
   "id": "0a85378c",
   "metadata": {},
   "outputs": [],
   "source": [
    "def confidence_interval(df, column, type1, type2, ref_genome= reference_genomes, method='fisher'):\n",
    "    \n",
    "    df1 = df[df[column] == type1]\n",
    "    df2 = df[df[column] == type2]\n",
    "    \n",
    "    genome_CI = {}\n",
    "    for genome in ref_genome:\n",
    "        contingency_table = create_contingency_table(df1, df2, genome, method)\n",
    "        \n",
    "        CI =  OR_CI(contingency_table)\n",
    "        \n",
    "        genome_CI[genome] = CI"
   ]
  },
  {
   "cell_type": "code",
   "execution_count": null,
   "id": "f4bad6fe",
   "metadata": {},
   "outputs": [],
   "source": [
    "confidence_interval(meta_binary_genome_info, 'region', 'europe', 'china')"
   ]
  },
  {
   "cell_type": "code",
   "execution_count": null,
   "id": "8b7dcc70",
   "metadata": {},
   "outputs": [],
   "source": []
  }
 ],
 "metadata": {
  "kernelspec": {
   "display_name": "Python 3 (ipykernel)",
   "language": "python",
   "name": "python3"
  },
  "language_info": {
   "codemirror_mode": {
    "name": "ipython",
    "version": 3
   },
   "file_extension": ".py",
   "mimetype": "text/x-python",
   "name": "python",
   "nbconvert_exporter": "python",
   "pygments_lexer": "ipython3",
   "version": "3.7.4"
  }
 },
 "nbformat": 4,
 "nbformat_minor": 5
}

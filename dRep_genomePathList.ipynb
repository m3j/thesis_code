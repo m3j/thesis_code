{
 "cells": [
  {
   "cell_type": "code",
   "execution_count": 1,
   "id": "8afd5ba6",
   "metadata": {},
   "outputs": [],
   "source": [
    "import numpy as np\n",
    "import pandas as pd"
   ]
  },
  {
   "cell_type": "code",
   "execution_count": 27,
   "id": "53d1eec9",
   "metadata": {},
   "outputs": [],
   "source": [
    "path = '/home/projects/dtu_00009/data/chicken_data_TM/2_omgang/vamb_test/vamb_output/bin/'\n"
   ]
  },
  {
   "cell_type": "code",
   "execution_count": 28,
   "id": "ca026bf1",
   "metadata": {},
   "outputs": [],
   "source": [
    "fastaList = ['S1C1098.fna', 'S1C1493.fna', 'S1C1740.fna', 'S1C1991.fna', 'S1C2980.fna', 'S1C445.fna',  'S2C1301.fna', 'S2C1786.fna', 'S2C2600.fna', 'S1C1220.fna', \n",
    "'S1C1596.fna', 'S1C1787.fna', 'S1C2006.fna', 'S1C2993.fna', 'S1C662.fna',  'S2C1487.fna', 'S2C1892.fna', 'S2C956.fna',  'S3C1593.fna',\n",
    "'S1C1301.fna', 'S1C1663.fna', 'S1C1808.fna', 'S1C2126.fna', 'S1C304.fna',  'S1C66.fna',  'S2C1544.fna', 'S2C1917.fna', 'S3C1301.fna', 'S3C1595.fna', \n",
    "'S1C1349.fna', 'S1C1665.fna', 'S1C1814.fna', 'S1C2195.fna', 'S1C3080.fna', 'S1C676.fna',  'S2C1567.fna', 'S2C2006.fna', 'S3C1463.fna', 'S3C1631.fna', \n",
    "'S1C1381.fna', 'S1C1676.fna', 'S1C1826.fna', 'S1C2262.fna', 'S1C3957.fna', 'S1C776.fna',  'S2C1639.fna', 'S2C2012.fna', 'S3C1497.fna', 'S3C1668.fna',\n",
    "'S1C1421.fna', 'S1C1692.fna', 'S1C1849.fna', 'S1C2341.fna', 'S1C3994.fna', 'S1C7928.fna', 'S2C1653.fna', 'S2C2088.fna', 'S3C1498.fna', 'S3C1767.fna',\n",
    "'S1C14734.fna', 'S1C1723.fna', 'S1C1938.fna', 'S1C2610.fna', 'S1C409.fna',  'S2C1193.fna', 'S2C1668.fna', 'S2C2124.fna', 'S3C1513.fna', 'S3C1892.fna',\n",
    "'S3C2065.fna', 'S3C2178.fna', 'S3C2448.fna', 'S3C1544.fna']"
   ]
  },
  {
   "cell_type": "code",
   "execution_count": 29,
   "id": "4a3e8df3",
   "metadata": {},
   "outputs": [],
   "source": [
    "genomePathList = [path + s for s in fastaList]"
   ]
  },
  {
   "cell_type": "code",
   "execution_count": 30,
   "id": "b3846bc2",
   "metadata": {},
   "outputs": [
    {
     "data": {
      "text/plain": [
       "['/home/projects/dtu_00009/data/chicken_data_TM/2_omgang/vamb_test/vamb_output/bin/S1C1098.fna',\n",
       " '/home/projects/dtu_00009/data/chicken_data_TM/2_omgang/vamb_test/vamb_output/bin/S1C1493.fna',\n",
       " '/home/projects/dtu_00009/data/chicken_data_TM/2_omgang/vamb_test/vamb_output/bin/S1C1740.fna',\n",
       " '/home/projects/dtu_00009/data/chicken_data_TM/2_omgang/vamb_test/vamb_output/bin/S1C1991.fna',\n",
       " '/home/projects/dtu_00009/data/chicken_data_TM/2_omgang/vamb_test/vamb_output/bin/S1C2980.fna',\n",
       " '/home/projects/dtu_00009/data/chicken_data_TM/2_omgang/vamb_test/vamb_output/bin/S1C445.fna',\n",
       " '/home/projects/dtu_00009/data/chicken_data_TM/2_omgang/vamb_test/vamb_output/bin/S2C1301.fna',\n",
       " '/home/projects/dtu_00009/data/chicken_data_TM/2_omgang/vamb_test/vamb_output/bin/S2C1786.fna',\n",
       " '/home/projects/dtu_00009/data/chicken_data_TM/2_omgang/vamb_test/vamb_output/bin/S2C2600.fna',\n",
       " '/home/projects/dtu_00009/data/chicken_data_TM/2_omgang/vamb_test/vamb_output/bin/S1C1220.fna',\n",
       " '/home/projects/dtu_00009/data/chicken_data_TM/2_omgang/vamb_test/vamb_output/bin/S1C1596.fna',\n",
       " '/home/projects/dtu_00009/data/chicken_data_TM/2_omgang/vamb_test/vamb_output/bin/S1C1787.fna',\n",
       " '/home/projects/dtu_00009/data/chicken_data_TM/2_omgang/vamb_test/vamb_output/bin/S1C2006.fna',\n",
       " '/home/projects/dtu_00009/data/chicken_data_TM/2_omgang/vamb_test/vamb_output/bin/S1C2993.fna',\n",
       " '/home/projects/dtu_00009/data/chicken_data_TM/2_omgang/vamb_test/vamb_output/bin/S1C662.fna',\n",
       " '/home/projects/dtu_00009/data/chicken_data_TM/2_omgang/vamb_test/vamb_output/bin/S2C1487.fna',\n",
       " '/home/projects/dtu_00009/data/chicken_data_TM/2_omgang/vamb_test/vamb_output/bin/S2C1892.fna',\n",
       " '/home/projects/dtu_00009/data/chicken_data_TM/2_omgang/vamb_test/vamb_output/bin/S2C956.fna',\n",
       " '/home/projects/dtu_00009/data/chicken_data_TM/2_omgang/vamb_test/vamb_output/bin/S3C1593.fna',\n",
       " '/home/projects/dtu_00009/data/chicken_data_TM/2_omgang/vamb_test/vamb_output/bin/S1C1301.fna',\n",
       " '/home/projects/dtu_00009/data/chicken_data_TM/2_omgang/vamb_test/vamb_output/bin/S1C1663.fna',\n",
       " '/home/projects/dtu_00009/data/chicken_data_TM/2_omgang/vamb_test/vamb_output/bin/S1C1808.fna',\n",
       " '/home/projects/dtu_00009/data/chicken_data_TM/2_omgang/vamb_test/vamb_output/bin/S1C2126.fna',\n",
       " '/home/projects/dtu_00009/data/chicken_data_TM/2_omgang/vamb_test/vamb_output/bin/S1C304.fna',\n",
       " '/home/projects/dtu_00009/data/chicken_data_TM/2_omgang/vamb_test/vamb_output/bin/S1C66.fna',\n",
       " '/home/projects/dtu_00009/data/chicken_data_TM/2_omgang/vamb_test/vamb_output/bin/S2C1544.fna',\n",
       " '/home/projects/dtu_00009/data/chicken_data_TM/2_omgang/vamb_test/vamb_output/bin/S2C1917.fna',\n",
       " '/home/projects/dtu_00009/data/chicken_data_TM/2_omgang/vamb_test/vamb_output/bin/S3C1301.fna',\n",
       " '/home/projects/dtu_00009/data/chicken_data_TM/2_omgang/vamb_test/vamb_output/bin/S3C1595.fna',\n",
       " '/home/projects/dtu_00009/data/chicken_data_TM/2_omgang/vamb_test/vamb_output/bin/S1C1349.fna',\n",
       " '/home/projects/dtu_00009/data/chicken_data_TM/2_omgang/vamb_test/vamb_output/bin/S1C1665.fna',\n",
       " '/home/projects/dtu_00009/data/chicken_data_TM/2_omgang/vamb_test/vamb_output/bin/S1C1814.fna',\n",
       " '/home/projects/dtu_00009/data/chicken_data_TM/2_omgang/vamb_test/vamb_output/bin/S1C2195.fna',\n",
       " '/home/projects/dtu_00009/data/chicken_data_TM/2_omgang/vamb_test/vamb_output/bin/S1C3080.fna',\n",
       " '/home/projects/dtu_00009/data/chicken_data_TM/2_omgang/vamb_test/vamb_output/bin/S1C676.fna',\n",
       " '/home/projects/dtu_00009/data/chicken_data_TM/2_omgang/vamb_test/vamb_output/bin/S2C1567.fna',\n",
       " '/home/projects/dtu_00009/data/chicken_data_TM/2_omgang/vamb_test/vamb_output/bin/S2C2006.fna',\n",
       " '/home/projects/dtu_00009/data/chicken_data_TM/2_omgang/vamb_test/vamb_output/bin/S3C1463.fna',\n",
       " '/home/projects/dtu_00009/data/chicken_data_TM/2_omgang/vamb_test/vamb_output/bin/S3C1631.fna',\n",
       " '/home/projects/dtu_00009/data/chicken_data_TM/2_omgang/vamb_test/vamb_output/bin/S1C1381.fna',\n",
       " '/home/projects/dtu_00009/data/chicken_data_TM/2_omgang/vamb_test/vamb_output/bin/S1C1676.fna',\n",
       " '/home/projects/dtu_00009/data/chicken_data_TM/2_omgang/vamb_test/vamb_output/bin/S1C1826.fna',\n",
       " '/home/projects/dtu_00009/data/chicken_data_TM/2_omgang/vamb_test/vamb_output/bin/S1C2262.fna',\n",
       " '/home/projects/dtu_00009/data/chicken_data_TM/2_omgang/vamb_test/vamb_output/bin/S1C3957.fna',\n",
       " '/home/projects/dtu_00009/data/chicken_data_TM/2_omgang/vamb_test/vamb_output/bin/S1C776.fna',\n",
       " '/home/projects/dtu_00009/data/chicken_data_TM/2_omgang/vamb_test/vamb_output/bin/S2C1639.fna',\n",
       " '/home/projects/dtu_00009/data/chicken_data_TM/2_omgang/vamb_test/vamb_output/bin/S2C2012.fna',\n",
       " '/home/projects/dtu_00009/data/chicken_data_TM/2_omgang/vamb_test/vamb_output/bin/S3C1497.fna',\n",
       " '/home/projects/dtu_00009/data/chicken_data_TM/2_omgang/vamb_test/vamb_output/bin/S3C1668.fna',\n",
       " '/home/projects/dtu_00009/data/chicken_data_TM/2_omgang/vamb_test/vamb_output/bin/S1C1421.fna',\n",
       " '/home/projects/dtu_00009/data/chicken_data_TM/2_omgang/vamb_test/vamb_output/bin/S1C1692.fna',\n",
       " '/home/projects/dtu_00009/data/chicken_data_TM/2_omgang/vamb_test/vamb_output/bin/S1C1849.fna',\n",
       " '/home/projects/dtu_00009/data/chicken_data_TM/2_omgang/vamb_test/vamb_output/bin/S1C2341.fna',\n",
       " '/home/projects/dtu_00009/data/chicken_data_TM/2_omgang/vamb_test/vamb_output/bin/S1C3994.fna',\n",
       " '/home/projects/dtu_00009/data/chicken_data_TM/2_omgang/vamb_test/vamb_output/bin/S1C7928.fna',\n",
       " '/home/projects/dtu_00009/data/chicken_data_TM/2_omgang/vamb_test/vamb_output/bin/S2C1653.fna',\n",
       " '/home/projects/dtu_00009/data/chicken_data_TM/2_omgang/vamb_test/vamb_output/bin/S2C2088.fna',\n",
       " '/home/projects/dtu_00009/data/chicken_data_TM/2_omgang/vamb_test/vamb_output/bin/S3C1498.fna',\n",
       " '/home/projects/dtu_00009/data/chicken_data_TM/2_omgang/vamb_test/vamb_output/bin/S3C1767.fna',\n",
       " '/home/projects/dtu_00009/data/chicken_data_TM/2_omgang/vamb_test/vamb_output/bin/S1C14734.fna',\n",
       " '/home/projects/dtu_00009/data/chicken_data_TM/2_omgang/vamb_test/vamb_output/bin/S1C1723.fna',\n",
       " '/home/projects/dtu_00009/data/chicken_data_TM/2_omgang/vamb_test/vamb_output/bin/S1C1938.fna',\n",
       " '/home/projects/dtu_00009/data/chicken_data_TM/2_omgang/vamb_test/vamb_output/bin/S1C2610.fna',\n",
       " '/home/projects/dtu_00009/data/chicken_data_TM/2_omgang/vamb_test/vamb_output/bin/S1C409.fna',\n",
       " '/home/projects/dtu_00009/data/chicken_data_TM/2_omgang/vamb_test/vamb_output/bin/S2C1193.fna',\n",
       " '/home/projects/dtu_00009/data/chicken_data_TM/2_omgang/vamb_test/vamb_output/bin/S2C1668.fna',\n",
       " '/home/projects/dtu_00009/data/chicken_data_TM/2_omgang/vamb_test/vamb_output/bin/S2C2124.fna',\n",
       " '/home/projects/dtu_00009/data/chicken_data_TM/2_omgang/vamb_test/vamb_output/bin/S3C1513.fna',\n",
       " '/home/projects/dtu_00009/data/chicken_data_TM/2_omgang/vamb_test/vamb_output/bin/S3C1892.fna',\n",
       " '/home/projects/dtu_00009/data/chicken_data_TM/2_omgang/vamb_test/vamb_output/bin/S3C2065.fna',\n",
       " '/home/projects/dtu_00009/data/chicken_data_TM/2_omgang/vamb_test/vamb_output/bin/S3C2178.fna',\n",
       " '/home/projects/dtu_00009/data/chicken_data_TM/2_omgang/vamb_test/vamb_output/bin/S3C2448.fna',\n",
       " '/home/projects/dtu_00009/data/chicken_data_TM/2_omgang/vamb_test/vamb_output/bin/S3C1544.fna']"
      ]
     },
     "execution_count": 30,
     "metadata": {},
     "output_type": "execute_result"
    }
   ],
   "source": [
    "genomePathList"
   ]
  },
  {
   "cell_type": "code",
   "execution_count": 31,
   "id": "2c9d6096",
   "metadata": {},
   "outputs": [],
   "source": [
    "df = pd.DataFrame(genomePathList)"
   ]
  },
  {
   "cell_type": "code",
   "execution_count": 33,
   "id": "29de6ca5",
   "metadata": {},
   "outputs": [],
   "source": [
    "df.to_csv('genomePathList', index = False, header = False)"
   ]
  },
  {
   "cell_type": "code",
   "execution_count": null,
   "id": "e76abc84",
   "metadata": {},
   "outputs": [],
   "source": []
  }
 ],
 "metadata": {
  "kernelspec": {
   "display_name": "Python 3 (ipykernel)",
   "language": "python",
   "name": "python3"
  },
  "language_info": {
   "codemirror_mode": {
    "name": "ipython",
    "version": 3
   },
   "file_extension": ".py",
   "mimetype": "text/x-python",
   "name": "python",
   "nbconvert_exporter": "python",
   "pygments_lexer": "ipython3",
   "version": "3.7.4"
  }
 },
 "nbformat": 4,
 "nbformat_minor": 5
}

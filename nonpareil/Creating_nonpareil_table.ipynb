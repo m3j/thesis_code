{
 "cells": [
  {
   "cell_type": "code",
   "execution_count": 4,
   "id": "4393d310",
   "metadata": {},
   "outputs": [
    {
     "name": "stdout",
     "output_type": "stream",
     "text": [
      "/usr/local/opt/python/bin/python3.7\n"
     ]
    }
   ],
   "source": [
    "#import sys\n",
    "# print(sys.executable) "
   ]
  },
  {
   "cell_type": "code",
   "execution_count": 5,
   "id": "5d66f043",
   "metadata": {},
   "outputs": [
    {
     "name": "stdout",
     "output_type": "stream",
     "text": [
      "Collecting pandas\n",
      "\u001b[?25l  Downloading https://files.pythonhosted.org/packages/cb/4d/9df2841432757b45d5b9973d85c982d4984aa2baea7ff48a905baa5fc781/pandas-1.3.3-cp37-cp37m-macosx_10_9_x86_64.whl (11.3MB)\n",
      "\u001b[K     |████████████████████████████████| 11.3MB 7.7MB/s eta 0:00:01    |███████████████████▌            | 6.9MB 4.4MB/s eta 0:00:01\n",
      "\u001b[?25hCollecting numpy>=1.17.3 (from pandas)\n",
      "\u001b[?25l  Downloading https://files.pythonhosted.org/packages/e0/54/49206c6aba7d0e7d5a6e2f5b6760a00e35bb705e9d2be007be0a16e4ba40/numpy-1.21.2-cp37-cp37m-macosx_10_9_x86_64.whl (16.9MB)\n",
      "\u001b[K     |████████████████████████████████| 16.9MB 7.8MB/s eta 0:00:01\n",
      "\u001b[?25hRequirement already satisfied: pytz>=2017.3 in /usr/local/lib/python3.7/site-packages (from pandas) (2021.1)\n",
      "Requirement already satisfied: python-dateutil>=2.7.3 in /usr/local/lib/python3.7/site-packages (from pandas) (2.8.2)\n",
      "Requirement already satisfied: six>=1.5 in /usr/local/lib/python3.7/site-packages (from python-dateutil>=2.7.3->pandas) (1.16.0)\n",
      "Installing collected packages: numpy, pandas\n",
      "Successfully installed numpy-1.21.2 pandas-1.3.3\n"
     ]
    }
   ],
   "source": [
    "#! /usr/local/opt/python/bin/python3.7 -m pip install pandas"
   ]
  },
  {
   "cell_type": "code",
   "execution_count": 66,
   "id": "592c2675",
   "metadata": {},
   "outputs": [],
   "source": [
    "import pandas as pd\n",
    "import numpy as np\n"
   ]
  },
  {
   "cell_type": "code",
   "execution_count": 98,
   "id": "e31122d2",
   "metadata": {},
   "outputs": [],
   "source": [
    "#for the standart input parameters for nonpareil (L 50)\n",
    "f = open(\"nonpareil/nonpareil_standard/files.list\", \"r\")\n",
    "files = f.read()\n",
    "\n",
    "filePath = 'nonpareil_standard/'\n",
    "filename = 'nonpareil_table_standard.csv'\n"
   ]
  },
  {
   "cell_type": "code",
   "execution_count": 100,
   "id": "b1eef675",
   "metadata": {},
   "outputs": [],
   "source": [
    "#for the -L 60 output \n",
    "f = open(\"nonpareil/nonpareil_60/files.list\", \"r\")\n",
    "files = f.read()\n",
    "filePath = 'nonpareil_60/'\n",
    "filename = 'nonpareil_table_60.csv'"
   ]
  },
  {
   "cell_type": "code",
   "execution_count": 101,
   "id": "f9a0338c",
   "metadata": {},
   "outputs": [
    {
     "data": {
      "text/plain": [
       "str"
      ]
     },
     "execution_count": 101,
     "metadata": {},
     "output_type": "execute_result"
    }
   ],
   "source": [
    "type(files)"
   ]
  },
  {
   "cell_type": "code",
   "execution_count": 102,
   "id": "1bfca671",
   "metadata": {},
   "outputs": [],
   "source": [
    "fileList = files.split(\"\\n\")"
   ]
  },
  {
   "cell_type": "code",
   "execution_count": 103,
   "id": "935f8a32",
   "metadata": {},
   "outputs": [
    {
     "name": "stdout",
     "output_type": "stream",
     "text": [
      "['ERR2241647_1.fastq.npo', 'ERR2241649_1.fastq.npo', 'ERR2241651_1.fastq.npo', 'ERR2241653_1.fastq.npo', 'ERR2241655_1.fastq.npo', 'ERR2241848_1.fastq.npo', 'ERR2241849_1.fastq.npo', 'ERR2241855_1.fastq.npo', 'ERR2241856_1.fastq.npo', 'ERR2241860_1.fastq.npo', 'ERR2241887_1.fastq.npo', 'ERR2241890_1.fastq.npo', 'ERR2241891_1.fastq.npo', 'ERR2241893_1.fastq.npo', 'ERR2241899_1.fastq.npo', 'ERR2241919_1.fastq.npo', 'ERR2241923_1.fastq.npo', 'ERR2241925_1.fastq.npo', 'ERR2241927_1.fastq.npo', 'ERR2241945_1.fastq.npo', 'SRR6323088_1.fastq.npo', 'SRR6323134_1.fastq.npo', 'SRR6323167_1.fastq.npo', 'SRR6323172_1.fastq.npo', 'SRR6323197_1.fastq.npo', 'SRR6323200_1.fastq.npo', 'SRR6323205_1.fastq.npo', 'SRR6323243_1.fastq.npo', 'SRR6323244_1.fastq.npo', 'SRR6323247_1.fastq.npo', 'SRR6323249_1.fastq.npo', 'SRR6323250_1.fastq.npo', 'SRR6323252_1.fastq.npo', 'SRR6323295_1.fastq.npo', 'SRR6323296_1.fastq.npo', 'SRR6323338_1.fastq.npo', 'SRR6323340_1.fastq.npo', 'SRR6323343_1.fastq.npo', 'SRR6323350_1.fastq.npo', 'SRR6323367_1.fastq.npo', 'SRR6323384_1.fastq.npo', 'SRR6323414_1.fastq.npo', 'SRR6323449_1.fastq.npo', 'SRR6323493_1.fastq.npo', 'SRR6323502_1.fastq.npo', 'SRR6323503_1.fastq.npo', 'SRR6323514_1.fastq.npo', 'SRR6323516_1.fastq.npo', 'SRR6323530_1.fastq.npo', 'SRR6323550_1.fastq.npo', 'SRR6323556_1.fastq.npo', 'SRR9113691_1.fastq.npo', 'SRR9113706_1.fastq.npo', 'SRR9113707_1.fastq.npo', 'SRR9113725_1.fastq.npo', 'SRR9113737_1.fastq.npo', '']\n"
     ]
    }
   ],
   "source": [
    "print(fileList)"
   ]
  },
  {
   "cell_type": "code",
   "execution_count": 104,
   "id": "9d6a846b",
   "metadata": {},
   "outputs": [],
   "source": [
    "sampleList = [s.replace(\"_1.fastq.npo\", \"\") for s in filesList ]\n",
    "\n",
    "# print(sampleList)\n"
   ]
  },
  {
   "cell_type": "code",
   "execution_count": 105,
   "id": "4321d7a3",
   "metadata": {},
   "outputs": [],
   "source": [
    "filesListPath = [filePath + s for s in filesList]\n",
    "# print(filesListPath)"
   ]
  },
  {
   "cell_type": "code",
   "execution_count": 106,
   "id": "2698c9d1",
   "metadata": {},
   "outputs": [],
   "source": [
    "files_samples = list(zip(filesListPath, sampleList))"
   ]
  },
  {
   "cell_type": "code",
   "execution_count": 107,
   "id": "2ca7268e",
   "metadata": {},
   "outputs": [
    {
     "data": {
      "text/plain": [
       "('nonpareil_60/', '')"
      ]
     },
     "execution_count": 107,
     "metadata": {},
     "output_type": "execute_result"
    }
   ],
   "source": [
    "# removes the last empty item. \n",
    "files_samples.pop()"
   ]
  },
  {
   "cell_type": "code",
   "execution_count": 108,
   "id": "11d8597b",
   "metadata": {},
   "outputs": [],
   "source": [
    "df = pd.DataFrame(files_samples)"
   ]
  },
  {
   "cell_type": "code",
   "execution_count": 109,
   "id": "74e96875",
   "metadata": {},
   "outputs": [],
   "source": [
    "df[\"col\"] = np.nan"
   ]
  },
  {
   "cell_type": "code",
   "execution_count": 110,
   "id": "0bbf5de6",
   "metadata": {},
   "outputs": [],
   "source": [
    "df.columns = ['file', 'name', 'col']\n",
    "\n",
    "# df2 = df.rename({'a': 'X', 'b': 'Y'}, axis=1)"
   ]
  },
  {
   "cell_type": "code",
   "execution_count": 111,
   "id": "0dfcedad",
   "metadata": {},
   "outputs": [],
   "source": [
    "df.to_csv(filename, index=False)"
   ]
  }
 ],
 "metadata": {
  "kernelspec": {
   "display_name": "Python 3 (ipykernel)",
   "language": "python",
   "name": "python3"
  },
  "language_info": {
   "codemirror_mode": {
    "name": "ipython",
    "version": 3
   },
   "file_extension": ".py",
   "mimetype": "text/x-python",
   "name": "python",
   "nbconvert_exporter": "python",
   "pygments_lexer": "ipython3",
   "version": "3.7.4"
  }
 },
 "nbformat": 4,
 "nbformat_minor": 5
}

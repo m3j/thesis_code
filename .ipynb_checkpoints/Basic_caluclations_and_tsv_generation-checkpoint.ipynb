{
 "cells": [
  {
   "cell_type": "code",
   "execution_count": 4,
   "id": "13b7bc4b",
   "metadata": {},
   "outputs": [],
   "source": [
    "import pandas as pd \n"
   ]
  },
  {
   "cell_type": "code",
   "execution_count": 13,
   "id": "48cbf1a1",
   "metadata": {},
   "outputs": [],
   "source": [
    "f = open(\"count_singles.list\", \"r\")\n",
    "file = f.read()"
   ]
  },
  {
   "cell_type": "markdown",
   "id": "086a76d9",
   "metadata": {},
   "source": [
    "#### counting the numeric values in a list "
   ]
  },
  {
   "cell_type": "code",
   "execution_count": 23,
   "id": "0f6761ca",
   "metadata": {},
   "outputs": [],
   "source": [
    "fileList = file.split(\"\\n\")"
   ]
  },
  {
   "cell_type": "code",
   "execution_count": 24,
   "id": "e4a3eb8f",
   "metadata": {},
   "outputs": [
    {
     "data": {
      "text/plain": [
       "['5816928',\n",
       " 'ERR2241647_singles.fastq.gz',\n",
       " '5511684',\n",
       " 'ERR2241649_singles.fastq.gz',\n",
       " '5456616',\n",
       " 'ERR2241651_singles.fastq.gz',\n",
       " '4737572',\n",
       " 'ERR2241653_singles.fastq.gz',\n",
       " '4206028',\n",
       " 'ERR2241655_singles.fastq.gz',\n",
       " '7124628',\n",
       " 'ERR2241848_singles.fastq.gz',\n",
       " '7252868',\n",
       " 'ERR2241849_singles.fastq.gz',\n",
       " '6843020',\n",
       " 'ERR2241855_singles.fastq.gz',\n",
       " '4422648',\n",
       " 'ERR2241856_singles.fastq.gz',\n",
       " '8208244',\n",
       " 'ERR2241860_singles.fastq.gz',\n",
       " '7903092',\n",
       " 'ERR2241887_singles.fastq.gz',\n",
       " '8137808',\n",
       " 'ERR2241890_singles.fastq.gz',\n",
       " '5433360',\n",
       " 'ERR2241891_singles.fastq.gz',\n",
       " '7307688',\n",
       " 'ERR2241893_singles.fastq.gz',\n",
       " '8244364',\n",
       " 'ERR2241899_singles.fastq.gz',\n",
       " '7276768',\n",
       " 'ERR2241919_singles.fastq.gz',\n",
       " '6842380',\n",
       " 'ERR2241923_singles.fastq.gz',\n",
       " '8558956',\n",
       " 'ERR2241925_singles.fastq.gz',\n",
       " '3346236',\n",
       " 'ERR2241927_singles.fastq.gz',\n",
       " '4652520',\n",
       " '753432',\n",
       " 'SRR9113691_singles.fastq.gz',\n",
       " '564076',\n",
       " 'SRR9113706_singles.fastq.gz',\n",
       " '540152',\n",
       " 'SRR9113707_singles.fastq.gz',\n",
       " '680452',\n",
       " 'SRR9113725_singles.fastq.gz',\n",
       " '663864',\n",
       " 'SRR9113737_singles.fastq.gz']"
      ]
     },
     "execution_count": 24,
     "metadata": {},
     "output_type": "execute_result"
    }
   ],
   "source": [
    "fileList"
   ]
  },
  {
   "cell_type": "code",
   "execution_count": 29,
   "id": "c6e9806b",
   "metadata": {},
   "outputs": [],
   "source": [
    "# removing items the is not numeric \n",
    "for l in fileList:\n",
    "    if l.isnumeric()==False:\n",
    "        fileList.remove(l)"
   ]
  },
  {
   "cell_type": "code",
   "execution_count": 36,
   "id": "6f2c5440",
   "metadata": {},
   "outputs": [],
   "source": [
    "sum = []\n",
    "for n in fileList:\n",
    "    sum += n"
   ]
  },
  {
   "cell_type": "code",
   "execution_count": null,
   "id": "8c7995b7",
   "metadata": {},
   "outputs": [],
   "source": []
  }
 ],
 "metadata": {
  "kernelspec": {
   "display_name": "Python 3 (ipykernel)",
   "language": "python",
   "name": "python3"
  },
  "language_info": {
   "codemirror_mode": {
    "name": "ipython",
    "version": 3
   },
   "file_extension": ".py",
   "mimetype": "text/x-python",
   "name": "python",
   "nbconvert_exporter": "python",
   "pygments_lexer": "ipython3",
   "version": "3.7.4"
  }
 },
 "nbformat": 4,
 "nbformat_minor": 5
}
